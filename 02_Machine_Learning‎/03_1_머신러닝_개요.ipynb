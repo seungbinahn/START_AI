{
  "nbformat": 4,
  "nbformat_minor": 0,
  "metadata": {
    "colab": {
      "name": "03_1_머신러닝 개요.ipynb",
      "provenance": [],
      "collapsed_sections": [],
      "toc_visible": true,
      "authorship_tag": "ABX9TyM4AzWWvLuWSLMUFmSLPhNS",
      "include_colab_link": true
    },
    "kernelspec": {
      "name": "python3",
      "display_name": "Python 3"
    }
  },
  "cells": [
    {
      "cell_type": "markdown",
      "metadata": {
        "id": "view-in-github",
        "colab_type": "text"
      },
      "source": [
        "<a href=\"https://colab.research.google.com/github/seungbinahn/START_AI/blob/master/02_Machine_Learning%E2%80%8E/03_1_%EB%A8%B8%EC%8B%A0%EB%9F%AC%EB%8B%9D_%EA%B0%9C%EC%9A%94.ipynb\" target=\"_parent\"><img src=\"https://colab.research.google.com/assets/colab-badge.svg\" alt=\"Open In Colab\"/></a>"
      ]
    },
    {
      "cell_type": "markdown",
      "metadata": {
        "id": "tS4tL8eL6nmQ",
        "colab_type": "text"
      },
      "source": [
        "# 인공지능 개요\n",
        "* Narrow AI : 좁은 영역에서 특정 task만 가능 - 정확도는 인간을 넘어섬\n",
        "* General Ai : 하나의 task에서 습득한 지식을 여러 task에 적용 가능\n",
        "* Super Ai : 인간을 뛰어넘은 성능을 보여주는 인공지능\n",
        "\n",
        "## 머신러닝\n",
        "* 수많은 데이터로부터 기계가 학습"
      ]
    },
    {
      "cell_type": "markdown",
      "metadata": {
        "id": "nW48LO2IHdER",
        "colab_type": "text"
      },
      "source": [
        "# Iris(붓꽃) 분석"
      ]
    },
    {
      "cell_type": "markdown",
      "metadata": {
        "id": "nvL9218iHvFG",
        "colab_type": "text"
      },
      "source": [
        "## Iris의 특징\n",
        "* Petal(꽃잎)의 길이,넓이\n",
        "* Sepal(꽃받침)의 길이, 넓이"
      ]
    },
    {
      "cell_type": "markdown",
      "metadata": {
        "id": "uD8_K5QOID9I",
        "colab_type": "text"
      },
      "source": [
        "## 임포트"
      ]
    },
    {
      "cell_type": "code",
      "metadata": {
        "id": "jPCwPdM760ko",
        "colab_type": "code",
        "colab": {
          "base_uri": "https://localhost:8080/",
          "height": 35
        },
        "outputId": "69d5c3bd-a365-43a9-80ea-1a0eca662794"
      },
      "source": [
        "# 사이킷런 추가\n",
        "import sklearn\n",
        "import pandas as pd\n",
        "\n",
        "print(sklearn.__version__)"
      ],
      "execution_count": 1,
      "outputs": [
        {
          "output_type": "stream",
          "text": [
            "0.22.2.post1\n"
          ],
          "name": "stdout"
        }
      ]
    },
    {
      "cell_type": "code",
      "metadata": {
        "id": "d_w7ohMgHua5",
        "colab_type": "code",
        "colab": {}
      },
      "source": [
        "# iris 데이터 임포트\n",
        "from sklearn.datasets import load_iris"
      ],
      "execution_count": 2,
      "outputs": []
    },
    {
      "cell_type": "code",
      "metadata": {
        "id": "3pHkV9wrIfRP",
        "colab_type": "code",
        "colab": {
          "base_uri": "https://localhost:8080/",
          "height": 53
        },
        "outputId": "70c3f951-7f67-4573-f222-09474e064fa6"
      },
      "source": [
        "iris = load_iris()\n",
        "iris_data = iris.data\n",
        "iris_label = iris.target\n",
        "print('iris target name:\\n', iris.target_names)"
      ],
      "execution_count": 3,
      "outputs": [
        {
          "output_type": "stream",
          "text": [
            "iris target name:\n",
            " ['setosa' 'versicolor' 'virginica']\n"
          ],
          "name": "stdout"
        }
      ]
    },
    {
      "cell_type": "code",
      "metadata": {
        "id": "73hQhIemIvwj",
        "colab_type": "code",
        "colab": {
          "base_uri": "https://localhost:8080/",
          "height": 143
        },
        "outputId": "36665137-96bf-4ea1-e69f-4f3d3e095210"
      },
      "source": [
        "# iris 데이터\n",
        "iris_data = iris_data\n",
        "print(type(iris_data))\n",
        "print(iris_data.shape)\n",
        "print(iris_data[0:5]) "
      ],
      "execution_count": 4,
      "outputs": [
        {
          "output_type": "stream",
          "text": [
            "<class 'numpy.ndarray'>\n",
            "(150, 4)\n",
            "[[5.1 3.5 1.4 0.2]\n",
            " [4.9 3.  1.4 0.2]\n",
            " [4.7 3.2 1.3 0.2]\n",
            " [4.6 3.1 1.5 0.2]\n",
            " [5.  3.6 1.4 0.2]]\n"
          ],
          "name": "stdout"
        }
      ]
    },
    {
      "cell_type": "code",
      "metadata": {
        "id": "h9WiEcFLJuaq",
        "colab_type": "code",
        "colab": {
          "base_uri": "https://localhost:8080/",
          "height": 71
        },
        "outputId": "a4e87296-7c8d-41f2-d9bb-5ec07075b343"
      },
      "source": [
        "# iris label\n",
        "iris_label = iris.target\n",
        "print(type(iris_label))\n",
        "print(iris_label.shape)\n",
        "print(iris_label[0:5]) "
      ],
      "execution_count": 5,
      "outputs": [
        {
          "output_type": "stream",
          "text": [
            "<class 'numpy.ndarray'>\n",
            "(150,)\n",
            "[0 0 0 0 0]\n"
          ],
          "name": "stdout"
        }
      ]
    },
    {
      "cell_type": "markdown",
      "metadata": {
        "id": "SQCKotRcKmXr",
        "colab_type": "text"
      },
      "source": [
        "## pandas로 변환"
      ]
    },
    {
      "cell_type": "code",
      "metadata": {
        "id": "2YGw45ebJ_w2",
        "colab_type": "code",
        "colab": {
          "base_uri": "https://localhost:8080/",
          "height": 222
        },
        "outputId": "bde43b09-3019-4419-ce8e-b9e5155d885f"
      },
      "source": [
        "# iris 데이터를 pd로 변환\n",
        "# data에 iris_data 등록, 칼럼명에 feature_names 등록, index는 range\n",
        "df_iris = pd.DataFrame(data=iris_data, columns=iris.feature_names) \n",
        "df_iris['label'] = iris.target # label에 분류 등록\n",
        "print(df_iris.shape)\n",
        "df_iris.head()"
      ],
      "execution_count": 6,
      "outputs": [
        {
          "output_type": "stream",
          "text": [
            "(150, 5)\n"
          ],
          "name": "stdout"
        },
        {
          "output_type": "execute_result",
          "data": {
            "text/html": [
              "<div>\n",
              "<style scoped>\n",
              "    .dataframe tbody tr th:only-of-type {\n",
              "        vertical-align: middle;\n",
              "    }\n",
              "\n",
              "    .dataframe tbody tr th {\n",
              "        vertical-align: top;\n",
              "    }\n",
              "\n",
              "    .dataframe thead th {\n",
              "        text-align: right;\n",
              "    }\n",
              "</style>\n",
              "<table border=\"1\" class=\"dataframe\">\n",
              "  <thead>\n",
              "    <tr style=\"text-align: right;\">\n",
              "      <th></th>\n",
              "      <th>sepal length (cm)</th>\n",
              "      <th>sepal width (cm)</th>\n",
              "      <th>petal length (cm)</th>\n",
              "      <th>petal width (cm)</th>\n",
              "      <th>label</th>\n",
              "    </tr>\n",
              "  </thead>\n",
              "  <tbody>\n",
              "    <tr>\n",
              "      <th>0</th>\n",
              "      <td>5.1</td>\n",
              "      <td>3.5</td>\n",
              "      <td>1.4</td>\n",
              "      <td>0.2</td>\n",
              "      <td>0</td>\n",
              "    </tr>\n",
              "    <tr>\n",
              "      <th>1</th>\n",
              "      <td>4.9</td>\n",
              "      <td>3.0</td>\n",
              "      <td>1.4</td>\n",
              "      <td>0.2</td>\n",
              "      <td>0</td>\n",
              "    </tr>\n",
              "    <tr>\n",
              "      <th>2</th>\n",
              "      <td>4.7</td>\n",
              "      <td>3.2</td>\n",
              "      <td>1.3</td>\n",
              "      <td>0.2</td>\n",
              "      <td>0</td>\n",
              "    </tr>\n",
              "    <tr>\n",
              "      <th>3</th>\n",
              "      <td>4.6</td>\n",
              "      <td>3.1</td>\n",
              "      <td>1.5</td>\n",
              "      <td>0.2</td>\n",
              "      <td>0</td>\n",
              "    </tr>\n",
              "    <tr>\n",
              "      <th>4</th>\n",
              "      <td>5.0</td>\n",
              "      <td>3.6</td>\n",
              "      <td>1.4</td>\n",
              "      <td>0.2</td>\n",
              "      <td>0</td>\n",
              "    </tr>\n",
              "  </tbody>\n",
              "</table>\n",
              "</div>"
            ],
            "text/plain": [
              "   sepal length (cm)  sepal width (cm)  ...  petal width (cm)  label\n",
              "0                5.1               3.5  ...               0.2      0\n",
              "1                4.9               3.0  ...               0.2      0\n",
              "2                4.7               3.2  ...               0.2      0\n",
              "3                4.6               3.1  ...               0.2      0\n",
              "4                5.0               3.6  ...               0.2      0\n",
              "\n",
              "[5 rows x 5 columns]"
            ]
          },
          "metadata": {
            "tags": []
          },
          "execution_count": 6
        }
      ]
    },
    {
      "cell_type": "code",
      "metadata": {
        "id": "CdSJcmEwKa0D",
        "colab_type": "code",
        "colab": {
          "base_uri": "https://localhost:8080/",
          "height": 143
        },
        "outputId": "7e61a4f2-9eeb-48e4-e45b-15a775571d03"
      },
      "source": [
        "# 분포가 정렬되어 있음\n",
        "iris_label"
      ],
      "execution_count": 7,
      "outputs": [
        {
          "output_type": "execute_result",
          "data": {
            "text/plain": [
              "array([0, 0, 0, 0, 0, 0, 0, 0, 0, 0, 0, 0, 0, 0, 0, 0, 0, 0, 0, 0, 0, 0,\n",
              "       0, 0, 0, 0, 0, 0, 0, 0, 0, 0, 0, 0, 0, 0, 0, 0, 0, 0, 0, 0, 0, 0,\n",
              "       0, 0, 0, 0, 0, 0, 1, 1, 1, 1, 1, 1, 1, 1, 1, 1, 1, 1, 1, 1, 1, 1,\n",
              "       1, 1, 1, 1, 1, 1, 1, 1, 1, 1, 1, 1, 1, 1, 1, 1, 1, 1, 1, 1, 1, 1,\n",
              "       1, 1, 1, 1, 1, 1, 1, 1, 1, 1, 1, 1, 2, 2, 2, 2, 2, 2, 2, 2, 2, 2,\n",
              "       2, 2, 2, 2, 2, 2, 2, 2, 2, 2, 2, 2, 2, 2, 2, 2, 2, 2, 2, 2, 2, 2,\n",
              "       2, 2, 2, 2, 2, 2, 2, 2, 2, 2, 2, 2, 2, 2, 2, 2, 2, 2])"
            ]
          },
          "metadata": {
            "tags": []
          },
          "execution_count": 7
        }
      ]
    },
    {
      "cell_type": "markdown",
      "metadata": {
        "id": "OxkIv1f_OGzg",
        "colab_type": "text"
      },
      "source": [
        "## train, test 셋 분할"
      ]
    },
    {
      "cell_type": "code",
      "metadata": {
        "id": "u1TBCG8gLiSL",
        "colab_type": "code",
        "colab": {}
      },
      "source": [
        "from sklearn.model_selection import train_test_split\n",
        "\n",
        "# x : feature, y : label\n",
        "# train : 학습용\n",
        "# test : 검증용\n",
        "# 전체 데이터에서 20퍼센트는 테스트셋, 80퍼센트는 학습셋으로 분할\n",
        "x_train, x_test, y_train, y_test = train_test_split(iris_data, iris_label, test_size=0.2, random_state=11)"
      ],
      "execution_count": 8,
      "outputs": []
    },
    {
      "cell_type": "code",
      "metadata": {
        "id": "ZupUW-juLxY_",
        "colab_type": "code",
        "colab": {
          "base_uri": "https://localhost:8080/",
          "height": 125
        },
        "outputId": "84835bb3-bd51-4cdf-e63a-1ce68ef79f39"
      },
      "source": [
        "print(iris_data.shape)\n",
        "print(x_train.shape)\n",
        "print(y_train.shape)\n",
        "\n",
        "print(iris_label.shape)\n",
        "print(x_test.shape)\n",
        "print(y_test.shape)"
      ],
      "execution_count": 9,
      "outputs": [
        {
          "output_type": "stream",
          "text": [
            "(150, 4)\n",
            "(120, 4)\n",
            "(120,)\n",
            "(150,)\n",
            "(30, 4)\n",
            "(30,)\n"
          ],
          "name": "stdout"
        }
      ]
    },
    {
      "cell_type": "markdown",
      "metadata": {
        "id": "KvBCPfD7OMsg",
        "colab_type": "text"
      },
      "source": [
        "## 결정트리 생성"
      ]
    },
    {
      "cell_type": "code",
      "metadata": {
        "id": "K2WiS2DtMrOF",
        "colab_type": "code",
        "colab": {}
      },
      "source": [
        "from sklearn.tree import DecisionTreeClassifier\n",
        "\n",
        "dt_clf = DecisionTreeClassifier(random_state = 11)"
      ],
      "execution_count": 10,
      "outputs": []
    },
    {
      "cell_type": "code",
      "metadata": {
        "id": "mpNfB31dN0e0",
        "colab_type": "code",
        "colab": {
          "base_uri": "https://localhost:8080/",
          "height": 125
        },
        "outputId": "50cf1803-3ebb-4853-82b0-b6496a6202c5"
      },
      "source": [
        "dt_clf.fit(X=x_train, y=y_train)"
      ],
      "execution_count": 11,
      "outputs": [
        {
          "output_type": "execute_result",
          "data": {
            "text/plain": [
              "DecisionTreeClassifier(ccp_alpha=0.0, class_weight=None, criterion='gini',\n",
              "                       max_depth=None, max_features=None, max_leaf_nodes=None,\n",
              "                       min_impurity_decrease=0.0, min_impurity_split=None,\n",
              "                       min_samples_leaf=1, min_samples_split=2,\n",
              "                       min_weight_fraction_leaf=0.0, presort='deprecated',\n",
              "                       random_state=11, splitter='best')"
            ]
          },
          "metadata": {
            "tags": []
          },
          "execution_count": 11
        }
      ]
    },
    {
      "cell_type": "markdown",
      "metadata": {
        "id": "SYDxuhN4PpBC",
        "colab_type": "text"
      },
      "source": [
        "## 예측\n",
        "* 생성 된 모델로 테스트 셋으로 예측"
      ]
    },
    {
      "cell_type": "code",
      "metadata": {
        "id": "VSd2ftd7OASO",
        "colab_type": "code",
        "colab": {}
      },
      "source": [
        "pred = dt_clf.predict(X=x_test)"
      ],
      "execution_count": 12,
      "outputs": []
    },
    {
      "cell_type": "code",
      "metadata": {
        "id": "hMWQhnRRPueb",
        "colab_type": "code",
        "colab": {
          "base_uri": "https://localhost:8080/",
          "height": 53
        },
        "outputId": "3436baba-6cf6-43dc-bc74-b46ce404e602"
      },
      "source": [
        "print(pred)\n",
        "print(y_test)"
      ],
      "execution_count": 13,
      "outputs": [
        {
          "output_type": "stream",
          "text": [
            "[2 2 1 1 2 0 1 0 0 1 1 1 1 2 2 0 2 1 2 2 1 0 0 1 0 0 2 1 0 1]\n",
            "[2 2 2 1 2 0 1 0 0 1 2 1 1 2 2 0 2 1 2 2 1 0 0 1 0 0 2 1 0 1]\n"
          ],
          "name": "stdout"
        }
      ]
    },
    {
      "cell_type": "code",
      "metadata": {
        "id": "TyDdTREWPx8Y",
        "colab_type": "code",
        "colab": {
          "base_uri": "https://localhost:8080/",
          "height": 89
        },
        "outputId": "b245eb4c-0497-489d-c20f-a626263dbe89"
      },
      "source": [
        "pred == y_test"
      ],
      "execution_count": 14,
      "outputs": [
        {
          "output_type": "execute_result",
          "data": {
            "text/plain": [
              "array([ True,  True, False,  True,  True,  True,  True,  True,  True,\n",
              "        True, False,  True,  True,  True,  True,  True,  True,  True,\n",
              "        True,  True,  True,  True,  True,  True,  True,  True,  True,\n",
              "        True,  True,  True])"
            ]
          },
          "metadata": {
            "tags": []
          },
          "execution_count": 14
        }
      ]
    },
    {
      "cell_type": "code",
      "metadata": {
        "id": "a4cFH-uLQPCN",
        "colab_type": "code",
        "colab": {
          "base_uri": "https://localhost:8080/",
          "height": 35
        },
        "outputId": "6345c608-29b4-4d0f-9f38-190f001cfbfa"
      },
      "source": [
        "rst = (pred != y_test).sum()\n",
        "rst"
      ],
      "execution_count": 15,
      "outputs": [
        {
          "output_type": "execute_result",
          "data": {
            "text/plain": [
              "2"
            ]
          },
          "metadata": {
            "tags": []
          },
          "execution_count": 15
        }
      ]
    },
    {
      "cell_type": "markdown",
      "metadata": {
        "id": "PdpcyxC-REhB",
        "colab_type": "text"
      },
      "source": [
        "## 검증\n",
        "* 결과에 대한 일치 비율"
      ]
    },
    {
      "cell_type": "code",
      "metadata": {
        "id": "ZkoKgwEqQeRh",
        "colab_type": "code",
        "colab": {
          "base_uri": "https://localhost:8080/",
          "height": 35
        },
        "outputId": "232eb018-e19d-41d6-ccf5-9ebdbe4f7708"
      },
      "source": [
        "from sklearn.metrics import accuracy_score\n",
        "print('predict accuracy : %f' % accuracy_score(y_test,pred))"
      ],
      "execution_count": 16,
      "outputs": [
        {
          "output_type": "stream",
          "text": [
            "predict accuracy : 0.933333\n"
          ],
          "name": "stdout"
        }
      ]
    }
  ]
}