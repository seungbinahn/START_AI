{
  "nbformat": 4,
  "nbformat_minor": 0,
  "metadata": {
    "colab": {
      "name": "08_1_경사하강법.ipynb",
      "provenance": [],
      "collapsed_sections": [],
      "toc_visible": true,
      "authorship_tag": "ABX9TyN5moStGHDJ+u3qcfk+kK+7"
    },
    "kernelspec": {
      "name": "python3",
      "display_name": "Python 3"
    }
  },
  "cells": [
    {
      "cell_type": "markdown",
      "metadata": {
        "id": "py-KvxjhGGie",
        "colab_type": "text"
      },
      "source": [
        "# Derivative(미분)\n",
        "* 2개의 값 간의 영향도를 구하는 방법\n",
        "* 1차 방정식에서의 Gradient(기울기)를 의미함\n",
        "* X(독립 변인) 값을 변화 시켰을 때 Y(종속 변인)이 변화한는 양을 의미"
      ]
    },
    {
      "cell_type": "markdown",
      "metadata": {
        "id": "aAb4GSmyGi61",
        "colab_type": "text"
      },
      "source": [
        "1. weight에 대한 loss function의 미분\n",
        "- weight를 아주 조금 변화시켰을 때 loss Function 값이 어떻게 변하는가\n",
        "- 음수 -> weight을 양의 뱡향으로 변환 -> loss 감소\n",
        "- 양수 -> weight을 음의 방향으로 변환 -> loss 감소"
      ]
    },
    {
      "cell_type": "markdown",
      "metadata": {
        "id": "npsQQ-mYHGKs",
        "colab_type": "text"
      },
      "source": [
        "2. 수치미분\n",
        "- 차분 : 두점에서의 함수 값들의 차이\n",
        "- 아주 작은 차분으로 미분하는것\n",
        "\n",
        "- x에 대한 f(x)의 변화량\n",
        "- 변화량을 한없이 0에 가깝게 함\n",
        "- lim(h->0) (f(x+h) - f(x)) / (h)"
      ]
    },
    {
      "cell_type": "code",
      "metadata": {
        "id": "EGylwPoFCJIk",
        "colab_type": "code",
        "colab": {}
      },
      "source": [
        "def numerical_diff(f, x):\n",
        "    \"\"\"\n",
        "    미분의 단순 구현\n",
        "    \"\"\"\n",
        "    h = 10e-50 #매우 작은 값\n",
        "    return (f(x+h) - f(x)) / h"
      ],
      "execution_count": null,
      "outputs": []
    },
    {
      "cell_type": "markdown",
      "metadata": {
        "id": "R-rVQC3rHrxF",
        "colab_type": "text"
      },
      "source": [
        "## 문제점 1 : 너무 작은 변화량\n",
        "개선 : 너무 작은 값으로  설정하면 0이 되므로 h = 1e-4(0.0001) 정도가 적당함"
      ]
    },
    {
      "cell_type": "code",
      "metadata": {
        "id": "p6Y6ooPcHjh3",
        "colab_type": "code",
        "colab": {
          "base_uri": "https://localhost:8080/",
          "height": 35
        },
        "outputId": "a54bdef1-e7c0-4764-f520-8f5c7c578fa0"
      },
      "source": [
        "import numpy as np\n",
        "\n",
        "np.float32(1e-50) # 0.0"
      ],
      "execution_count": null,
      "outputs": [
        {
          "output_type": "execute_result",
          "data": {
            "text/plain": [
              "0.0"
            ]
          },
          "metadata": {
            "tags": []
          },
          "execution_count": 3
        }
      ]
    },
    {
      "cell_type": "code",
      "metadata": {
        "id": "pwd2r7UTHnyJ",
        "colab_type": "code",
        "colab": {}
      },
      "source": [
        "def numerical_diff(f, x):\n",
        "    \"\"\"\n",
        "    개선 1\n",
        "    \"\"\"\n",
        "    h = 10e-4 #매우 작은 값\n",
        "    return (f(x+h) - f(x)) / h"
      ],
      "execution_count": null,
      "outputs": []
    },
    {
      "cell_type": "markdown",
      "metadata": {
        "id": "7zVPkB0pKgNZ",
        "colab_type": "text"
      },
      "source": [
        "## 문제점 2 : 근사값의 오차\n",
        "개선 : 중심(중앙) 차분 (x+h) 와 (x-h)일 때의 함수 f의 차분 계산"
      ]
    },
    {
      "cell_type": "code",
      "metadata": {
        "id": "ooqEIYiXIgcA",
        "colab_type": "code",
        "colab": {}
      },
      "source": [
        "def numerical_diff(f,x):\n",
        "    \"\"\"\n",
        "    개선 2\n",
        "    \"\"\"\n",
        "    h = 1e-4 # 0.0001\n",
        "    return (f(x+h) - f(x-h)) / (2*h)"
      ],
      "execution_count": null,
      "outputs": []
    },
    {
      "cell_type": "markdown",
      "metadata": {
        "id": "vXBGrfYWLU6G",
        "colab_type": "text"
      },
      "source": [
        "## 예시"
      ]
    },
    {
      "cell_type": "code",
      "metadata": {
        "id": "uM_fhNDZK9vR",
        "colab_type": "code",
        "colab": {}
      },
      "source": [
        "import matplotlib.pylab as plt\n",
        "\n",
        "def function_1(x):\n",
        "    return 0.01 * (x**2) +0.1*x"
      ],
      "execution_count": null,
      "outputs": []
    },
    {
      "cell_type": "code",
      "metadata": {
        "id": "NAagtWR1LmrH",
        "colab_type": "code",
        "colab": {
          "base_uri": "https://localhost:8080/",
          "height": 279
        },
        "outputId": "c753139b-a180-4554-8c28-10d3309e6710"
      },
      "source": [
        "x = np.arange(0.0, 20.0, 0.1) # 0에서 30까지 0.1 간격의 배열 x 생성\n",
        "y = function_1(x) \n",
        "plt.xlabel('x')\n",
        "plt.ylabel('y')\n",
        "plt.plot(x,y)\n",
        "plt.show() # function_1 의 그래프"
      ],
      "execution_count": null,
      "outputs": [
        {
          "output_type": "display_data",
          "data": {
            "image/png": "[encoded data removed]",
            "text/plain": [
              "<Figure size 432x288 with 1 Axes>"
            ]
          },
          "metadata": {
            "tags": [],
            "needs_background": "light"
          }
        }
      ]
    },
    {
      "cell_type": "markdown",
      "metadata": {
        "id": "StH_53ygNCgk",
        "colab_type": "text"
      },
      "source": [
        "## 미분 값의 비교\n",
        "* 비교적 유사한 결과 계산"
      ]
    },
    {
      "cell_type": "code",
      "metadata": {
        "id": "1jYW7NpRLw0X",
        "colab_type": "code",
        "colab": {
          "base_uri": "https://localhost:8080/",
          "height": 53
        },
        "outputId": "fcee97bc-5d17-4179-ae04-5d594a5a3e72"
      },
      "source": [
        "# 실제 미분 f'(x) = 0.02x + 0.1\n",
        "\n",
        "print('%.20f' % numerical_diff(function_1, 5)) # f'(5) = 0.2\n",
        "print('%.20f' % numerical_diff(function_1, 10)) # f'(10) = 0.3 "
      ],
      "execution_count": null,
      "outputs": [
        {
          "output_type": "stream",
          "text": [
            "0.19999999999908979476\n",
            "0.29999999999863469213\n"
          ],
          "name": "stdout"
        }
      ]
    },
    {
      "cell_type": "markdown",
      "metadata": {
        "id": "CF5d9e_fNJaG",
        "colab_type": "text"
      },
      "source": [
        "## 편미분\n",
        "* 변수가 여러 개인 함수에 대한 미분\n"
      ]
    },
    {
      "cell_type": "code",
      "metadata": {
        "id": "xbqKWopfNQLE",
        "colab_type": "code",
        "colab": {}
      },
      "source": [
        "# f(x0, x1) = x0^2 + x12\n",
        "def function_2(x):\n",
        "    return x[0]**2 + x[1]**2 # 또는 np.sum(x**2)"
      ],
      "execution_count": null,
      "outputs": []
    },
    {
      "cell_type": "code",
      "metadata": {
        "id": "q6t8ud4iNKQJ",
        "colab_type": "code",
        "colab": {
          "base_uri": "https://localhost:8080/",
          "height": 35
        },
        "outputId": "c52dd5d0-f6b2-4d08-995a-5b6247405014"
      },
      "source": [
        "# x0에 대한 편미분 (x0,x1) = (3,4)\n",
        "def function_tmp1(x0):\n",
        "    return x0**2 + 4.0**2.0\n",
        "\n",
        "numerical_diff(function_tmp1, 3.0)"
      ],
      "execution_count": null,
      "outputs": [
        {
          "output_type": "execute_result",
          "data": {
            "text/plain": [
              "6.00000000000378"
            ]
          },
          "metadata": {
            "tags": []
          },
          "execution_count": 17
        }
      ]
    },
    {
      "cell_type": "code",
      "metadata": {
        "id": "4GsGEIooOh-l",
        "colab_type": "code",
        "colab": {
          "base_uri": "https://localhost:8080/",
          "height": 35
        },
        "outputId": "1d219495-2ac2-4710-f0ed-8a9c7f864752"
      },
      "source": [
        "# x1에 대한 편미분 (x0,x1) = (3,4)\n",
        "def function_tmp2(x1):\n",
        "    return 3.0**2.0 + x1**2.0\n",
        "\n",
        "numerical_diff(function_tmp2, 4.0)"
      ],
      "execution_count": null,
      "outputs": [
        {
          "output_type": "execute_result",
          "data": {
            "text/plain": [
              "7.999999999999119"
            ]
          },
          "metadata": {
            "tags": []
          },
          "execution_count": 24
        }
      ]
    },
    {
      "cell_type": "markdown",
      "metadata": {
        "id": "itbmN4V8PP1F",
        "colab_type": "text"
      },
      "source": [
        "## 기울기\n",
        "* 기울기는 방향을 가진 벡터\n",
        "* 기울기가 가리키는 쪽은 각 장소에서 함수의 출력 값을 가장 크게 줄이는 방향"
      ]
    },
    {
      "cell_type": "code",
      "metadata": {
        "id": "dnV9CuGRO1Bd",
        "colab_type": "code",
        "colab": {}
      },
      "source": [
        "def numerical_gradient(f, x):\n",
        "    h = 1e-4 # 0.0001\n",
        "    grad = np.zeros_like(x)\n",
        "\n",
        "    for idx in range(x.size):\n",
        "        tmp_val = x[idx] # 다시 원래 x 값 저장\n",
        "\n",
        "        # f(x+h)\n",
        "        x[idx] = float(tmp_val) + h # x[idx] 에 x+h 값을 저장해두고\n",
        "        fxh1 = f(x) # x 전체에 대해 f 함수 적용\n",
        "\n",
        "        # f(x-h)\n",
        "        x[idx] = tmp_val - h # x[idx] 에 x-h 값을 저장해두고\n",
        "        fxh2 = f(x) # x 전체에 대해 f 함수 적용\n",
        "\n",
        "        grad[idx] = (fxh1 - fxh2) / (2*h) # 차분\n",
        "        x[idx] = tmp_val # 다시 원래 x 값 저장\n",
        "    return grad\n"
      ],
      "execution_count": null,
      "outputs": []
    },
    {
      "cell_type": "code",
      "metadata": {
        "id": "_QlIXRjyPsvs",
        "colab_type": "code",
        "colab": {
          "base_uri": "https://localhost:8080/",
          "height": 71
        },
        "outputId": "f497f8c8-89c6-4aa2-a001-f4601d60ffde"
      },
      "source": [
        "print(numerical_gradient(function_2, np.array([3.0,4.0]))) #(6,8) = (x0에 대한 편미분, x1에 대한 편미분)\n",
        "print(numerical_gradient(function_2, np.array([0.0,2.0]))) #(0,4) = (x0에 대한 편미분, x1에 대한 편미분)\n",
        "print(numerical_gradient(function_2, np.array([3.0,0.0]))) #(6,0) = (x0에 대한 편미분, x1에 대한 편미분)"
      ],
      "execution_count": null,
      "outputs": [
        {
          "output_type": "stream",
          "text": [
            "[6. 8.]\n",
            "[0. 4.]\n",
            "[6. 0.]\n"
          ],
          "name": "stdout"
        }
      ]
    },
    {
      "cell_type": "markdown",
      "metadata": {
        "id": "LuwprisQVdW-",
        "colab_type": "text"
      },
      "source": [
        "# 경사하강법\n",
        "* 기울기 a가 정답 값(0)에서 멀어질수록 오차 값이 커짐\n",
        "* 따라서 오차가 최소가 되는 m 값을 찾는 것이 목표"
      ]
    },
    {
      "cell_type": "markdown",
      "metadata": {
        "id": "I2t69bv9V6CM",
        "colab_type": "text"
      },
      "source": [
        "* a1에서의 미분을 계산\n",
        "* 구해진 기울기의 반대방향으로 a 값 이동\n",
        "* 이동한 a2에서 미분 계산\n",
        "* 미분 값이 0이 될 때까지 반복"
      ]
    },
    {
      "cell_type": "markdown",
      "metadata": {
        "id": "TylnwNQxV59s",
        "colab_type": "text"
      },
      "source": [
        "* 학습률 : 하이퍼 파라미터 -> a가 얼마나 많이 이동할지 결정\n",
        "* 너무 크면 수렴하지 못하고 발산 함\n",
        "* 너무 작으면 끝까지 수렴하지 못하고 중간에 중단 됨\n",
        "* 하이퍼 파라미터 : 사람이 직접 설정하는 부분"
      ]
    },
    {
      "cell_type": "markdown",
      "metadata": {
        "id": "7dP87PTRWzkA",
        "colab_type": "text"
      },
      "source": [
        "* a로 편미분\n",
        "* b로 편미분"
      ]
    },
    {
      "cell_type": "markdown",
      "metadata": {
        "id": "lwRl2dQaXC1W",
        "colab_type": "text"
      },
      "source": [
        "경사 하강법\n",
        "* 머신 러닝 대부분의 알고리즘에서 학습 시 최적의 weight를 찾아내는 방법\n",
        "* 미분을 이용하여 weight와 loss Function 간의 기울기(영향도) 파악\n",
        "* 미분을 통해 얻은 기울기를 이용해 loss Function을 줄이는 방향으로 weight 값을 반복적으로 변경\n",
        "* loss Function을 최소로 하는 최적의 weight 값을 찾아과는 과정을 Gradient Descent라고 함"
      ]
    },
    {
      "cell_type": "code",
      "metadata": {
        "id": "afPrHYkZRLmL",
        "colab_type": "code",
        "colab": {}
      },
      "source": [
        "def gradient_descent(f, init_x, lr=0.01, step_num = 100):\n",
        "    \"\"\"\n",
        "    f : 최적화하려는 함수\n",
        "    init_x : 초기값\n",
        "    lr : 학습률\n",
        "    step_num : 경사하강법 반복 횟수 \n",
        "    \"\"\"\n",
        "    x = init_x \n",
        "    for i in range(step_num): # 반복\n",
        "        grad = numerical_gradient(f,x) # 기울기 계산\n",
        "        x -= lr * grad # 기울기에 학습률을 곱하여 x 값에 반영\n",
        "    return x"
      ],
      "execution_count": null,
      "outputs": []
    },
    {
      "cell_type": "code",
      "metadata": {
        "id": "O6EvAaPnY2fh",
        "colab_type": "code",
        "colab": {
          "base_uri": "https://localhost:8080/",
          "height": 53
        },
        "outputId": "0847be2f-7c1b-4c9a-b258-6629aa5a5cba"
      },
      "source": [
        "init_x = np.array([-3.0,4.0]) # 초기 값 설정\n",
        "# 경사하강법으로 기울기가 0인 지점 탐색\n",
        "pos = gradient_descent(function_2, init_x=init_x, lr=0.1,step_num=100) \n",
        "print('%.30f %.30f' % (pos[0],pos[1]))\n",
        "\n",
        "# 탐색한 pos의 기울기 계산\n",
        "grad = numerical_gradient(function_2,pos)\n",
        "print('%.20f %.20f' % (grad[0],grad[1]))"
      ],
      "execution_count": null,
      "outputs": [
        {
          "output_type": "stream",
          "text": [
            "-0.000000000611110792899878894642 0.000000000814814390531427059884\n",
            "-0.00000000122222158580 0.00000000162962878107\n"
          ],
          "name": "stdout"
        }
      ]
    },
    {
      "cell_type": "markdown",
      "metadata": {
        "id": "8wrFDVjhaELn",
        "colab_type": "text"
      },
      "source": [
        "## 학습률 변화에 따른 결과 변화"
      ]
    },
    {
      "cell_type": "code",
      "metadata": {
        "id": "WWX_IEHMZiot",
        "colab_type": "code",
        "colab": {
          "base_uri": "https://localhost:8080/",
          "height": 71
        },
        "outputId": "fe843e80-0ceb-4d26-e4b3-7653ff15a1fc"
      },
      "source": [
        "# 학습률이 클 경우 큰 값으로 발산\n",
        "init_x = np.array([-3.0,4.0])\n",
        "pos = gradient_descent(function_2, init_x=init_x, lr=10.0,step_num=100) \n",
        "print(pos)\n",
        "print('%.30f %.30f' % (pos[0],pos[1]))\n",
        "\n",
        "grad = numerical_gradient(function_2, pos)\n",
        "print('%.30f %.30f' % (grad[0],grad[1]))"
      ],
      "execution_count": null,
      "outputs": [
        {
          "output_type": "stream",
          "text": [
            "[-2.58983747e+13 -1.29524862e+12]\n",
            "-25898374737328.363281250000000000000000000000 -1295248616896.539794921875000000000000000000\n",
            "0.000000000000000000000000000000 0.000000000000000000000000000000\n"
          ],
          "name": "stdout"
        }
      ]
    },
    {
      "cell_type": "code",
      "metadata": {
        "id": "Wxf8m8gnaR_u",
        "colab_type": "code",
        "colab": {
          "base_uri": "https://localhost:8080/",
          "height": 53
        },
        "outputId": "556a5c8e-5935-49f6-ba93-70193216eec5"
      },
      "source": [
        "# 학습률이 작을경우 weight가 거의 변화하지 않음\n",
        "init_x = np.array([-3.0,4.0])\n",
        "pos = gradient_descent(function_2, init_x=init_x, lr=1e-10,step_num=100) \n",
        "print(pos)\n",
        "\n",
        "grad = numerical_gradient(function_2, pos)\n",
        "print('%.30f %.30f' % (grad[0],grad[1]))"
      ],
      "execution_count": null,
      "outputs": [
        {
          "output_type": "stream",
          "text": [
            "[-2.99999994  3.99999992]\n",
            "-5.999999880010875585867324844003 7.999999840002658402227098122239\n"
          ],
          "name": "stdout"
        }
      ]
    },
    {
      "cell_type": "markdown",
      "metadata": {
        "id": "yI4tHO3Ib_sx",
        "colab_type": "text"
      },
      "source": [
        "## Neural network에서의 Gradient\n",
        "* 각각의 weight에 대한 loss Function의 편미분 수행     \n",
        "\n",
        "W = [[w11,w21,w31],[w12,w22,w32]]    \n",
        "W' = [[w11',w21',w31'],[w12',w22',w32']]"
      ]
    },
    {
      "cell_type": "markdown",
      "metadata": {
        "id": "zu5Lqit1hdla",
        "colab_type": "text"
      },
      "source": [
        "## 간단 Gradient Descent 구현\n",
        "- 공부시간 x 와 시험 성적 y에 대한 단순 선형 회귀\n",
        "- 시간 = [2,4,6,8]\n",
        "- 성적 = [81,93,91,97]"
      ]
    },
    {
      "cell_type": "code",
      "metadata": {
        "id": "AjMvGbpscIgt",
        "colab_type": "code",
        "colab": {}
      },
      "source": [
        "import numpy as np\n",
        "import matplotlib.pyplot as plt"
      ],
      "execution_count": null,
      "outputs": []
    },
    {
      "cell_type": "code",
      "metadata": {
        "id": "6wD4CWdbhxQd",
        "colab_type": "code",
        "colab": {
          "base_uri": "https://localhost:8080/",
          "height": 320
        },
        "outputId": "237baffd-bd7e-4683-cac6-3779174322a6"
      },
      "source": [
        "data = [[2,81],[4,93],[6,91],[8,97]]\n",
        "x = [i[0] for i in data]\n",
        "y = [i[1] for i in data]\n",
        "\n",
        "plt.figure(figsize=(8,5))\n",
        "plt.scatter(x,y)\n",
        "plt.show()"
      ],
      "execution_count": null,
      "outputs": [
        {
          "output_type": "display_data",
          "data": {
            "image/png": "[encoded data removed]",
            "text/plain": [
              "<Figure size 576x360 with 1 Axes>"
            ]
          },
          "metadata": {
            "tags": [],
            "needs_background": "light"
          }
        }
      ]
    },
    {
      "cell_type": "markdown",
      "metadata": {
        "id": "m7go0fbfjolg",
        "colab_type": "text"
      },
      "source": [
        "손실함수(MSE)를 a와 b로 각각 편미분"
      ]
    },
    {
      "cell_type": "code",
      "metadata": {
        "id": "WhJvh7nPiHsH",
        "colab_type": "code",
        "colab": {
          "base_uri": "https://localhost:8080/",
          "height": 395
        },
        "outputId": "81eee68c-81d9-43bf-f017-3be98569c4d1"
      },
      "source": [
        "x_data = np.array(x)\n",
        "y_data = np.array(y)\n",
        "\n",
        "a = 0\n",
        "b = 0\n",
        "\n",
        "lr = 0.03\n",
        "epochs = 2001\n",
        "\n",
        "for i in range(epochs):\n",
        "    y_pred = a * x_data + b\n",
        "    error = y_data - y_pred\n",
        "\n",
        "    a_diff = -(2/len(x_data)) * sum(error * x_data)\n",
        "    b_diff = -(2/len(x_data)) * sum(error)\n",
        "\n",
        "    a = a - lr * a_diff\n",
        "    b = b - lr * b_diff\n",
        "\n",
        "    if i % 100 ==0:\n",
        "        print(\"epoch=%f, 기울기 = %.04f, 절편=%.04f\" % (i,a,b))"
      ],
      "execution_count": null,
      "outputs": [
        {
          "output_type": "stream",
          "text": [
            "epoch=0.000000, 기울기 = 27.8400, 절편=5.4300\n",
            "epoch=100.000000, 기울기 = 7.0739, 절편=50.5117\n",
            "epoch=200.000000, 기울기 = 4.0960, 절편=68.2822\n",
            "epoch=300.000000, 기울기 = 2.9757, 절편=74.9678\n",
            "epoch=400.000000, 기울기 = 2.5542, 절편=77.4830\n",
            "epoch=500.000000, 기울기 = 2.3956, 절편=78.4293\n",
            "epoch=600.000000, 기울기 = 2.3360, 절편=78.7853\n",
            "epoch=700.000000, 기울기 = 2.3135, 절편=78.9192\n",
            "epoch=800.000000, 기울기 = 2.3051, 절편=78.9696\n",
            "epoch=900.000000, 기울기 = 2.3019, 절편=78.9886\n",
            "epoch=1000.000000, 기울기 = 2.3007, 절편=78.9957\n",
            "epoch=1100.000000, 기울기 = 2.3003, 절편=78.9984\n",
            "epoch=1200.000000, 기울기 = 2.3001, 절편=78.9994\n",
            "epoch=1300.000000, 기울기 = 2.3000, 절편=78.9998\n",
            "epoch=1400.000000, 기울기 = 2.3000, 절편=78.9999\n",
            "epoch=1500.000000, 기울기 = 2.3000, 절편=79.0000\n",
            "epoch=1600.000000, 기울기 = 2.3000, 절편=79.0000\n",
            "epoch=1700.000000, 기울기 = 2.3000, 절편=79.0000\n",
            "epoch=1800.000000, 기울기 = 2.3000, 절편=79.0000\n",
            "epoch=1900.000000, 기울기 = 2.3000, 절편=79.0000\n",
            "epoch=2000.000000, 기울기 = 2.3000, 절편=79.0000\n"
          ],
          "name": "stdout"
        }
      ]
    },
    {
      "cell_type": "code",
      "metadata": {
        "id": "0szBfPx4kCE0",
        "colab_type": "code",
        "colab": {
          "base_uri": "https://localhost:8080/",
          "height": 265
        },
        "outputId": "2dab7665-7a60-4b12-e315-6a94abc9a866"
      },
      "source": [
        "y_pred = a*x_data + b\n",
        "\n",
        "plt.scatter(x,y)\n",
        "plt.plot([min(x_data),max(x_data)],[min(y_pred),max(y_pred)])\n",
        "plt.show()"
      ],
      "execution_count": null,
      "outputs": [
        {
          "output_type": "display_data",
          "data": {
            "image/png": "[encoded data removed]",
            "text/plain": [
              "<Figure size 432x288 with 1 Axes>"
            ]
          },
          "metadata": {
            "tags": [],
            "needs_background": "light"
          }
        }
      ]
    },
    {
      "cell_type": "markdown",
      "metadata": {
        "id": "JjbfJU3TH8YF",
        "colab_type": "text"
      },
      "source": [
        "# 다중 선형 회귀 경사하강법\n",
        "* x가 여러 개인 경우"
      ]
    },
    {
      "cell_type": "code",
      "metadata": {
        "id": "dO8rOZTuH-Pm",
        "colab_type": "code",
        "colab": {}
      },
      "source": [
        "import numpy as np\n",
        "import matplotlib.pyplot as plt\n",
        "from mpl_toolkits import mplot3d\n",
        "\n",
        "# 성적에 대한 공부량, 과외량 데이터\n",
        "data = [[2,0,81],[4,4,93],[6,2,91],[8,3,97]]\n",
        "x1 = [i[0] for i in data]\n",
        "x2 = [i[1] for i in data]\n",
        "y = [i[2] for i in data]"
      ],
      "execution_count": null,
      "outputs": []
    },
    {
      "cell_type": "markdown",
      "metadata": {
        "id": "Elw4fDLOJ1dk",
        "colab_type": "text"
      },
      "source": [
        "3d 시각화"
      ]
    },
    {
      "cell_type": "code",
      "metadata": {
        "id": "LlNr3v7VJ2Uh",
        "colab_type": "code",
        "colab": {
          "base_uri": "https://localhost:8080/",
          "height": 248
        },
        "outputId": "ba067f01-7b7a-4f6b-f8db-c40ab7fa30dc"
      },
      "source": [
        "ax = plt.axes(projection='3d')\n",
        "ax.set_xlabel('study_hours')\n",
        "ax.set_ylabel('private_class')\n",
        "ax.set_zlabel('Score')\n",
        "ax.dist = 11\n",
        "ax.scatter(x1, x2, y)\n",
        "plt.show()"
      ],
      "execution_count": null,
      "outputs": [
        {
          "output_type": "display_data",
          "data": {
            "image/png": "[encoded data removed]",
            "text/plain": [
              "<Figure size 432x288 with 1 Axes>"
            ]
          },
          "metadata": {
            "tags": [],
            "needs_background": "light"
          }
        }
      ]
    },
    {
      "cell_type": "code",
      "metadata": {
        "id": "3ujbajMKJ6Ra",
        "colab_type": "code",
        "colab": {}
      },
      "source": [
        "x1_data = np.array(x1)\n",
        "x2_data = np.array(x2)\n",
        "y_data = np.array(y)\n",
        "\n",
        "# 기울기 a1, a2 및 절편 b 값 초기화\n",
        "a1 = 0\n",
        "a2 = 0\n",
        "b = 0\n",
        "\n",
        "lr = 0.05 # 학습률 설정\n",
        "epochs = 2001 # 반복 횟수 설정"
      ],
      "execution_count": null,
      "outputs": []
    },
    {
      "cell_type": "code",
      "metadata": {
        "id": "2sGAGTAJIR82",
        "colab_type": "code",
        "colab": {
          "base_uri": "https://localhost:8080/",
          "height": 215
        },
        "outputId": "383fbb07-0670-48fa-ac15-34b4b859cb5a"
      },
      "source": [
        "for i in range(epochs):\n",
        "    y_pred = a1 * x1_data + a2 * x2_data + b\n",
        "    error = y_data - y_pred\n",
        "    a1_diff = -(1/len(x1_data)) * sum(x1_data*(error))\n",
        "    a2_diff = -(1/len(x2_data)) * sum(x2_data*(error))\n",
        "    b_new = -(1/len(x1_data)) * sum(y_data-y_pred)\n",
        "    \n",
        "    # 기울기에 따른 pos 조정\n",
        "    a1 = a1 - lr*a1_diff\n",
        "    a2 = a2-lr*a2_diff\n",
        "    b = b-lr*b_new\n",
        "\n",
        "    if i%200 == 0:\n",
        "        print('epoch=%f, 기울기1=%.04f, 기울기2=%.04f, 절편=%.04f' % (i,a1,a2, b))"
      ],
      "execution_count": null,
      "outputs": [
        {
          "output_type": "stream",
          "text": [
            "epoch=0.000000, 기울기1=23.2000, 기울기2=10.5625, 절편=4.5250\n",
            "epoch=200.000000, 기울기1=3.7255, 기울기2=3.0541, 절편=62.5766\n",
            "epoch=400.000000, 기울기1=1.9527, 기울기2=2.4420, 절편=74.7491\n",
            "epoch=600.000000, 기울기1=1.5921, 기울기2=2.3175, 절편=77.2250\n",
            "epoch=800.000000, 기울기1=1.5187, 기울기2=2.2922, 절편=77.7286\n",
            "epoch=1000.000000, 기울기1=1.5038, 기울기2=2.2870, 절편=77.8310\n",
            "epoch=1200.000000, 기울기1=1.5008, 기울기2=2.2860, 절편=77.8518\n",
            "epoch=1400.000000, 기울기1=1.5002, 기울기2=2.2858, 절편=77.8561\n",
            "epoch=1600.000000, 기울기1=1.5000, 기울기2=2.2857, 절편=77.8569\n",
            "epoch=1800.000000, 기울기1=1.5000, 기울기2=2.2857, 절편=77.8571\n",
            "epoch=2000.000000, 기울기1=1.5000, 기울기2=2.2857, 절편=77.8571\n"
          ],
          "name": "stdout"
        }
      ]
    },
    {
      "cell_type": "markdown",
      "metadata": {
        "id": "dWTtuXdTL4Wr",
        "colab_type": "text"
      },
      "source": [
        "# 로지스틱 회귀와 경사하강법"
      ]
    },
    {
      "cell_type": "markdown",
      "metadata": {
        "id": "MvKYROENMBTx",
        "colab_type": "text"
      },
      "source": [
        "## 로지스틱 회귀\n",
        "* 참(1)인지 거짓(0)인지 분류하기 위한 모델\n",
        "* ex) [[2,0],[4,0],[6,0],[8,1],[10,1],[12,1],[14,1]]\n",
        "\n",
        "* 따라서 직선으로는 점들의 특성을 대표하기 어려움"
      ]
    },
    {
      "cell_type": "markdown",
      "metadata": {
        "id": "mvRGAZN1Mwbc",
        "colab_type": "text"
      },
      "source": [
        "* 하지만 결국 a,b를 찾는 문제\n",
        "y = 1 / (1 + e ^ -(ax_b) )\n",
        "* 이는 sigmoid 함수로 모델링 할 수 있음\n",
        "* a가 커지면 step function 에 가까워지며, b값에 따라 그래프가 좌 우로 움직임"
      ]
    },
    {
      "cell_type": "code",
      "metadata": {
        "id": "03dVVYDkN1fK",
        "colab_type": "code",
        "colab": {
          "base_uri": "https://localhost:8080/",
          "height": 283
        },
        "outputId": "c5278222-3ab8-4631-dbbd-ddf1ce94dba9"
      },
      "source": [
        "import numpy as np\n",
        "import matplotlib.pyplot as plt\n",
        "\n",
        "data = [[2,0],[4,0],[6,0],[8,1],[10,1],[12,1],[14,1]]\n",
        "\n",
        "x_data = [i[0] for i in data]\n",
        "y_data = [i[1] for i in data]\n",
        "\n",
        "#데이터 시각화\n",
        "plt.scatter(x_data, y_data)\n",
        "plt.xlim(0,15)\n",
        "plt.ylim(-0.1,1.1)"
      ],
      "execution_count": null,
      "outputs": [
        {
          "output_type": "execute_result",
          "data": {
            "text/plain": [
              "(-0.1, 1.1)"
            ]
          },
          "metadata": {
            "tags": []
          },
          "execution_count": 51
        },
        {
          "output_type": "display_data",
          "data": {
            "image/png": "[encoded data removed]",
            "text/plain": [
              "<Figure size 432x288 with 1 Axes>"
            ]
          },
          "metadata": {
            "tags": [],
            "needs_background": "light"
          }
        }
      ]
    },
    {
      "cell_type": "code",
      "metadata": {
        "id": "iwa-TuxEOIjj",
        "colab_type": "code",
        "colab": {}
      },
      "source": [
        "# 기울기 a와 절편 b 값 초기화\n",
        "a = 0\n",
        "b = 0\n",
        "\n",
        "# 학습률\n",
        "lr = 0.05\n",
        "\n",
        "epochs = 2001\n",
        "\n",
        "# 시그모이드 함수 정의\n",
        "def sigmoid(x):\n",
        "    return 1 / (1 + np.e**(-x))"
      ],
      "execution_count": null,
      "outputs": []
    },
    {
      "cell_type": "code",
      "metadata": {
        "id": "fuAnDPBBOZDZ",
        "colab_type": "code",
        "colab": {
          "base_uri": "https://localhost:8080/",
          "height": 395
        },
        "outputId": "2dd6a776-fcb6-4766-8c2a-4110275b984f"
      },
      "source": [
        "for i in range(epochs):\n",
        "    for xdata, ydata in data:\n",
        "        a_diff = xdata*(sigmoid(a*xdata + b) - ydata)\n",
        "        b_diff = sigmoid(a*xdata +b) - ydata\n",
        "\n",
        "        a = a-lr*a_diff\n",
        "        b = b-lr*b_diff\n",
        "\n",
        "        if i % 1000 == 0:\n",
        "            print(\"epoch = %d, 기울기 = %.04f, 절편 = %.04f\" % (i,a,b))"
      ],
      "execution_count": null,
      "outputs": [
        {
          "output_type": "stream",
          "text": [
            "epoch = 0, 기울기 = -0.0500, 절편 = -0.0250\n",
            "epoch = 0, 기울기 = -0.1388, 절편 = -0.0472\n",
            "epoch = 0, 기울기 = -0.2268, 절편 = -0.0619\n",
            "epoch = 0, 기울기 = 0.1201, 절편 = -0.0185\n",
            "epoch = 0, 기울기 = 0.2374, 절편 = -0.0068\n",
            "epoch = 0, 기울기 = 0.2705, 절편 = -0.0040\n",
            "epoch = 0, 기울기 = 0.2860, 절편 = -0.0029\n",
            "epoch = 1000, 기울기 = 1.4978, 절편 = -9.9401\n",
            "epoch = 1000, 기울기 = 1.4940, 절편 = -9.9411\n",
            "epoch = 1000, 기울기 = 1.4120, 절편 = -9.9547\n",
            "epoch = 1000, 기울기 = 1.4949, 절편 = -9.9444\n",
            "epoch = 1000, 기울기 = 1.4982, 절편 = -9.9440\n",
            "epoch = 1000, 기울기 = 1.4984, 절편 = -9.9440\n",
            "epoch = 1000, 기울기 = 1.4985, 절편 = -9.9440\n",
            "epoch = 2000, 기울기 = 1.9065, 절편 = -12.9489\n",
            "epoch = 2000, 기울기 = 1.9055, 절편 = -12.9491\n",
            "epoch = 2000, 기울기 = 1.8515, 절편 = -12.9581\n",
            "epoch = 2000, 기울기 = 1.9057, 절편 = -12.9514\n",
            "epoch = 2000, 기울기 = 1.9068, 절편 = -12.9513\n",
            "epoch = 2000, 기울기 = 1.9068, 절편 = -12.9513\n",
            "epoch = 2000, 기울기 = 1.9068, 절편 = -12.9513\n"
          ],
          "name": "stdout"
        }
      ]
    },
    {
      "cell_type": "code",
      "metadata": {
        "id": "iWUx0qXsO4wu",
        "colab_type": "code",
        "colab": {
          "base_uri": "https://localhost:8080/",
          "height": 265
        },
        "outputId": "c9bc4e19-afa3-4578-81d3-5df8c23cdfe0"
      },
      "source": [
        "#데이터 시각화\n",
        "plt.scatter(x_data, y_data)\n",
        "plt.xlim(0,15)\n",
        "plt.ylim(-0.1,1.1)\n",
        "x_range = np.arange(0,15,0.1)\n",
        "plt.plot(x_range, np.array([sigmoid(a*x +b) for x in x_range]))\n",
        "plt.show()"
      ],
      "execution_count": null,
      "outputs": [
        {
          "output_type": "display_data",
          "data": {
            "image/png": "[encoded data removed]",
            "text/plain": [
              "<Figure size 432x288 with 1 Axes>"
            ]
          },
          "metadata": {
            "tags": [],
            "needs_background": "light"
          }
        }
      ]
    }
  ]
}