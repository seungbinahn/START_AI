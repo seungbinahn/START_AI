{
  "nbformat": 4,
  "nbformat_minor": 0,
  "metadata": {
    "colab": {
      "name": "07_1_MNIST 인식.ipynb",
      "provenance": [],
      "collapsed_sections": [],
      "toc_visible": true,
      "authorship_tag": "ABX9TyP/xRTbw7MgwChWxJ/g+7Fv",
      "include_colab_link": true
    },
    "kernelspec": {
      "name": "python3",
      "display_name": "Python 3"
    }
  },
  "cells": [
    {
      "cell_type": "markdown",
      "metadata": {
        "id": "view-in-github",
        "colab_type": "text"
      },
      "source": [
        "<a href=\"https://colab.research.google.com/github/seungbinahn/START_AI/blob/master/02_Machine_Learning%E2%80%8E/07_1_MNIST_%EC%9D%B8%EC%8B%9D.ipynb\" target=\"_parent\"><img src=\"https://colab.research.google.com/assets/colab-badge.svg\" alt=\"Open In Colab\"/></a>"
      ]
    },
    {
      "cell_type": "markdown",
      "metadata": {
        "id": "Ao8IrwsTEdMx",
        "colab_type": "text"
      },
      "source": [
        "# MNIST"
      ]
    },
    {
      "cell_type": "markdown",
      "metadata": {
        "id": "bwW_2dy8E9OB",
        "colab_type": "text"
      },
      "source": [
        "* 딥러닝 모델의 'Hello world' 데이터 셋\n",
        "* 0~9 사이의 숫자를 손글씨로 쓴 이미지 데이터 셋\n",
        "* 입력 데이터 : 28*28 픽셀에 해당하는 0~255사이의 값\n",
        "* 타겟 데이터(label) : 0~9 사이의 값"
      ]
    },
    {
      "cell_type": "markdown",
      "metadata": {
        "id": "S9uRPnA5F-iS",
        "colab_type": "text"
      },
      "source": [
        "## 구글 드라이브와 연동"
      ]
    },
    {
      "cell_type": "code",
      "metadata": {
        "id": "gZZzMwkVGDN2",
        "colab_type": "code",
        "colab": {
          "base_uri": "https://localhost:8080/",
          "height": 127
        },
        "outputId": "7395e814-7cf3-4cc1-8df9-54b512a90e86"
      },
      "source": [
        "from google.colab import drive\n",
        "\n",
        "drive.mount('/content/gdrive')"
      ],
      "execution_count": null,
      "outputs": [
        {
          "output_type": "stream",
          "text": [
            "Go to this URL in a browser: https://accounts.google.com/o/oauth2/auth?client_id=947318989803-6bn6qk8qdgf4n4g3pfee6491hc0brc4i.apps.googleusercontent.com&redirect_uri=urn%3aietf%3awg%3aoauth%3a2.0%3aoob&response_type=code&scope=email%20https%3a%2f%2fwww.googleapis.com%2fauth%2fdocs.test%20https%3a%2f%2fwww.googleapis.com%2fauth%2fdrive%20https%3a%2f%2fwww.googleapis.com%2fauth%2fdrive.photos.readonly%20https%3a%2f%2fwww.googleapis.com%2fauth%2fpeopleapi.readonly\n",
            "\n",
            "Enter your authorization code:\n",
            "··········\n",
            "Mounted at /content/gdrive\n"
          ],
          "name": "stdout"
        }
      ]
    },
    {
      "cell_type": "code",
      "metadata": {
        "id": "mZ1iM3LYEYOg",
        "colab_type": "code",
        "colab": {
          "base_uri": "https://localhost:8080/",
          "height": 35
        },
        "outputId": "95f89fd0-1e9a-4b17-ab3d-155ef43d9592"
      },
      "source": [
        "!pwd # 리눅스 명령어는 ! 사용"
      ],
      "execution_count": null,
      "outputs": [
        {
          "output_type": "stream",
          "text": [
            "/content\n"
          ],
          "name": "stdout"
        }
      ]
    },
    {
      "cell_type": "code",
      "metadata": {
        "id": "e80XfWB7G9tb",
        "colab_type": "code",
        "colab": {}
      },
      "source": [
        "data_path = '/content/gdrive/My Drive/Colab Notebooks/data/sample_weight.pkl'"
      ],
      "execution_count": null,
      "outputs": []
    },
    {
      "cell_type": "code",
      "metadata": {
        "id": "HCaAvP5FID2R",
        "colab_type": "code",
        "colab": {}
      },
      "source": [
        "from tensorflow.keras.datasets import mnist\n",
        "import numpy as np"
      ],
      "execution_count": null,
      "outputs": []
    },
    {
      "cell_type": "code",
      "metadata": {
        "id": "msC1qQmxJNxS",
        "colab_type": "code",
        "colab": {
          "base_uri": "https://localhost:8080/",
          "height": 73
        },
        "outputId": "cfde421d-ead5-4ada-a0ec-ffde306c881f"
      },
      "source": [
        "(x_train, y_train), (x_test,y_test) = mnist.load_data()"
      ],
      "execution_count": null,
      "outputs": [
        {
          "output_type": "stream",
          "text": [
            "Downloading data from https://storage.googleapis.com/tensorflow/tf-keras-datasets/mnist.npz\n",
            "11493376/11490434 [==============================] - 0s 0us/step\n"
          ],
          "name": "stdout"
        }
      ]
    },
    {
      "cell_type": "code",
      "metadata": {
        "id": "epKN4fJRLUWL",
        "colab_type": "code",
        "colab": {
          "base_uri": "https://localhost:8080/",
          "height": 53
        },
        "outputId": "ed25442e-83bd-4a28-a7de-71f75597c65a"
      },
      "source": [
        "print(x_train.shape)\n",
        "print(x_test.shape)"
      ],
      "execution_count": null,
      "outputs": [
        {
          "output_type": "stream",
          "text": [
            "(60000, 28, 28)\n",
            "(10000, 28, 28)\n"
          ],
          "name": "stdout"
        }
      ]
    },
    {
      "cell_type": "markdown",
      "metadata": {
        "id": "xwt3Qux3NSWX",
        "colab_type": "text"
      },
      "source": [
        "## 데이터 전처리\n",
        "* flatten : 이미지 배열(28*28) 이 60000개 존재 : 이를 쭉 펴줌\n",
        "* normalization : 0 ~ 255 범위인 각 픽셀의 값을 0.0 ~ 1.0 범위로 변환"
      ]
    },
    {
      "cell_type": "code",
      "metadata": {
        "id": "sLbTpfr0LaLR",
        "colab_type": "code",
        "colab": {}
      },
      "source": [
        "x_train = x_train.reshape(60000, 28*28) # flatten\n",
        "x_train = x_train.astype('float32') / 255 # normalization\n",
        "\n",
        "x_test = x_test.reshape(10000, 28*28) # flatten\n",
        "x_test = x_test.astype('float32') / 255 # normalization"
      ],
      "execution_count": null,
      "outputs": []
    },
    {
      "cell_type": "markdown",
      "metadata": {
        "id": "x_YB_E9ES82H",
        "colab_type": "text"
      },
      "source": [
        "## 활성화 함수 구현"
      ]
    },
    {
      "cell_type": "code",
      "metadata": {
        "id": "fzwv0_FWOoab",
        "colab_type": "code",
        "colab": {}
      },
      "source": [
        "def sigmoid(x):\n",
        "  return 1 / (1 + np.exp(-x))\n",
        "\n",
        "def softmax(a):\n",
        "  \"\"\"\n",
        "  값 리스트를 확률 분포로 변화하는 함수\n",
        "\n",
        "  a : 값 리스트\n",
        "  \"\"\"\n",
        "  exp_a = np.exp(a) # 지수 함수 적용\n",
        "  sum_exp_a = np.sum(exp_a) # 지수 함수의 합\n",
        "  y = exp_a / sum_exp_a # 이산 확률분포로 변환\n",
        "  \n",
        "  return y"
      ],
      "execution_count": null,
      "outputs": []
    },
    {
      "cell_type": "markdown",
      "metadata": {
        "id": "KAvM0h4tTACu",
        "colab_type": "text"
      },
      "source": [
        "## 예측함수 구현"
      ]
    },
    {
      "cell_type": "code",
      "metadata": {
        "id": "4ASA8EWRNoTg",
        "colab_type": "code",
        "colab": {}
      },
      "source": [
        "import pickle\n",
        "\n",
        "def init_network():\n",
        "    \"\"\"\n",
        "    pickle 파일로부터 모델 로드\n",
        "    \"\"\"\n",
        "    with open(data_path, 'rb') as f:\n",
        "        network = pickle.load(f)\n",
        "\n",
        "    return network\n",
        "\n",
        "def predict(network, x):\n",
        "    W1, W2, W3 = network['W1'], network['W2'], network['W3']\n",
        "    b1, b2, b3 = network['b1'], network['b2'], network['b3']\n",
        "\n",
        "    a1 = np.dot(x, W1) + b1\n",
        "    z1 = sigmoid(a1)\n",
        "    a2 = np.dot(z1, W2) + b2\n",
        "    z2 = sigmoid(a2)\n",
        "    a3 = np.dot(z2, W3) + b3\n",
        "    y = softmax(a3)\n",
        "    \n",
        "    return y"
      ],
      "execution_count": null,
      "outputs": []
    },
    {
      "cell_type": "markdown",
      "metadata": {
        "id": "UuFim98eTC22",
        "colab_type": "text"
      },
      "source": [
        "## 결과"
      ]
    },
    {
      "cell_type": "code",
      "metadata": {
        "id": "qm1o75znOuYm",
        "colab_type": "code",
        "colab": {
          "base_uri": "https://localhost:8080/",
          "height": 35
        },
        "outputId": "b58e641f-3fbe-4f41-ca4e-9a7495aa3a9f"
      },
      "source": [
        "network = init_network()\n",
        "\n",
        "accuracy_cnt = 0\n",
        "for i in range(len(x_train)):\n",
        "    y = predict(network,x_train[i])\n",
        "    p = np.argmax(y) # 확률이 가장 높은 원소의 인덱스\n",
        "    if p == y_train[i]:\n",
        "        accuracy_cnt += 1\n",
        "\n",
        "print(\"Accuracy:\" + str(float(accuracy_cnt) / len(x_train)))"
      ],
      "execution_count": null,
      "outputs": [
        {
          "output_type": "stream",
          "text": [
            "Accuracy:0.9357666666666666\n"
          ],
          "name": "stdout"
        }
      ]
    },
    {
      "cell_type": "markdown",
      "metadata": {
        "id": "cmReE9QOTHKX",
        "colab_type": "text"
      },
      "source": [
        "# Batch 처리\n",
        "* 한장씩 처리하는것이 아니라 동시에 여러장 실행"
      ]
    },
    {
      "cell_type": "code",
      "metadata": {
        "id": "cPFsB2PzQXBG",
        "colab_type": "code",
        "colab": {
          "base_uri": "https://localhost:8080/",
          "height": 35
        },
        "outputId": "b244dbd6-5433-4f39-d6d2-d621241b1b38"
      },
      "source": [
        "network = init_network()\n",
        "\n",
        "batch_size = 100\n",
        "accuracy_cnt = 0\n",
        "\n",
        "for i in range(0, len(x_train), batch_size): # batch 단위로 잘라서 실행\n",
        "    x_batch = x_train[i:i+batch_size]\n",
        "    y_batch = predict(network, x_batch)\n",
        "    p = np.argmax(y_batch, axis = 1) # 1번째 차원을 축으로 최대값 인덱스 탐색\n",
        "    accuracy_cnt += np.sum(p == y_train[i:i+batch_size])\n",
        "\n",
        "print(\"Accuracy:\" + str(float(accuracy_cnt) / len(x_train)))"
      ],
      "execution_count": null,
      "outputs": [
        {
          "output_type": "stream",
          "text": [
            "Accuracy:0.9357666666666666\n"
          ],
          "name": "stdout"
        }
      ]
    },
    {
      "cell_type": "markdown",
      "metadata": {
        "id": "eDf6V6h1VIRn",
        "colab_type": "text"
      },
      "source": [
        "## np.argmax 함수\n",
        "리스트에서 최대값의 인덱스를 리턴함"
      ]
    },
    {
      "cell_type": "code",
      "metadata": {
        "id": "RoKxwbF8UxnB",
        "colab_type": "code",
        "colab": {
          "base_uri": "https://localhost:8080/",
          "height": 35
        },
        "outputId": "0d2f957f-362f-48f7-be76-18461d61aee0"
      },
      "source": [
        "x = np.array([[1,2,3,4],[4,5,4,5],[9,8,7,6],[2,2,2,1]])\n",
        "y = np.argmax(x, axis = 1)\n",
        "y"
      ],
      "execution_count": null,
      "outputs": [
        {
          "output_type": "execute_result",
          "data": {
            "text/plain": [
              "array([3, 1, 0, 0])"
            ]
          },
          "metadata": {
            "tags": []
          },
          "execution_count": 13
        }
      ]
    }
  ]
}