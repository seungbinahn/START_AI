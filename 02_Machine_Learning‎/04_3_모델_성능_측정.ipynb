{
  "nbformat": 4,
  "nbformat_minor": 0,
  "metadata": {
    "colab": {
      "name": "04_3_모델 성능 측정.ipynb",
      "provenance": [],
      "collapsed_sections": [],
      "toc_visible": true,
      "authorship_tag": "ABX9TyO1DFkU6RhRQ91w7KYFggok",
      "include_colab_link": true
    },
    "kernelspec": {
      "name": "python3",
      "display_name": "Python 3"
    }
  },
  "cells": [
    {
      "cell_type": "markdown",
      "metadata": {
        "id": "view-in-github",
        "colab_type": "text"
      },
      "source": [
        "<a href=\"https://colab.research.google.com/github/seungbinahn/START_AI/blob/master/02_Machine_Learning/04_3_%EB%AA%A8%EB%8D%B8_%EC%84%B1%EB%8A%A5_%EC%B8%A1%EC%A0%95.ipynb\" target=\"_parent\"><img src=\"https://colab.research.google.com/assets/colab-badge.svg\" alt=\"Open In Colab\"/></a>"
      ]
    },
    {
      "cell_type": "markdown",
      "metadata": {
        "id": "TQruFpbXU3Fs",
        "colab_type": "text"
      },
      "source": [
        "# 모델 성능 측정\n",
        "* 모델 : 머신러닝에서 어떠한 문제를 해결하는 시스템\n",
        "* 문제의 유형에 따라 성능을 측정할 수 있는 지표가 다름\n",
        "\n",
        "1. Regression(회귀)\n",
        "* x와 y값의 관계\n",
        "* MSE : 정답과 예측 값 차의 제곱의 평균\n",
        "* MAE : 정답과 예측 값 차의 절대값의 평균\n",
        "* R Square, Adjusted R square\n",
        "\n",
        "2. Classification(분류)의 성능 지표"
      ]
    },
    {
      "cell_type": "markdown",
      "metadata": {
        "id": "J8nPe-bOvXo8",
        "colab_type": "text"
      },
      "source": [
        "## 2진 분류의 성능 지표\n",
        "\n"
      ]
    },
    {
      "cell_type": "markdown",
      "metadata": {
        "id": "dQqf7CtD_kyK",
        "colab_type": "text"
      },
      "source": [
        "![image.png](data:image/png;base64,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)"
      ]
    },
    {
      "cell_type": "markdown",
      "metadata": {
        "id": "gzvT-s-EO0w-",
        "colab_type": "text"
      },
      "source": [
        "* P : Positive : 모델이 1로 예측\n",
        "* N : Negative : 모델이 0으로 예측\n",
        "* T : True : 예측이 맞음\n",
        "* F : False : 예측이 틀림\n",
        "----\n",
        "* TN : True-Negative : 0으로 예측했더니 맞음\n",
        "* TP : True-Positive : 1로 예측했더니 맞음\n",
        "* FN : False-Negative : 0으로 예측했더니 틀림\n",
        "* FP : False-Positive : 1로 예측했더니 틀림\n"
      ]
    },
    {
      "cell_type": "markdown",
      "metadata": {
        "id": "jN2CWsRMQAWP",
        "colab_type": "text"
      },
      "source": [
        "### Accuracy : 정합도\n",
        "* 전체 데이처 중에서 정답의 비율을 보여주는 지표\n",
        "* 모델이 정답을 정답으로, 오답을 오답으로 선택하는 가를 보여주는 지표\n",
        "* 전체 케이스 중에서 예측이 맞은 경우\n",
        "* (tp+tn) / (fp+fn+tp+tn)"
      ]
    },
    {
      "cell_type": "markdown",
      "metadata": {
        "id": "qakhP0eAQEHc",
        "colab_type": "text"
      },
      "source": [
        "### Precision : 정밀도\n",
        "* 모델에서 정답이 아닌것을 얼마나 잘 걸러 내는가\n",
        "* tp / (tp+fp) \n",
        "* fp : 1로 예측해서 틀린 경우\n",
        "* 모델의 참 예측 중에서 t의 비율\n",
        "* Negative인 데이터를 Positive로 잘못 분류하면 업무상 영향이 큰 경우\n",
        "* 스팸 메일 분류, 추천 시스템\n",
        "* 스팸 메일의 경우 정상메일이 스팸으로 분류되면 확인하지 않으면 문제가 될 수있음\n",
        "* 반면 스팸메일이 정상으로 분류되는 것은 큰 문제는 없음\n",
        "* 진짜 1일 것 같은것만 뽑으면 Precision이 상승, Recall이 하락"
      ]
    },
    {
      "cell_type": "markdown",
      "metadata": {
        "id": "y_smpfo5uhbC",
        "colab_type": "text"
      },
      "source": [
        "### Recall : 재현율\n",
        "* 모델에서 실제 정답을 얼마나 많이 선택하는 가를 보여주는 지표\n",
        "* tp / (tp+fn)\n",
        "* fn : 0으로 예측해서 틀린경우\n",
        "* 실제의 참 중에서 p의 비율\n",
        "* Test 데이터가 Positive인 데이터를 Negative로 잘못 하게 되면 업무상 영향이 큰 경우\n",
        "* 보험사기, 금융사기, 어뷰징, 질병 검출\n",
        "* 질병 검출의 경우 Positive로 해놓고, 나중에 정밀 검사를 통해 P,N을 판단하는게 나음\n",
        "* 조금만 조건이 맞으면 1로 뽑으면 Recall이 상승, Precision이 하락"
      ]
    },
    {
      "cell_type": "markdown",
      "metadata": {
        "id": "hPZo77meO-Ib",
        "colab_type": "text"
      },
      "source": [
        "### Precision과 Recall\n",
        "**recall과 precision은 trade-off 관계임**"
      ]
    },
    {
      "cell_type": "markdown",
      "metadata": {
        "id": "r_dPkWByhbxS",
        "colab_type": "text"
      },
      "source": [
        "## accuracy의 허점"
      ]
    },
    {
      "cell_type": "code",
      "metadata": {
        "id": "5cvU2ASphq9_",
        "colab_type": "code",
        "colab": {}
      },
      "source": [
        "import numpy as np\n",
        "from sklearn.base import BaseEstimator\n",
        "\n",
        "class MyDummyClassifier(BaseEstimator):\n",
        "    def fit(self, X , y=None): \n",
        "        pass\n",
        "    \n",
        "    def predict(self, X):# 예측 함수\n",
        "        pred = np.zeros( ( X.shape[0], 1 )) # 1차원 행렬 생성\n",
        "        for i in range (X.shape[0]) : # 각 행에 따라 2진 분류\n",
        "            if X['Sex'].iloc[i] == 1: # 남자는 사망\n",
        "                pred[i] = 0\n",
        "            else : # 여성은 생존\n",
        "                pred[i] = 1\n",
        "        \n",
        "        return pred\n"
      ],
      "execution_count": 1,
      "outputs": []
    },
    {
      "cell_type": "code",
      "metadata": {
        "id": "A7dFfWmzhryc",
        "colab_type": "code",
        "colab": {}
      },
      "source": [
        "# 전처리 함수\n",
        "from sklearn.preprocessing import LabelEncoder\n",
        "\n",
        "def fillna(df):\n",
        "  df['Age'].fillna(df['Age'].mean(),inplace=True)\n",
        "  df['Cabin'].fillna('N',inplace=True)\n",
        "  df['Embarked'].fillna('N',inplace=True)\n",
        "  df['Fare'].fillna(0,inplace=True)\n",
        "  \n",
        "  return df\n",
        "\n",
        "def drop_features(df):\n",
        "  df.drop(['PassengerId','Name','Ticket'],axis=1,inplace=True)\n",
        "  \n",
        "  return df\n",
        "\n",
        "def format_features(df):\n",
        "  df['Cabin']=df['Cabin'].str[:1]\n",
        "  features=['Cabin','Sex','Embarked']\n",
        "  \n",
        "  for feature in features:\n",
        "    le=LabelEncoder()\n",
        "    le=le.fit(df[feature])\n",
        "    df[feature]=le.transform(df[feature])\n",
        "  \n",
        "  return df\n",
        "\n",
        "def transform_features(df):\n",
        "  df=fillna(df)\n",
        "  df=drop_features(df)\n",
        "  df=format_features(df)\n",
        "  \n",
        "  return df"
      ],
      "execution_count": 2,
      "outputs": []
    },
    {
      "cell_type": "code",
      "metadata": {
        "id": "6jWMvSzyhvl9",
        "colab_type": "code",
        "colab": {
          "base_uri": "https://localhost:8080/",
          "height": 35
        },
        "outputId": "1f37cdda-6bd9-45d5-b93e-a4a9b1eb98b7"
      },
      "source": [
        "import pandas as pd\n",
        "from sklearn.model_selection import train_test_split\n",
        "from sklearn.metrics import accuracy_score\n",
        "\n",
        "titanic_df = pd.read_csv('./train.csv')\n",
        "y_titanic_df = titanic_df['Survived']\n",
        "X_titanic_df= titanic_df.drop('Survived', axis=1)\n",
        "X_titanic_df = transform_features(X_titanic_df)\n",
        "X_train, X_test, y_train, y_test=train_test_split(X_titanic_df, y_titanic_df, \\\n",
        "                                                  test_size=0.2, random_state=0)\n",
        "\n",
        "myclf = MyDummyClassifier()\n",
        "myclf.fit(X_train ,y_train)\n",
        "\n",
        "mypredictions = myclf.predict(X_test)\n",
        "print('Dummy Classifier의 정확도는: {0:.4f}'.format(accuracy_score(y_test , mypredictions)))"
      ],
      "execution_count": 3,
      "outputs": [
        {
          "output_type": "stream",
          "text": [
            "Dummy Classifier의 정확도는: 0.7877\n"
          ],
          "name": "stdout"
        }
      ]
    },
    {
      "cell_type": "code",
      "metadata": {
        "id": "Bf5I0W1Th8_r",
        "colab_type": "code",
        "colab": {
          "base_uri": "https://localhost:8080/",
          "height": 197
        },
        "outputId": "0a9f13e6-559c-42de-e060-f438dcb90cf9"
      },
      "source": [
        "from sklearn.datasets import load_digits\n",
        "from sklearn.model_selection import train_test_split\n",
        "from sklearn.base import BaseEstimator\n",
        "from sklearn.metrics import accuracy_score\n",
        "import numpy as np\n",
        "import pandas as pd\n",
        "\n",
        "# 허점을 테스트 하기 위한 클래스\n",
        "class MyFakeClassifier(BaseEstimator):\n",
        "    def fit(self,X,y): # fit으로 생성하는 모델은 없음\n",
        "        pass\n",
        "    \n",
        "    # 예측을 하는것이 아니라 입력값으로 들어오는 X 데이터 셋의 크기만큼 모두 0값으로 만들어서 반환\n",
        "    def predict(self,X):\n",
        "        return np.zeros( (len(X), 1) , dtype=bool)\n",
        "\n",
        "# 사이킷런의 내장 데이터 셋인 load_digits( )를 이용하여 MNIST(필기체 데이터) 데이터 로딩 \n",
        "digits = load_digits()\n",
        "\n",
        "print(digits.data)\n",
        "print(\"### digits.data.shape:\", digits.data.shape)\n",
        "print(digits.target)\n",
        "print(\"### digits.target.shape:\", digits.target.shape)\n"
      ],
      "execution_count": 4,
      "outputs": [
        {
          "output_type": "stream",
          "text": [
            "[[ 0.  0.  5. ...  0.  0.  0.]\n",
            " [ 0.  0.  0. ... 10.  0.  0.]\n",
            " [ 0.  0.  0. ... 16.  9.  0.]\n",
            " ...\n",
            " [ 0.  0.  1. ...  6.  0.  0.]\n",
            " [ 0.  0.  2. ... 12.  0.  0.]\n",
            " [ 0.  0. 10. ... 12.  1.  0.]]\n",
            "### digits.data.shape: (1797, 64)\n",
            "[0 1 2 ... 8 9 8]\n",
            "### digits.target.shape: (1797,)\n"
          ],
          "name": "stdout"
        }
      ]
    },
    {
      "cell_type": "code",
      "metadata": {
        "id": "aYZFIMNkh97U",
        "colab_type": "code",
        "colab": {
          "base_uri": "https://localhost:8080/",
          "height": 35
        },
        "outputId": "3d662d64-3fa3-490f-ba1a-dee236b97e92"
      },
      "source": [
        "# ndarray에 비교연산자를 사용한 불리언 추출\n",
        "digits.target == 7"
      ],
      "execution_count": 5,
      "outputs": [
        {
          "output_type": "execute_result",
          "data": {
            "text/plain": [
              "array([False, False, False, ..., False, False, False])"
            ]
          },
          "metadata": {
            "tags": []
          },
          "execution_count": 5
        }
      ]
    },
    {
      "cell_type": "code",
      "metadata": {
        "id": "-W6GZwwEiAYA",
        "colab_type": "code",
        "colab": {
          "base_uri": "https://localhost:8080/",
          "height": 35
        },
        "outputId": "ba5ee967-984f-4ba9-94bc-ba3a9f98ee98"
      },
      "source": [
        "# digits번호가 7번이면 True이고 이를 astype(int)로 1로 변환, 7번이 아니면 False이고 0으로 변환. \n",
        "# n진 문제를 2진 문제로 변환\n",
        "y = (digits.target == 7).astype(int)\n",
        "print(y[:30])\n",
        "\n",
        "X_train, X_test, y_train, y_test = train_test_split( digits.data, y, random_state=11)"
      ],
      "execution_count": 6,
      "outputs": [
        {
          "output_type": "stream",
          "text": [
            "[0 0 0 0 0 0 0 1 0 0 0 0 0 0 0 0 0 1 0 0 0 0 0 0 0 0 0 1 0 0]\n"
          ],
          "name": "stdout"
        }
      ]
    },
    {
      "cell_type": "code",
      "metadata": {
        "id": "OP5TAioGiL8R",
        "colab_type": "code",
        "colab": {
          "base_uri": "https://localhost:8080/",
          "height": 107
        },
        "outputId": "7b3bd690-894a-4ba3-f408-1718dddfb981"
      },
      "source": [
        "# 불균형한 레이블 데이터 분포도 확인. \n",
        "print('y_test.shape :', y_test.shape)\n",
        "print(pd.Series(y_test).value_counts())\n",
        "\n",
        "# Dummy Classifier로 학습/예측/정확도 평가\n",
        "fakeclf = MyFakeClassifier()\n",
        "fakeclf.fit(X_train , y_train)\n",
        "fakepred = fakeclf.predict(X_test)\n",
        "print('모든 예측을 0으로 했을 때 Accuracy:{:.3f}'.format(accuracy_score(y_test , fakepred)))\n",
        "# 그저 0으로 출력했을 뿐인데 Accuracy가 0.9 로 예측됨\n",
        "# 대상자 1000먕을 전부 암이 아니라고 해도 정합도는 90%"
      ],
      "execution_count": 7,
      "outputs": [
        {
          "output_type": "stream",
          "text": [
            "y_test.shape : (450,)\n",
            "0    405\n",
            "1     45\n",
            "dtype: int64\n",
            "모든 예측을 0으로 했을 때 Accuracy:0.900\n"
          ],
          "name": "stdout"
        }
      ]
    },
    {
      "cell_type": "markdown",
      "metadata": {
        "id": "o3qLzyATV_1S",
        "colab_type": "text"
      },
      "source": [
        "## 혼동행렬"
      ]
    },
    {
      "cell_type": "code",
      "metadata": {
        "id": "Ee27YE82ijYE",
        "colab_type": "code",
        "colab": {
          "base_uri": "https://localhost:8080/",
          "height": 53
        },
        "outputId": "b1f35b71-501a-4ded-82b0-1133417304af"
      },
      "source": [
        "from sklearn.metrics import confusion_matrix\n",
        "\n",
        "# 예측 결과인 fakepred와 실제 결과인 y_test의 Confusion Matrix출력\n",
        "# type here 27\n",
        "confusion_matrix(y_test, fakepred)"
      ],
      "execution_count": 8,
      "outputs": [
        {
          "output_type": "execute_result",
          "data": {
            "text/plain": [
              "array([[405,   0],\n",
              "       [ 45,   0]])"
            ]
          },
          "metadata": {
            "tags": []
          },
          "execution_count": 8
        }
      ]
    },
    {
      "cell_type": "markdown",
      "metadata": {
        "id": "fB06jvFiiqb0",
        "colab_type": "text"
      },
      "source": [
        "## Precision과 Recall"
      ]
    },
    {
      "cell_type": "code",
      "metadata": {
        "id": "pZ1oJR0Nisvy",
        "colab_type": "code",
        "colab": {
          "base_uri": "https://localhost:8080/",
          "height": 109
        },
        "outputId": "526693f9-d8da-4554-df25-9cc77c12e12b"
      },
      "source": [
        "from sklearn.metrics import accuracy_score, precision_score , recall_score\n",
        "\n",
        "# Accuracy가 굉장히 높지만, precision과 recall은 굉장히 낮음\n",
        "print('precision :', precision_score(y_test, fakepred)) # 0%\n",
        "print('recall :', recall_score(y_test, fakepred)) # 0%"
      ],
      "execution_count": 9,
      "outputs": [
        {
          "output_type": "stream",
          "text": [
            "precision : 0.0\n",
            "recall : 0.0\n"
          ],
          "name": "stdout"
        },
        {
          "output_type": "stream",
          "text": [
            "/usr/local/lib/python3.6/dist-packages/sklearn/metrics/_classification.py:1272: UndefinedMetricWarning: Precision is ill-defined and being set to 0.0 due to no predicted samples. Use `zero_division` parameter to control this behavior.\n",
            "  _warn_prf(average, modifier, msg_start, len(result))\n"
          ],
          "name": "stderr"
        }
      ]
    },
    {
      "cell_type": "code",
      "metadata": {
        "id": "7ctiqfKxU-CC",
        "colab_type": "code",
        "colab": {}
      },
      "source": [
        "from sklearn.metrics import accuracy_score, confusion_matrix, precision_score, recall_score\n",
        "\n",
        "# 성능 지표 출력 함수\n",
        "def get_clf_eval(y_test , pred):\n",
        "  confusion = confusion_matrix(y_test, pred)\n",
        "  accuracy = accuracy_score(y_test , pred)\n",
        "  precision = precision_score(y_test , pred)\n",
        "  recall = recall_score(y_test , pred)\n",
        "  \n",
        "  print('Confusion Matrixs')\n",
        "  print(confusion)\n",
        "  print('Accuracy: {0:.4f}, Presion: {1:.4f}, Recall: {2:.4f}'.format(accuracy , precision ,recall))"
      ],
      "execution_count": 10,
      "outputs": []
    },
    {
      "cell_type": "code",
      "metadata": {
        "id": "zA8DBfgEVpPo",
        "colab_type": "code",
        "colab": {}
      },
      "source": [
        "import pandas as pd\n",
        "from sklearn.preprocessing import StandardScaler\n",
        "from sklearn.model_selection import train_test_split\n",
        "\n",
        "df_titanic = pd.read_csv('./train.csv')\n",
        "\n",
        "df_y = df_titanic['Survived']\n",
        "\n",
        "df_x = df_titanic.drop('Survived', axis=1)\n",
        "df_x = transform_features(df_x)\n",
        "\n",
        "scaler = StandardScaler() # 표준화를 위한 Scaler\n",
        "df_x = scaler.fit_transform(df_x) # 표준화\n",
        "\n",
        "x_train,x_test, y_train,y_test = train_test_split(df_x, df_y, test_size=0.20, random_state=11)"
      ],
      "execution_count": 11,
      "outputs": []
    },
    {
      "cell_type": "code",
      "metadata": {
        "id": "Pv0sbfQgWECI",
        "colab_type": "code",
        "colab": {
          "base_uri": "https://localhost:8080/",
          "height": 89
        },
        "outputId": "1149d8a2-ab3d-4b07-f68a-6db2e2a76e36"
      },
      "source": [
        "from sklearn.linear_model import LogisticRegression\n",
        "\n",
        "# type here 31\n",
        "lr_clf = LogisticRegression()\n",
        "lr_clf.fit(x_train, y_train)\n",
        "pred = lr_clf.predict(x_test)\n",
        "\n",
        "get_clf_eval(y_test, pred)"
      ],
      "execution_count": 12,
      "outputs": [
        {
          "output_type": "stream",
          "text": [
            "Confusion Matrixs\n",
            "[[104  14]\n",
            " [ 13  48]]\n",
            "Accuracy: 0.8492, Presion: 0.7742, Recall: 0.7869\n"
          ],
          "name": "stdout"
        }
      ]
    },
    {
      "cell_type": "markdown",
      "metadata": {
        "id": "3cgXW21YYC0j",
        "colab_type": "text"
      },
      "source": [
        "## Precision - Recall Trade-off"
      ]
    },
    {
      "cell_type": "code",
      "metadata": {
        "id": "a6xZhDlTYDhF",
        "colab_type": "code",
        "colab": {
          "base_uri": "https://localhost:8080/",
          "height": 431
        },
        "outputId": "6833acb1-9099-45ff-e160-8aaed76e756d"
      },
      "source": [
        "# 정수형 결과\n",
        "pred  = lr_clf.predict(x_test) \n",
        "\n",
        "# proba : probability 예측의 확률 계산 함수\n",
        "# 0 1 정수형이 아닌 결과의 확률을 예측해줌\n",
        "pred_proba = lr_clf.predict_proba(x_test) \n",
        "print('pred_proba.shape: ', pred_proba.shape)\n",
        "print('pred_proba[:10]: \\n', pred_proba[:10])\n",
        "\n",
        "# 예측 확률 array 와 예측 결과값 array 를 concatenate 하여 예측 확률과 결과값을 한눈에 확인\n",
        "# np.concatenate()\n",
        "pred_proba_result = np.concatenate([pred_proba , pred.reshape(-1,1)],axis=1)\n",
        "print('pred_proba_result[:10] \\n',pred_proba_result[:10])\n",
        "# 임계값이 0.5로 설정한 결과"
      ],
      "execution_count": 13,
      "outputs": [
        {
          "output_type": "stream",
          "text": [
            "pred_proba.shape:  (179, 2)\n",
            "pred_proba[:10]: \n",
            " [[0.4518945  0.5481055 ]\n",
            " [0.88278978 0.11721022]\n",
            " [0.88135283 0.11864717]\n",
            " [0.88486684 0.11513316]\n",
            " [0.85920243 0.14079757]\n",
            " [0.88448836 0.11551164]\n",
            " [0.89225389 0.10774611]\n",
            " [0.20126782 0.79873218]\n",
            " [0.7871673  0.2128327 ]\n",
            " [0.35672099 0.64327901]]\n",
            "pred_proba_result[:10] \n",
            " [[0.4518945  0.5481055  1.        ]\n",
            " [0.88278978 0.11721022 0.        ]\n",
            " [0.88135283 0.11864717 0.        ]\n",
            " [0.88486684 0.11513316 0.        ]\n",
            " [0.85920243 0.14079757 0.        ]\n",
            " [0.88448836 0.11551164 0.        ]\n",
            " [0.89225389 0.10774611 0.        ]\n",
            " [0.20126782 0.79873218 1.        ]\n",
            " [0.7871673  0.2128327  0.        ]\n",
            " [0.35672099 0.64327901 1.        ]]\n"
          ],
          "name": "stdout"
        }
      ]
    },
    {
      "cell_type": "code",
      "metadata": {
        "id": "xpZoQln6xUH1",
        "colab_type": "code",
        "colab": {
          "base_uri": "https://localhost:8080/",
          "height": 71
        },
        "outputId": "fe9913b9-7ff0-41a6-8c40-26e8905fc410"
      },
      "source": [
        "# Binarizer의 활용\n",
        "from sklearn.preprocessing import Binarizer\n",
        "\n",
        "X = [[ 1, -1,  2],\n",
        "     [ 2,  0,  0],\n",
        "     [ 0,  1.1, 1.2]]\n",
        "\n",
        "# type 33\n",
        "# threshold 기준값보다 같거나 작으면 0을, 크면 1을 반환\n",
        "binarizer = Binarizer(threshold=1.1)\n",
        "print(binarizer.fit_transform(X))"
      ],
      "execution_count": 14,
      "outputs": [
        {
          "output_type": "stream",
          "text": [
            "[[0. 0. 1.]\n",
            " [1. 0. 0.]\n",
            " [0. 0. 1.]]\n"
          ],
          "name": "stdout"
        }
      ]
    },
    {
      "cell_type": "code",
      "metadata": {
        "id": "F_wXVgMPxjXv",
        "colab_type": "code",
        "colab": {
          "base_uri": "https://localhost:8080/",
          "height": 89
        },
        "outputId": "bb3ad28f-d11c-4b5e-b571-1f91822161b7"
      },
      "source": [
        "# Binarizer와 pred_prob로 threshold 별 precision recall 확인\n",
        "# Binarizer의 threshold 설정값. 분류 결정 임곗값임\n",
        "custom_threshold = 0.5\n",
        "\n",
        "# predict_proba( ) 반환값의 두번째 컬럼 , 즉 Positive 클래스 컬럼 하나만 추출하여 Binarizer를 적용\n",
        "pred_proba_1 = pred_proba[:,1].reshape(-1,1)\n",
        "\n",
        "binarizer = Binarizer(threshold=custom_threshold).fit(pred_proba_1) # binarizer 생성\n",
        "custom_predict = binarizer.transform(pred_proba_1) # 0과 1로 이진화\n",
        "\n",
        "get_clf_eval(y_test, custom_predict) # 결과 비교"
      ],
      "execution_count": 15,
      "outputs": [
        {
          "output_type": "stream",
          "text": [
            "Confusion Matrixs\n",
            "[[104  14]\n",
            " [ 13  48]]\n",
            "Accuracy: 0.8492, Presion: 0.7742, Recall: 0.7869\n"
          ],
          "name": "stdout"
        }
      ]
    },
    {
      "cell_type": "code",
      "metadata": {
        "id": "eQaU3FqkyR8b",
        "colab_type": "code",
        "colab": {
          "base_uri": "https://localhost:8080/",
          "height": 89
        },
        "outputId": "88ba1f83-0403-44d3-e811-2fd2f8d60dd3"
      },
      "source": [
        "# Binarizer와 pred_prob로 threshold 별 precision recall 확인\n",
        "# Binarizer의 threshold 설정값. 분류 결정 임곗값임\n",
        "custom_threshold = 0.4\n",
        "\n",
        "# predict_proba( ) 반환값의 두번째 컬럼 , 즉 Positive 클래스 컬럼 하나만 추출하여 Binarizer를 적용\n",
        "pred_proba_1 = pred_proba[:,1].reshape(-1,1)\n",
        "\n",
        "binarizer = Binarizer(threshold=custom_threshold).fit(pred_proba_1) # binarizer 생성\n",
        "custom_predict = binarizer.transform(pred_proba_1) # 0과 1로 이진화\n",
        "\n",
        "get_clf_eval(y_test, custom_predict) # 결과 비교"
      ],
      "execution_count": 16,
      "outputs": [
        {
          "output_type": "stream",
          "text": [
            "Confusion Matrixs\n",
            "[[98 20]\n",
            " [11 50]]\n",
            "Accuracy: 0.8268, Presion: 0.7143, Recall: 0.8197\n"
          ],
          "name": "stdout"
        }
      ]
    },
    {
      "cell_type": "markdown",
      "metadata": {
        "id": "o60p5OUxfQph",
        "colab_type": "text"
      },
      "source": [
        "* 임계값을 높이면 1을 더 보수적으로 선택, Presion이 올라가고 Recall이 떨어짐\n",
        "* 임계값을 낮추면 1을 더 여유있게 선택, Presion이 떨어지고 Recall이 올라감"
      ]
    },
    {
      "cell_type": "code",
      "metadata": {
        "id": "aaC9gmexySwh",
        "colab_type": "code",
        "colab": {
          "base_uri": "https://localhost:8080/",
          "height": 647
        },
        "outputId": "5fce57e7-ee3b-44e3-d364-54d588bc00c1"
      },
      "source": [
        "# 테스트를 수행할 모든 임곗값을 리스트 객체로 저장. \n",
        "thresholds = [0.4, 0.45, 0.50, 0.55, 0.60]\n",
        "\n",
        "def get_eval_by_threshold(y_test , pred_proba_c1, thresholds):\n",
        "    for custom_threshold in thresholds:\n",
        "        binarizer = Binarizer(threshold=custom_threshold).fit(pred_proba_c1) \n",
        "        custom_predict = binarizer.transform(pred_proba_c1)\n",
        "        print('임곗값:',custom_threshold)\n",
        "        get_clf_eval(y_test , custom_predict)\n",
        "        print('\\n')\n",
        "\n",
        "get_eval_by_threshold(y_test ,pred_proba[:,1].reshape(-1,1), thresholds )"
      ],
      "execution_count": 17,
      "outputs": [
        {
          "output_type": "stream",
          "text": [
            "임곗값: 0.4\n",
            "Confusion Matrixs\n",
            "[[98 20]\n",
            " [11 50]]\n",
            "Accuracy: 0.8268, Presion: 0.7143, Recall: 0.8197\n",
            "\n",
            "\n",
            "임곗값: 0.45\n",
            "Confusion Matrixs\n",
            "[[102  16]\n",
            " [ 12  49]]\n",
            "Accuracy: 0.8436, Presion: 0.7538, Recall: 0.8033\n",
            "\n",
            "\n",
            "임곗값: 0.5\n",
            "Confusion Matrixs\n",
            "[[104  14]\n",
            " [ 13  48]]\n",
            "Accuracy: 0.8492, Presion: 0.7742, Recall: 0.7869\n",
            "\n",
            "\n",
            "임곗값: 0.55\n",
            "Confusion Matrixs\n",
            "[[109   9]\n",
            " [ 15  46]]\n",
            "Accuracy: 0.8659, Presion: 0.8364, Recall: 0.7541\n",
            "\n",
            "\n",
            "임곗값: 0.6\n",
            "Confusion Matrixs\n",
            "[[112   6]\n",
            " [ 15  46]]\n",
            "Accuracy: 0.8827, Presion: 0.8846, Recall: 0.7541\n",
            "\n",
            "\n"
          ],
          "name": "stdout"
        }
      ]
    },
    {
      "cell_type": "markdown",
      "metadata": {
        "id": "QqOEY-P6glt6",
        "colab_type": "text"
      },
      "source": [
        "임계값에 따라 Presion과 Recall이 서로 trade-off 관계를 가지고 변화함"
      ]
    },
    {
      "cell_type": "markdown",
      "metadata": {
        "id": "mfjGyIC7ipjy",
        "colab_type": "text"
      },
      "source": [
        "### 실험 자동화"
      ]
    },
    {
      "cell_type": "code",
      "metadata": {
        "id": "kcV-4PYHhKJb",
        "colab_type": "code",
        "colab": {
          "base_uri": "https://localhost:8080/",
          "height": 305
        },
        "outputId": "1077258f-e9ad-4d8e-9805-ca60cf6e1bdf"
      },
      "source": [
        "# precision-recall_curve() API\n",
        "# Trade-off 시각화\n",
        "from sklearn.metrics import precision_recall_curve\n",
        "\n",
        "# 레이블 값이 1일때의 예측 확률을 추출 \n",
        "pred_proba_class1 = lr_clf.predict_proba(x_test)[:, 1] \n",
        "\n",
        "# 실제값 데이터 셋과 레이블 값이 1일 때의 예측 확률을 precision_recall_curve 인자로 입력 \n",
        "precisions, recalls, thresholds = precision_recall_curve(y_test, pred_proba_class1 )\n",
        "\n",
        "# 각 성능 지표의 ndarray의 shape\n",
        "print('반환된 분류 결정 임곗값 배열의 Shape:', thresholds.shape) # 143 등분된 threshold로 실험\n",
        "print('반환된 precisions 배열의 Shape:', precisions.shape)\n",
        "print('반환된 recalls 배열의 Shape:', recalls.shape)\n",
        "\n",
        "print('\\n')\n",
        "\n",
        "print(\"thresholds 5 sample:\", thresholds[:5])\n",
        "print(\"precisions 5 sample:\", precisions[:5])\n",
        "print(\"recalls 5 sample:\", recalls[:5])\n",
        "\n",
        "print('\\n')\n",
        "\n",
        "thr_index = np.arange(0, thresholds.shape[0], 15) # 값을 확인할 인덱스 선정\n",
        "print('샘플 추출을 위한 임계값 배열의 index 10개:', thr_index)\n",
        "\n",
        "print('\\n')\n",
        "\n",
        "# 15 step 단위로 추출된 임계값에 따른 정밀도와 재현율 값 \n",
        "print('샘플용 10개의 임곗값: ', np.round(thresholds[thr_index], 2))\n",
        "print('샘플 임계값별 정밀도: ', np.round(precisions[thr_index], 3))\n",
        "print('샘플 임계값별 재현율: ', np.round(recalls[thr_index], 3))"
      ],
      "execution_count": 18,
      "outputs": [
        {
          "output_type": "stream",
          "text": [
            "반환된 분류 결정 임곗값 배열의 Shape: (143,)\n",
            "반환된 precisions 배열의 Shape: (144,)\n",
            "반환된 recalls 배열의 Shape: (144,)\n",
            "\n",
            "\n",
            "thresholds 5 sample: [0.10030568 0.10030775 0.10033106 0.10278191 0.10513345]\n",
            "precisions 5 sample: [0.38853503 0.38461538 0.38709677 0.38961039 0.38562092]\n",
            "recalls 5 sample: [1.         0.98360656 0.98360656 0.98360656 0.96721311]\n",
            "\n",
            "\n",
            "샘플 추출을 위한 임계값 배열의 index 10개: [  0  15  30  45  60  75  90 105 120 135]\n",
            "\n",
            "\n",
            "샘플용 10개의 임곗값:  [0.1  0.12 0.14 0.18 0.28 0.4  0.56 0.68 0.83 0.95]\n",
            "샘플 임계값별 정밀도:  [0.389 0.44  0.466 0.539 0.647 0.714 0.836 0.949 0.958 1.   ]\n",
            "샘플 임계값별 재현율:  [1.    0.967 0.902 0.902 0.902 0.82  0.754 0.607 0.377 0.148]\n"
          ],
          "name": "stdout"
        }
      ]
    },
    {
      "cell_type": "code",
      "metadata": {
        "id": "hXbxtWCUhaZP",
        "colab_type": "code",
        "colab": {
          "base_uri": "https://localhost:8080/",
          "height": 388
        },
        "outputId": "0b640091-48d6-4f4b-e83f-8300c9bd926c"
      },
      "source": [
        "import matplotlib.pyplot as plt\n",
        "import matplotlib.ticker as ticker\n",
        "%matplotlib inline\n",
        "\n",
        "def precision_recall_curve_plot(y_test , pred_proba_c1):\n",
        "    # threshold ndarray와 이 threshold에 따른 정밀도, 재현율 ndarray 추출. \n",
        "    precisions, recalls, thresholds = precision_recall_curve( y_test, pred_proba_c1)\n",
        "    \n",
        "    # X축을 threshold값으로, Y축은 정밀도, 재현율 값으로 각각 Plot 수행. 정밀도는 점선으로 표시\n",
        "    plt.figure(figsize=(8,6))\n",
        "    threshold_boundary = thresholds.shape[0]\n",
        "    plt.plot(thresholds, precisions[0:threshold_boundary], linestyle='--', label='precision')\n",
        "    plt.plot(thresholds, recalls[0:threshold_boundary],label='recall')\n",
        "    \n",
        "    # threshold 값 X 축의 Scale을 0.1 단위로 변경\n",
        "    start, end = plt.xlim()\n",
        "    plt.xticks(np.round(np.arange(start, end, 0.1),2))\n",
        "    \n",
        "    # x축, y축 label과 legend, 그리고 grid 설정\n",
        "    plt.xlabel('Threshold value'); plt.ylabel('Precision and Recall value')\n",
        "    plt.legend(); plt.grid()\n",
        "    plt.show()\n",
        "    \n",
        "precision_recall_curve_plot( y_test, lr_clf.predict_proba(x_test)[:, 1] )"
      ],
      "execution_count": 19,
      "outputs": [
        {
          "output_type": "display_data",
          "data": {
            "image/png": "[encoded data removed]",
            "text/plain": [
              "<Figure size 576x432 with 1 Axes>"
            ]
          },
          "metadata": {
            "tags": [],
            "needs_background": "light"
          }
        }
      ]
    },
    {
      "cell_type": "markdown",
      "metadata": {
        "id": "Ka7hTXErjJVB",
        "colab_type": "text"
      },
      "source": [
        "## F1 Score\n",
        "* Precision, Recall을 결합한 지표\n",
        "* Precision, Recall이 한쪽으로 치우치지 않을 때 높은 값을 보임\n",
        "* f1_score(y_true, y_pred) API 사용\n",
        "\n",
        "F1 = 2 * (precision*recall) / (precision + recall)"
      ]
    },
    {
      "cell_type": "code",
      "metadata": {
        "id": "8TX_hVDCjIiv",
        "colab_type": "code",
        "colab": {
          "base_uri": "https://localhost:8080/",
          "height": 35
        },
        "outputId": "e62a058f-3f07-4b60-f7e8-065834731637"
      },
      "source": [
        "from sklearn.metrics import f1_score\n",
        "f1 = f1_score(y_test, pred)\n",
        "print('F1 스코어: %.4f' % f1)"
      ],
      "execution_count": 20,
      "outputs": [
        {
          "output_type": "stream",
          "text": [
            "F1 스코어: 0.7805\n"
          ],
          "name": "stdout"
        }
      ]
    },
    {
      "cell_type": "code",
      "metadata": {
        "id": "mR4fXWskjpZG",
        "colab_type": "code",
        "colab": {}
      },
      "source": [
        "from sklearn.metrics import accuracy_score, confusion_matrix, precision_score, recall_score, f1_score\n",
        "\n",
        "def get_clf_eval(y_test , pred):\n",
        "  confusion = confusion_matrix(y_test, pred)\n",
        "  accuracy = accuracy_score(y_test , pred)\n",
        "  precision = precision_score(y_test , pred)\n",
        "  recall = recall_score(y_test , pred)\n",
        "  f1 = f1_score(y_test , pred)\n",
        "  \n",
        "  print('Confusion Matrixs')\n",
        "  print(confusion)\n",
        "  print('Accuracy:{0:.4f}, Presion:{1:.4f}, Recall:{2:.4f}, F1:{3:4f}​'.format(accuracy , precision ,recall, f1))\n"
      ],
      "execution_count": 21,
      "outputs": []
    },
    {
      "cell_type": "code",
      "metadata": {
        "id": "2cYpLdwMjwLN",
        "colab_type": "code",
        "colab": {}
      },
      "source": [
        "from sklearn.preprocessing import Binarizer\n",
        "\n",
        "def get_eval_by_threshold(y_test , pred_proba, thresholds):\n",
        "  for custom_threshold in thresholds:\n",
        "    binarizer = Binarizer(threshold=custom_threshold).fit(pred_proba)\n",
        "    custom_predict = binarizer.transform(pred_proba)\n",
        "\n",
        "    print('\\nThreshold:',custom_threshold)\n",
        "    get_clf_eval(y_test , custom_predict)\n"
      ],
      "execution_count": 22,
      "outputs": []
    },
    {
      "cell_type": "code",
      "metadata": {
        "id": "sOIuzmgcj5IN",
        "colab_type": "code",
        "colab": {
          "base_uri": "https://localhost:8080/",
          "height": 557
        },
        "outputId": "ebf6b75c-1cf5-4aba-c756-3ff7e61793c0"
      },
      "source": [
        "pred_proba = lr_clf.predict_proba(x_test)\n",
        "thresholds = [0.4, 0.45, 0.50, 0.55, 0.60]\n",
        "get_eval_by_threshold(y_test, pred_proba[:,1].reshape(-1,1), thresholds)"
      ],
      "execution_count": 23,
      "outputs": [
        {
          "output_type": "stream",
          "text": [
            "\n",
            "Threshold: 0.4\n",
            "Confusion Matrixs\n",
            "[[98 20]\n",
            " [11 50]]\n",
            "Accuracy:0.8268, Presion:0.7143, Recall:0.8197, F1:0.763359​\n",
            "\n",
            "Threshold: 0.45\n",
            "Confusion Matrixs\n",
            "[[102  16]\n",
            " [ 12  49]]\n",
            "Accuracy:0.8436, Presion:0.7538, Recall:0.8033, F1:0.777778​\n",
            "\n",
            "Threshold: 0.5\n",
            "Confusion Matrixs\n",
            "[[104  14]\n",
            " [ 13  48]]\n",
            "Accuracy:0.8492, Presion:0.7742, Recall:0.7869, F1:0.780488​\n",
            "\n",
            "Threshold: 0.55\n",
            "Confusion Matrixs\n",
            "[[109   9]\n",
            " [ 15  46]]\n",
            "Accuracy:0.8659, Presion:0.8364, Recall:0.7541, F1:0.793103​\n",
            "\n",
            "Threshold: 0.6\n",
            "Confusion Matrixs\n",
            "[[112   6]\n",
            " [ 15  46]]\n",
            "Accuracy:0.8827, Presion:0.8846, Recall:0.7541, F1:0.814159​\n"
          ],
          "name": "stdout"
        }
      ]
    }
  ]
}