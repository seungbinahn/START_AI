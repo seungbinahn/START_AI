{
  "nbformat": 4,
  "nbformat_minor": 0,
  "metadata": {
    "colab": {
      "name": "07_2_손실함수.ipynb",
      "provenance": [],
      "collapsed_sections": [],
      "toc_visible": true,
      "authorship_tag": "ABX9TyNomHEgInorrFYS3088bB4G",
      "include_colab_link": true
    },
    "kernelspec": {
      "name": "python3",
      "display_name": "Python 3"
    }
  },
  "cells": [
    {
      "cell_type": "markdown",
      "metadata": {
        "id": "view-in-github",
        "colab_type": "text"
      },
      "source": [
        "<a href=\"https://colab.research.google.com/github/seungbinahn/START_AI/blob/master/02_Machine_Learning%E2%80%8E/07_2_%EC%86%90%EC%8B%A4%ED%95%A8%EC%88%98.ipynb\" target=\"_parent\"><img src=\"https://colab.research.google.com/assets/colab-badge.svg\" alt=\"Open In Colab\"/></a>"
      ]
    },
    {
      "cell_type": "markdown",
      "metadata": {
        "id": "YFKkpQycX_7y",
        "colab_type": "text"
      },
      "source": [
        "# 딥러닝\n",
        "* 지금까지는 가중치, 매개변수 값을 수작업으로 설정\n",
        "* 모델학습 : 훈련 데이터로부터 가중치 매개변수의 최적값을 자동으로 획득\n",
        "* 특정 지표를 활용하여 최적값 탐색"
      ]
    },
    {
      "cell_type": "markdown",
      "metadata": {
        "id": "yyzLkJRiYNDm",
        "colab_type": "text"
      },
      "source": [
        "## 손실 함수\n",
        "* Loss Function\n",
        ": Neural Network의 최적 weight를 찾기 위한 지표\n",
        "* 일반적으로 사용되는 손실함수\n",
        "* MSE(Mean Squared Eroor) : 평균 제곱 오차\n",
        "* GEE(Cross Entropy Error) : 교차 엔트로피 오차\n"
      ]
    },
    {
      "cell_type": "markdown",
      "metadata": {
        "id": "mXJ_J9imYe7m",
        "colab_type": "text"
      },
      "source": [
        "### MSE\n",
        "* 가장 많이 사용하는 Loss Function\n",
        "* E = sum((Yk-Tk)^2) / 2\n",
        "* Yk : 신경망의 출력(예측값), Tk: 정답 레이블\n",
        "\n",
        "* 각 Output Node의 Prediction과 label 간의 차를 제곱한 후 총합을 더함"
      ]
    },
    {
      "cell_type": "code",
      "metadata": {
        "id": "HGX6wOC8XqZm",
        "colab_type": "code",
        "colab": {}
      },
      "source": [
        "import numpy as np\n",
        "\n",
        "def mean_squared_error(y, t):\n",
        "    return 0.5 * np.sum((y-t)**2)"
      ],
      "execution_count": null,
      "outputs": []
    },
    {
      "cell_type": "code",
      "metadata": {
        "id": "7efihj_baUeD",
        "colab_type": "code",
        "colab": {
          "base_uri": "https://localhost:8080/",
          "height": 35
        },
        "outputId": "fe2daf21-7096-4358-f157-cba538d03e80"
      },
      "source": [
        "y = [0.1, 0.05, 0.6, 0.0, 0.05, 0.1, 0.0, 0.1, 0.0, 0.0]\n",
        "# 2일 확률이 가장 높다고 추정\n",
        "t = [0,0,1,0,0,0,0,0,0,0]\n",
        "\n",
        "mean_squared_error(np.array(y),np.array(t))"
      ],
      "execution_count": null,
      "outputs": [
        {
          "output_type": "execute_result",
          "data": {
            "text/plain": [
              "0.09750000000000003"
            ]
          },
          "metadata": {
            "tags": []
          },
          "execution_count": 4
        }
      ]
    },
    {
      "cell_type": "code",
      "metadata": {
        "id": "KJEjFVNoas7G",
        "colab_type": "code",
        "colab": {
          "base_uri": "https://localhost:8080/",
          "height": 35
        },
        "outputId": "fb506937-d87d-4f44-eed9-fc45dd3376ac"
      },
      "source": [
        "# 확률 분포를 구하고 (7이 가장 높음)\n",
        "y = [0.1, 0.05, 0.1, 0.0, 0.05, 0.1, 0.0, 0.6, 0.0, 0.0]\n",
        "# 그런데 2일 확률이 가장 높다고 추정\n",
        "t = [0,0,1,0,0,0,0,0,0,0]\n",
        "\n",
        "# E 증가\n",
        "mean_squared_error(np.array(y),np.array(t))"
      ],
      "execution_count": null,
      "outputs": [
        {
          "output_type": "execute_result",
          "data": {
            "text/plain": [
              "0.5975"
            ]
          },
          "metadata": {
            "tags": []
          },
          "execution_count": 5
        }
      ]
    },
    {
      "cell_type": "markdown",
      "metadata": {
        "id": "UElf9VKXcQ7-",
        "colab_type": "text"
      },
      "source": [
        "### CEE\n",
        "* Tk : 정답 레이블\n",
        "* Yk : Output Node의 출력\n",
        "* Tk 는 One-Hot Encoding이기 때문에 정답일 경우만 Tk값이 1\n",
        "* 이때의 log Yk를 게산한 값이 CEE의 결과값\n",
        "(정답일 떄의 출력이 전체 값 결정)\n",
        "\n",
        "E = - sum(Tk log Yk)\n",
        "* 정답에 해당하는 Output이 1일 때 0\n",
        "* 정답에 해당하는 output이 작을수록 값이 점점 커짐\n",
        "* 로그 그래프의 모양을 고려하면 됨"
      ]
    },
    {
      "cell_type": "code",
      "metadata": {
        "id": "tTE70oV3cQk2",
        "colab_type": "code",
        "colab": {}
      },
      "source": [
        "import numpy as np\n",
        "\n",
        "def cross_entropy_error(y, t):\n",
        "    \"\"\"\n",
        "    delta는 로그 함수에 0이 들어가면 계산이 중지되므로 \n",
        "    작은 값을 더해 이를 방지해줌\n",
        "    \"\"\"\n",
        "    delta = 1e-7\n",
        "    return -np.sum(t*np.log(y+delta))"
      ],
      "execution_count": null,
      "outputs": []
    },
    {
      "cell_type": "code",
      "metadata": {
        "id": "HFmz0bXIbQKe",
        "colab_type": "code",
        "colab": {
          "base_uri": "https://localhost:8080/",
          "height": 35
        },
        "outputId": "89e526d6-9be2-438b-e4b6-c021771be26e"
      },
      "source": [
        "# 2일 확률이 가장 높은 데이터\n",
        "y = [0.1, 0.05, 0.6, 0.0, 0.05, 0.1, 0.0, 0.1, 0.0, 0.0]\n",
        "\n",
        "# 2일 확률이 가장 높다고 추정\n",
        "t = [0,0,1,0,0,0,0,0,0,0] # one-hot\n",
        "\n",
        "cross_entropy_error(np.array(y),np.array(t))"
      ],
      "execution_count": null,
      "outputs": [
        {
          "output_type": "execute_result",
          "data": {
            "text/plain": [
              "0.510825457099338"
            ]
          },
          "metadata": {
            "tags": []
          },
          "execution_count": 8
        }
      ]
    },
    {
      "cell_type": "code",
      "metadata": {
        "id": "kjcxHsgddqNN",
        "colab_type": "code",
        "colab": {
          "base_uri": "https://localhost:8080/",
          "height": 35
        },
        "outputId": "de16673b-3f56-460f-cd99-6d6cd4f4a0d1"
      },
      "source": [
        "# 7일 확률이 가장 높은 데이터\n",
        "y = [0.1, 0.05, 0.1, 0.0, 0.05, 0.1, 0.0, 0.6, 0.0, 0.0]\n",
        "\n",
        "# 2일 확률이 가장 높다고 추정\n",
        "t = [0,0,1,0,0,0,0,0,0,0] \n",
        "\n",
        "# 이전 결과에 비하여 E 증가\n",
        "cross_entropy_error(np.array(y),np.array(t))"
      ],
      "execution_count": null,
      "outputs": [
        {
          "output_type": "execute_result",
          "data": {
            "text/plain": [
              "2.302584092994546"
            ]
          },
          "metadata": {
            "tags": []
          },
          "execution_count": 12
        }
      ]
    },
    {
      "cell_type": "markdown",
      "metadata": {
        "id": "tdkn3jieeV2-",
        "colab_type": "text"
      },
      "source": [
        "## Batch 학습\n",
        "* 모든 훈련 데이터를 대상으로 손실함수를 구하고, 그 값을 최대한 줄이는 것이 이상적\n",
        "* 현실적으로 모든 데이터를 대상으로 손실 함수를 계산하기는 어려움\n",
        "* 데이터의 일부를 추려 전체의 근사치로 이용할 수 있음\n",
        "* 미니배치 : 훈련 데이터로부터 일부를 무작위로 뽑아 학습 수행"
      ]
    },
    {
      "cell_type": "code",
      "metadata": {
        "id": "LF2_o0qXezcK",
        "colab_type": "code",
        "colab": {}
      },
      "source": [
        "# 데이터가 하나인 경우와 배치로 묶여 입력될 경우 모두 처리\n",
        "def cross_batch_entropy_error(y, t):\n",
        "    delta = 1e-7\n",
        "    if y.ndim == 1: # 데이터가 1개인 경우 고려(차원 변경하여 평균 계산)\n",
        "        t = t.reshape(1, t.size)\n",
        "        y = y.reshape(1, y.size)\n",
        "    batch_size = y.shape[0] # 행수를 보면 배치의 크기를 알 수 있음\n",
        "    return -np.sum(t*np.log(y+delta)) / batch_size # 배치 크기로 나누어 정규화"
      ],
      "execution_count": null,
      "outputs": []
    },
    {
      "cell_type": "code",
      "metadata": {
        "id": "e1hc_4DPhH-e",
        "colab_type": "code",
        "colab": {
          "base_uri": "https://localhost:8080/",
          "height": 35
        },
        "outputId": "1323f2ae-d639-4119-80c4-2edaef1021a7"
      },
      "source": [
        "# 2일 확률이 가장 높은 데이터\n",
        "y = [0.1, 0.05, 0.6, 0.0, 0.05, 0.1, 0.0, 0.1, 0.0, 0.0]\n",
        "\n",
        "# 2일 확률이 가장 높다고 추정\n",
        "t = [0,0,1,0,0,0,0,0,0,0] # one-hot\n",
        "\n",
        "cross_batch_entropy_error(np.array(y),np.array(t))"
      ],
      "execution_count": null,
      "outputs": [
        {
          "output_type": "execute_result",
          "data": {
            "text/plain": [
              "0.510825457099338"
            ]
          },
          "metadata": {
            "tags": []
          },
          "execution_count": 20
        }
      ]
    },
    {
      "cell_type": "code",
      "metadata": {
        "id": "nHOya55_hJ_m",
        "colab_type": "code",
        "colab": {
          "base_uri": "https://localhost:8080/",
          "height": 35
        },
        "outputId": "843ec624-c366-4298-a8e5-92a5da5e5914"
      },
      "source": [
        "# 7일 확률이 가장 높은 데이터\n",
        "y = [0.1, 0.05, 0.1, 0.0, 0.05, 0.1, 0.0, 0.6, 0.0, 0.0]\n",
        "\n",
        "# 2일 확률이 가장 높다고 추정\n",
        "t = [0,0,1,0,0,0,0,0,0,0] \n",
        "\n",
        "# 이전 결과에 비하여 E 증가\n",
        "cross_batch_entropy_error(np.array(y),np.array(t))"
      ],
      "execution_count": null,
      "outputs": [
        {
          "output_type": "execute_result",
          "data": {
            "text/plain": [
              "2.302584092994546"
            ]
          },
          "metadata": {
            "tags": []
          },
          "execution_count": 21
        }
      ]
    }
  ]
}