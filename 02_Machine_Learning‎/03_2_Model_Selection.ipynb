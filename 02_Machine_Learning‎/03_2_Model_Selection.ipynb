{
  "nbformat": 4,
  "nbformat_minor": 0,
  "metadata": {
    "colab": {
      "name": "03_2_Model_Selection.ipynb",
      "provenance": [],
      "collapsed_sections": [],
      "toc_visible": true,
      "authorship_tag": "ABX9TyMpqMa68gTkpWXY6lVxcUBQ",
      "include_colab_link": true
    },
    "kernelspec": {
      "name": "python3",
      "display_name": "Python 3"
    }
  },
  "cells": [
    {
      "cell_type": "markdown",
      "metadata": {
        "id": "view-in-github",
        "colab_type": "text"
      },
      "source": [
        "<a href=\"https://colab.research.google.com/github/seungbinahn/START_AI/blob/master/02_Machine_Learning%E2%80%8E/03_2_Model_Selection.ipynb\" target=\"_parent\"><img src=\"https://colab.research.google.com/assets/colab-badge.svg\" alt=\"Open In Colab\"/></a>"
      ]
    },
    {
      "cell_type": "markdown",
      "metadata": {
        "id": "NdWC4AG8SWmR",
        "colab_type": "text"
      },
      "source": [
        "# Model Selection \n",
        "* 최적의 모델 찾기\n",
        "* 트레인셋과 테스트셋은 서로 달라야 함"
      ]
    },
    {
      "cell_type": "code",
      "metadata": {
        "id": "sRdpALuPQ7lw",
        "colab_type": "code",
        "colab": {
          "base_uri": "https://localhost:8080/",
          "height": 35
        },
        "outputId": "951619e3-ed25-46a7-fd2c-94b2c1d1be1f"
      },
      "source": [
        "from sklearn.datasets import load_iris\n",
        "from sklearn.tree import DecisionTreeClassifier\n",
        "from sklearn.metrics import accuracy_score\n",
        "\n",
        "iris = load_iris()\n",
        "dt_clf = DecisionTreeClassifier()\n",
        "\n",
        "train_data = iris.data\n",
        "train_label = iris.target\n",
        "\n",
        "# 트레인 셋으로 테스트도 진행\n",
        "dt_clf.fit(train_data, train_label)\n",
        "pred = dt_clf.predict(train_data)\n",
        "\n",
        "# 1.0 이라는 비이상적 결과 발생\n",
        "print('predictioin accuracy:',accuracy_score(train_label, pred))"
      ],
      "execution_count": 1,
      "outputs": [
        {
          "output_type": "stream",
          "text": [
            "predictioin accuracy: 1.0\n"
          ],
          "name": "stdout"
        }
      ]
    },
    {
      "cell_type": "markdown",
      "metadata": {
        "id": "idK0RITlWFyR",
        "colab_type": "text"
      },
      "source": [
        "## K Fold Cross Validataion\n",
        "* K겹 교차 검증\n",
        "* K 개의 데이터 Fold를 생성\n",
        "* 학습과 검증 평가를 반복 수행\n",
        "* 각 검증 과정 마다 accuracy(정확성) 생성\n",
        "* 각 iter의 평균 계산"
      ]
    },
    {
      "cell_type": "code",
      "metadata": {
        "id": "IKM7cr_NXmGK",
        "colab_type": "code",
        "colab": {}
      },
      "source": [
        "from sklearn.metrics import accuracy_score\n",
        "from sklearn.model_selection import train_test_split\n",
        "from sklearn.tree import DecisionTreeClassifier\n",
        "from sklearn.model_selection import KFold\n",
        "from sklearn.datasets import load_iris\n",
        "import numpy as np"
      ],
      "execution_count": 2,
      "outputs": []
    },
    {
      "cell_type": "code",
      "metadata": {
        "id": "qsO1bTN4ZQIT",
        "colab_type": "code",
        "colab": {
          "base_uri": "https://localhost:8080/",
          "height": 35
        },
        "outputId": "02c1e2bc-b0e0-468c-f84b-ad800e8fa2e1"
      },
      "source": [
        "iris=load_iris()\n",
        "features = iris.data\n",
        "label = iris.target\n",
        "\n",
        "kfold=KFold(n_splits=5) # n_splits가 3이면 accruacy는 0이 됨 - 비균등 데이터\n",
        "\n",
        "print('Iris Data Set Size:',len(features))\n",
        "\n",
        "fold_index=0\n",
        "cv_accuracy=[]"
      ],
      "execution_count": 3,
      "outputs": [
        {
          "output_type": "stream",
          "text": [
            "Iris Data Set Size: 150\n"
          ],
          "name": "stdout"
        }
      ]
    },
    {
      "cell_type": "code",
      "metadata": {
        "id": "tnESgfugSh8_",
        "colab_type": "code",
        "colab": {
          "base_uri": "https://localhost:8080/",
          "height": 467
        },
        "outputId": "9c7ab42c-8a5d-4605-f74b-d6176bc91b6a"
      },
      "source": [
        "# train index, test_index 분할\n",
        "for train_index,test_index in kfold.split(features):\n",
        "  dt_clf = DecisionTreeClassifier(random_state=156)\n",
        "\n",
        "  x_train, x_test = features[train_index],features[test_index] # index를 이용하여 분할\n",
        "  y_train, y_test = label[train_index],label[test_index] # index를 이용하여 분할\n",
        "  \n",
        "  dt_clf.fit(x_train, y_train) # 모델 생성\n",
        "  pred = dt_clf.predict(x_test) # 예측\n",
        "  \n",
        "  fold_index +=1 \n",
        "  \n",
        "  accuracy = np.round(accuracy_score(y_test,pred),4) # 검증\n",
        "  \n",
        "  train_size = len(x_train)\n",
        "  test_size = len(x_test)\n",
        "  \n",
        "  print('\\n#{0} fold accyracy: {1}, train_size: {2} , val size: {3}'\n",
        "        .format(fold_index,accuracy,train_size,test_size))\n",
        "  print('#{0} val index:\\n{1}'.format(fold_index,test_index))\n",
        "  \n",
        "  cv_accuracy.append(accuracy)"
      ],
      "execution_count": 4,
      "outputs": [
        {
          "output_type": "stream",
          "text": [
            "\n",
            "#1 fold accyracy: 1.0, train_size: 120 , val size: 30\n",
            "#1 val index:\n",
            "[ 0  1  2  3  4  5  6  7  8  9 10 11 12 13 14 15 16 17 18 19 20 21 22 23\n",
            " 24 25 26 27 28 29]\n",
            "\n",
            "#2 fold accyracy: 0.9667, train_size: 120 , val size: 30\n",
            "#2 val index:\n",
            "[30 31 32 33 34 35 36 37 38 39 40 41 42 43 44 45 46 47 48 49 50 51 52 53\n",
            " 54 55 56 57 58 59]\n",
            "\n",
            "#3 fold accyracy: 0.8667, train_size: 120 , val size: 30\n",
            "#3 val index:\n",
            "[60 61 62 63 64 65 66 67 68 69 70 71 72 73 74 75 76 77 78 79 80 81 82 83\n",
            " 84 85 86 87 88 89]\n",
            "\n",
            "#4 fold accyracy: 0.9333, train_size: 120 , val size: 30\n",
            "#4 val index:\n",
            "[ 90  91  92  93  94  95  96  97  98  99 100 101 102 103 104 105 106 107\n",
            " 108 109 110 111 112 113 114 115 116 117 118 119]\n",
            "\n",
            "#5 fold accyracy: 0.7333, train_size: 120 , val size: 30\n",
            "#5 val index:\n",
            "[120 121 122 123 124 125 126 127 128 129 130 131 132 133 134 135 136 137\n",
            " 138 139 140 141 142 143 144 145 146 147 148 149]\n"
          ],
          "name": "stdout"
        }
      ]
    },
    {
      "cell_type": "code",
      "metadata": {
        "id": "ROMAV4oQYFMs",
        "colab_type": "code",
        "colab": {
          "base_uri": "https://localhost:8080/",
          "height": 53
        },
        "outputId": "4f0fcb7f-202c-415e-c55a-d18b01050d4f"
      },
      "source": [
        "print(cv_accuracy)\n",
        "print('## avg val accuracy', np.mean(cv_accuracy))"
      ],
      "execution_count": 5,
      "outputs": [
        {
          "output_type": "stream",
          "text": [
            "[1.0, 0.9667, 0.8667, 0.9333, 0.7333]\n",
            "## avg val accuracy 0.9\n"
          ],
          "name": "stdout"
        }
      ]
    },
    {
      "cell_type": "markdown",
      "metadata": {
        "id": "LBYNc3FCZ4Sy",
        "colab_type": "text"
      },
      "source": [
        "* 불균등한 데이터의 경우 오류가 발생할 수 있음"
      ]
    },
    {
      "cell_type": "markdown",
      "metadata": {
        "id": "L7ZVcT8raIa3",
        "colab_type": "text"
      },
      "source": [
        "## Stratified K Fold \n",
        "* 불균형 분포를 가진 데이터 셋을 위한 방식\n",
        "* stratifed : 계층화된"
      ]
    },
    {
      "cell_type": "code",
      "metadata": {
        "id": "I84xnXqBYxMm",
        "colab_type": "code",
        "colab": {
          "base_uri": "https://localhost:8080/",
          "height": 179
        },
        "outputId": "0f0643af-9f01-47ae-cc79-a0536f757498"
      },
      "source": [
        "from sklearn.datasets import load_iris\n",
        "from sklearn.model_selection import KFold\n",
        "import pandas as pd\n",
        "\n",
        "iris=load_iris()\n",
        "\n",
        "df_iris = pd.DataFrame(data=iris.data,columns=iris.feature_names)\n",
        "df_iris['label']=iris.target\n",
        "print(df_iris['label'].value_counts())\n",
        "print(iris.target) # 분포가 균등하지 않음"
      ],
      "execution_count": 6,
      "outputs": [
        {
          "output_type": "stream",
          "text": [
            "2    50\n",
            "1    50\n",
            "0    50\n",
            "Name: label, dtype: int64\n",
            "[0 0 0 0 0 0 0 0 0 0 0 0 0 0 0 0 0 0 0 0 0 0 0 0 0 0 0 0 0 0 0 0 0 0 0 0 0\n",
            " 0 0 0 0 0 0 0 0 0 0 0 0 0 1 1 1 1 1 1 1 1 1 1 1 1 1 1 1 1 1 1 1 1 1 1 1 1\n",
            " 1 1 1 1 1 1 1 1 1 1 1 1 1 1 1 1 1 1 1 1 1 1 1 1 1 1 2 2 2 2 2 2 2 2 2 2 2\n",
            " 2 2 2 2 2 2 2 2 2 2 2 2 2 2 2 2 2 2 2 2 2 2 2 2 2 2 2 2 2 2 2 2 2 2 2 2 2\n",
            " 2 2]\n"
          ],
          "name": "stdout"
        }
      ]
    },
    {
      "cell_type": "code",
      "metadata": {
        "id": "J5XnvC8Kaabs",
        "colab_type": "code",
        "colab": {
          "base_uri": "https://localhost:8080/",
          "height": 557
        },
        "outputId": "e265590d-a7e0-4476-b1d3-9deb8eff8a1c"
      },
      "source": [
        "kfold = KFold(n_splits=3)\n",
        "\n",
        "fold_index=0\n",
        "\n",
        "for train_index, test_index in kfold.split(df_iris):\n",
        "  fold_index +=1\n",
        "\n",
        "  label_train=df_iris['label'].iloc[train_index] #iloc를 이용하여 행 추출\n",
        "  label_test=df_iris['label'].iloc[test_index] #iloc를 이용하여 행 추출\n",
        "  \n",
        "  print('## Cross validation: {0}'.format(fold_index))\n",
        "  print('Train label distribution:')\n",
        "  print(label_train.value_counts(), end='\\n\\n')\n",
        "  print('Val label distributioin:')\n",
        "  print(label_test.value_counts(), end='\\n\\n')\n",
        "  # 분포가 균등하지 않아 학습되지 않음"
      ],
      "execution_count": 7,
      "outputs": [
        {
          "output_type": "stream",
          "text": [
            "## Cross validation: 1\n",
            "Train label distribution:\n",
            "2    50\n",
            "1    50\n",
            "Name: label, dtype: int64\n",
            "\n",
            "Val label distributioin:\n",
            "0    50\n",
            "Name: label, dtype: int64\n",
            "\n",
            "## Cross validation: 2\n",
            "Train label distribution:\n",
            "2    50\n",
            "0    50\n",
            "Name: label, dtype: int64\n",
            "\n",
            "Val label distributioin:\n",
            "1    50\n",
            "Name: label, dtype: int64\n",
            "\n",
            "## Cross validation: 3\n",
            "Train label distribution:\n",
            "1    50\n",
            "0    50\n",
            "Name: label, dtype: int64\n",
            "\n",
            "Val label distributioin:\n",
            "2    50\n",
            "Name: label, dtype: int64\n",
            "\n"
          ],
          "name": "stdout"
        }
      ]
    },
    {
      "cell_type": "markdown",
      "metadata": {
        "id": "xtyqxei5bh_7",
        "colab_type": "text"
      },
      "source": [
        "### Stratified K Fold를 이용"
      ]
    },
    {
      "cell_type": "code",
      "metadata": {
        "id": "s9UQXLQGbhuG",
        "colab_type": "code",
        "colab": {
          "base_uri": "https://localhost:8080/",
          "height": 719
        },
        "outputId": "d74f58ad-83f3-4a84-9d7b-11402a88410f"
      },
      "source": [
        "from sklearn.model_selection import StratifiedKFold\n",
        "\n",
        "skf=StratifiedKFold(n_splits=3) # stratified fold 사용\n",
        "\n",
        "fold_index=0\n",
        "\n",
        "for train_index, test_index in skf.split(df_iris, df_iris['label']):\n",
        "  fold_index +=1\n",
        "\n",
        "  label_train=df_iris['label'].iloc[train_index]\n",
        "  label_test=df_iris['label'].iloc[test_index]\n",
        "  \n",
        "  print('## Cross validation: {0}'.format(fold_index))\n",
        "  \n",
        "  print('Train label distribution:')\n",
        "  print(label_train.value_counts(), end='\\n\\n') # train set의 구성\n",
        "  \n",
        "  print('Val label distributioin:')\n",
        "  print(label_test.value_counts(), end='\\n\\n') # test set의 구성\n"
      ],
      "execution_count": 8,
      "outputs": [
        {
          "output_type": "stream",
          "text": [
            "## Cross validation: 1\n",
            "Train label distribution:\n",
            "2    34\n",
            "1    33\n",
            "0    33\n",
            "Name: label, dtype: int64\n",
            "\n",
            "Val label distributioin:\n",
            "1    17\n",
            "0    17\n",
            "2    16\n",
            "Name: label, dtype: int64\n",
            "\n",
            "## Cross validation: 2\n",
            "Train label distribution:\n",
            "1    34\n",
            "2    33\n",
            "0    33\n",
            "Name: label, dtype: int64\n",
            "\n",
            "Val label distributioin:\n",
            "2    17\n",
            "0    17\n",
            "1    16\n",
            "Name: label, dtype: int64\n",
            "\n",
            "## Cross validation: 3\n",
            "Train label distribution:\n",
            "0    34\n",
            "2    33\n",
            "1    33\n",
            "Name: label, dtype: int64\n",
            "\n",
            "Val label distributioin:\n",
            "2    17\n",
            "1    17\n",
            "0    16\n",
            "Name: label, dtype: int64\n",
            "\n"
          ],
          "name": "stdout"
        }
      ]
    },
    {
      "cell_type": "markdown",
      "metadata": {
        "id": "EhqE1fPJccrb",
        "colab_type": "text"
      },
      "source": [
        "### Stratifed K Fold를 사용한 결과\n"
      ]
    },
    {
      "cell_type": "code",
      "metadata": {
        "id": "ko_ck1ndaxXZ",
        "colab_type": "code",
        "colab": {
          "base_uri": "https://localhost:8080/",
          "height": 341
        },
        "outputId": "9f5ce610-bd4f-42fe-de0f-3d86cefde3c8"
      },
      "source": [
        "from sklearn.datasets import load_iris\n",
        "from sklearn.tree import DecisionTreeClassifier\n",
        "from sklearn.model_selection import StratifiedKFold\n",
        "from sklearn.metrics import accuracy_score\n",
        "import numpy as np\n",
        "\n",
        "iris=load_iris()\n",
        "features = iris.data\n",
        "label=iris.target\n",
        "\n",
        "dt_clf=DecisionTreeClassifier(random_state=156)\n",
        "\n",
        "skfold=StratifiedKFold(n_splits=3)\n",
        "\n",
        "fold_index=0\n",
        "lst_accuracy=[]\n",
        "\n",
        "for train_index,test_index in skfold.split(features,label):\n",
        "  x_train,x_test = features[train_index],features[test_index]\n",
        "  y_train,y_test = label[train_index],label[test_index]\n",
        "\n",
        "  dt_clf.fit(x_train,y_train)\n",
        "  pred=dt_clf.predict(x_test)\n",
        "\n",
        "  fold_index+=1\n",
        "  accuracy = np.round(accuracy_score(y_test,pred),4)\n",
        "\n",
        "  train_size = x_train.shape[0]\n",
        "  test_size = x_test.shape[0]\n",
        "  \n",
        "  print('\\n#{0} Cross val accuracy :{1}, train size: {2}, test size: {3}'.format(fold_index, accuracy, train_size, test_size))\n",
        "  print('#{0} Val index:{1}'.format(fold_index,test_index))\n",
        "  \n",
        "  lst_accuracy.append(accuracy) \n",
        "  \n",
        "print('\\n## fold val accuracy:', np.round(lst_accuracy, 4))\n",
        "print('## avg val accuracy:', np.mean(lst_accuracy))\n"
      ],
      "execution_count": 9,
      "outputs": [
        {
          "output_type": "stream",
          "text": [
            "\n",
            "#1 Cross val accuracy :0.98, train size: 100, test size: 50\n",
            "#1 Val index:[  0   1   2   3   4   5   6   7   8   9  10  11  12  13  14  15  16  50\n",
            "  51  52  53  54  55  56  57  58  59  60  61  62  63  64  65  66 100 101\n",
            " 102 103 104 105 106 107 108 109 110 111 112 113 114 115]\n",
            "\n",
            "#2 Cross val accuracy :0.94, train size: 100, test size: 50\n",
            "#2 Val index:[ 17  18  19  20  21  22  23  24  25  26  27  28  29  30  31  32  33  67\n",
            "  68  69  70  71  72  73  74  75  76  77  78  79  80  81  82 116 117 118\n",
            " 119 120 121 122 123 124 125 126 127 128 129 130 131 132]\n",
            "\n",
            "#3 Cross val accuracy :0.98, train size: 100, test size: 50\n",
            "#3 Val index:[ 34  35  36  37  38  39  40  41  42  43  44  45  46  47  48  49  83  84\n",
            "  85  86  87  88  89  90  91  92  93  94  95  96  97  98  99 133 134 135\n",
            " 136 137 138 139 140 141 142 143 144 145 146 147 148 149]\n",
            "\n",
            "## fold val accuracy: [0.98 0.94 0.98]\n",
            "## avg val accuracy: 0.9666666666666667\n"
          ],
          "name": "stdout"
        }
      ]
    },
    {
      "cell_type": "markdown",
      "metadata": {
        "id": "l39zmumFddBt",
        "colab_type": "text"
      },
      "source": [
        "# cross_val_score\n",
        "* 작업 간편화\n",
        "* estimator, data, label, 지표 등 변수를 전달하여 모델링 수행\n",
        "* 단점 : 스코어만 보여줌"
      ]
    },
    {
      "cell_type": "code",
      "metadata": {
        "id": "T2fld0KLckDs",
        "colab_type": "code",
        "colab": {}
      },
      "source": [
        "from sklearn.tree import DecisionTreeClassifier\n",
        "from sklearn.datasets import load_iris\n",
        "\n",
        "iris = load_iris()\n",
        "data = iris.data\n",
        "label = iris.target\n",
        "\n",
        "dt_clf = DecisionTreeClassifier(random_state=156)"
      ],
      "execution_count": 10,
      "outputs": []
    },
    {
      "cell_type": "code",
      "metadata": {
        "id": "EKzsz__sdi3m",
        "colab_type": "code",
        "colab": {
          "base_uri": "https://localhost:8080/",
          "height": 53
        },
        "outputId": "d8a0053f-e534-488e-dcfd-5b06f5d02ebf"
      },
      "source": [
        "from sklearn.model_selection import cross_val_score\n",
        "import numpy as np\n",
        "\n",
        "scores = cross_val_score(estimator=dt_clf,\n",
        "                         X=data, y=label,\n",
        "                         scoring='accuracy', # 지표\n",
        "                         cv=3) # cross_validation = 3 개로 나누겠다 - 내부적으로로 Stratified k fold 사용\n",
        "\n",
        "print('Fold val accuracy:',np.round(scores, 4))\n",
        "print('Avg val accuracy:', np.round(np.mean(scores), 4))"
      ],
      "execution_count": 11,
      "outputs": [
        {
          "output_type": "stream",
          "text": [
            "Fold val accuracy: [0.98 0.94 0.98]\n",
            "Avg val accuracy: 0.9667\n"
          ],
          "name": "stdout"
        }
      ]
    },
    {
      "cell_type": "markdown",
      "metadata": {
        "id": "SFi-IGQqfENN",
        "colab_type": "text"
      },
      "source": [
        "# GridSearchCV\n",
        "* 모델의 최적 하이퍼 파라미터 도출 : 시간 절약\n",
        "* 하이퍼 파라미터 : 엔지니어가 결정해서 세팅하는 변수\n",
        "* 가중치 : 학습의 대상, 딥러닝 / 머신러닝 학습의 결과  \n",
        "* param_grid 인자로 전달된 파라미터를 순차적으로 적용하여 학습 및 테스트\n",
        "\n"
      ]
    },
    {
      "cell_type": "code",
      "metadata": {
        "id": "qmzsq3cCd50F",
        "colab_type": "code",
        "colab": {}
      },
      "source": [
        "from sklearn.datasets import load_iris\n",
        "from sklearn.model_selection import train_test_split\n",
        "\n",
        "iris=load_iris()\n",
        "\n",
        "x_train,x_test,y_train,y_test = train_test_split(iris.data,\n",
        "                                                 iris.target,\n",
        "                                                 test_size=0.2,\n",
        "                                                 random_state=121)"
      ],
      "execution_count": 12,
      "outputs": []
    },
    {
      "cell_type": "code",
      "metadata": {
        "id": "shzXylnrgsbS",
        "colab_type": "code",
        "colab": {
          "base_uri": "https://localhost:8080/",
          "height": 323
        },
        "outputId": "3f7a89a7-9bc0-4b7f-80b5-c74354e872d0"
      },
      "source": [
        "from sklearn.tree import DecisionTreeClassifier\n",
        "from sklearn.model_selection import GridSearchCV\n",
        "\n",
        "dtree=DecisionTreeClassifier() # 결정트리\n",
        "\n",
        "parameters = {'max_depth':[1,2,3], 'min_samples_split':[2,3]} # 파라미터 딕셔너리 생성\n",
        "\n",
        "grid_dtree = GridSearchCV(dtree, param_grid=parameters, cv=3, refit=True) # GridSearchCV 생성, refit = True이면 best estimator를 가져올 수 있음\n",
        "grid_dtree.fit(x_train, y_train) # 모델 생성"
      ],
      "execution_count": 13,
      "outputs": [
        {
          "output_type": "execute_result",
          "data": {
            "text/plain": [
              "GridSearchCV(cv=3, error_score=nan,\n",
              "             estimator=DecisionTreeClassifier(ccp_alpha=0.0, class_weight=None,\n",
              "                                              criterion='gini', max_depth=None,\n",
              "                                              max_features=None,\n",
              "                                              max_leaf_nodes=None,\n",
              "                                              min_impurity_decrease=0.0,\n",
              "                                              min_impurity_split=None,\n",
              "                                              min_samples_leaf=1,\n",
              "                                              min_samples_split=2,\n",
              "                                              min_weight_fraction_leaf=0.0,\n",
              "                                              presort='deprecated',\n",
              "                                              random_state=None,\n",
              "                                              splitter='best'),\n",
              "             iid='deprecated', n_jobs=None,\n",
              "             param_grid={'max_depth': [1, 2, 3], 'min_samples_split': [2, 3]},\n",
              "             pre_dispatch='2*n_jobs', refit=True, return_train_score=False,\n",
              "             scoring=None, verbose=0)"
            ]
          },
          "metadata": {
            "tags": []
          },
          "execution_count": 13
        }
      ]
    },
    {
      "cell_type": "code",
      "metadata": {
        "id": "Y21AZW87g2FI",
        "colab_type": "code",
        "colab": {
          "base_uri": "https://localhost:8080/",
          "height": 343
        },
        "outputId": "1f2276e5-dda1-4ee0-f149-12f4e5bd17bc"
      },
      "source": [
        "import pandas as pd\n",
        "\n",
        "scores_df = pd.DataFrame(grid_dtree.cv_results_)\n",
        "print(scores_df.shape) # shape\n",
        "print(scores_df.columns) # columns \n",
        "scores_df[['params', 'mean_test_score', 'rank_test_score', 'split0_test_score', 'split1_test_score', 'split2_test_score']]"
      ],
      "execution_count": 14,
      "outputs": [
        {
          "output_type": "stream",
          "text": [
            "(6, 13)\n",
            "Index(['mean_fit_time', 'std_fit_time', 'mean_score_time', 'std_score_time',\n",
            "       'param_max_depth', 'param_min_samples_split', 'params',\n",
            "       'split0_test_score', 'split1_test_score', 'split2_test_score',\n",
            "       'mean_test_score', 'std_test_score', 'rank_test_score'],\n",
            "      dtype='object')\n"
          ],
          "name": "stdout"
        },
        {
          "output_type": "execute_result",
          "data": {
            "text/html": [
              "<div>\n",
              "<style scoped>\n",
              "    .dataframe tbody tr th:only-of-type {\n",
              "        vertical-align: middle;\n",
              "    }\n",
              "\n",
              "    .dataframe tbody tr th {\n",
              "        vertical-align: top;\n",
              "    }\n",
              "\n",
              "    .dataframe thead th {\n",
              "        text-align: right;\n",
              "    }\n",
              "</style>\n",
              "<table border=\"1\" class=\"dataframe\">\n",
              "  <thead>\n",
              "    <tr style=\"text-align: right;\">\n",
              "      <th></th>\n",
              "      <th>params</th>\n",
              "      <th>mean_test_score</th>\n",
              "      <th>rank_test_score</th>\n",
              "      <th>split0_test_score</th>\n",
              "      <th>split1_test_score</th>\n",
              "      <th>split2_test_score</th>\n",
              "    </tr>\n",
              "  </thead>\n",
              "  <tbody>\n",
              "    <tr>\n",
              "      <th>0</th>\n",
              "      <td>{'max_depth': 1, 'min_samples_split': 2}</td>\n",
              "      <td>0.700000</td>\n",
              "      <td>5</td>\n",
              "      <td>0.700</td>\n",
              "      <td>0.7</td>\n",
              "      <td>0.70</td>\n",
              "    </tr>\n",
              "    <tr>\n",
              "      <th>1</th>\n",
              "      <td>{'max_depth': 1, 'min_samples_split': 3}</td>\n",
              "      <td>0.700000</td>\n",
              "      <td>5</td>\n",
              "      <td>0.700</td>\n",
              "      <td>0.7</td>\n",
              "      <td>0.70</td>\n",
              "    </tr>\n",
              "    <tr>\n",
              "      <th>2</th>\n",
              "      <td>{'max_depth': 2, 'min_samples_split': 2}</td>\n",
              "      <td>0.958333</td>\n",
              "      <td>3</td>\n",
              "      <td>0.925</td>\n",
              "      <td>1.0</td>\n",
              "      <td>0.95</td>\n",
              "    </tr>\n",
              "    <tr>\n",
              "      <th>3</th>\n",
              "      <td>{'max_depth': 2, 'min_samples_split': 3}</td>\n",
              "      <td>0.958333</td>\n",
              "      <td>3</td>\n",
              "      <td>0.925</td>\n",
              "      <td>1.0</td>\n",
              "      <td>0.95</td>\n",
              "    </tr>\n",
              "    <tr>\n",
              "      <th>4</th>\n",
              "      <td>{'max_depth': 3, 'min_samples_split': 2}</td>\n",
              "      <td>0.975000</td>\n",
              "      <td>1</td>\n",
              "      <td>0.975</td>\n",
              "      <td>1.0</td>\n",
              "      <td>0.95</td>\n",
              "    </tr>\n",
              "    <tr>\n",
              "      <th>5</th>\n",
              "      <td>{'max_depth': 3, 'min_samples_split': 3}</td>\n",
              "      <td>0.975000</td>\n",
              "      <td>1</td>\n",
              "      <td>0.975</td>\n",
              "      <td>1.0</td>\n",
              "      <td>0.95</td>\n",
              "    </tr>\n",
              "  </tbody>\n",
              "</table>\n",
              "</div>"
            ],
            "text/plain": [
              "                                     params  ...  split2_test_score\n",
              "0  {'max_depth': 1, 'min_samples_split': 2}  ...               0.70\n",
              "1  {'max_depth': 1, 'min_samples_split': 3}  ...               0.70\n",
              "2  {'max_depth': 2, 'min_samples_split': 2}  ...               0.95\n",
              "3  {'max_depth': 2, 'min_samples_split': 3}  ...               0.95\n",
              "4  {'max_depth': 3, 'min_samples_split': 2}  ...               0.95\n",
              "5  {'max_depth': 3, 'min_samples_split': 3}  ...               0.95\n",
              "\n",
              "[6 rows x 6 columns]"
            ]
          },
          "metadata": {
            "tags": []
          },
          "execution_count": 14
        }
      ]
    },
    {
      "cell_type": "code",
      "metadata": {
        "id": "zV-AhmVqjQty",
        "colab_type": "code",
        "colab": {
          "base_uri": "https://localhost:8080/",
          "height": 53
        },
        "outputId": "b14d4a91-69a2-4d5c-ff7a-66dcc3df0914"
      },
      "source": [
        "print('Optimal parameter:', grid_dtree.best_params_) # 최적 하이퍼 파라미터\n",
        "print('Max accuracy: {0:.4f}'.format(grid_dtree.best_score_)) # 최고 결과"
      ],
      "execution_count": 15,
      "outputs": [
        {
          "output_type": "stream",
          "text": [
            "Optimal parameter: {'max_depth': 3, 'min_samples_split': 2}\n",
            "Max accuracy: 0.9750\n"
          ],
          "name": "stdout"
        }
      ]
    },
    {
      "cell_type": "markdown",
      "metadata": {
        "id": "F4ZTL6yvmF4N",
        "colab_type": "text"
      },
      "source": [
        "### 모델 추출"
      ]
    },
    {
      "cell_type": "code",
      "metadata": {
        "id": "E6PajKRWkRf9",
        "colab_type": "code",
        "colab": {
          "base_uri": "https://localhost:8080/",
          "height": 35
        },
        "outputId": "36b26f80-78a7-46be-8b0c-ecf65b53b83f"
      },
      "source": [
        "# 가장 결과가 좋은 모델 가져오기\n",
        "estimator = grid_dtree.best_estimator_\n",
        "pred = estimator.predict(x_test)\n",
        "accuracy_score(y_test, pred)"
      ],
      "execution_count": 16,
      "outputs": [
        {
          "output_type": "execute_result",
          "data": {
            "text/plain": [
              "0.9666666666666667"
            ]
          },
          "metadata": {
            "tags": []
          },
          "execution_count": 16
        }
      ]
    },
    {
      "cell_type": "code",
      "metadata": {
        "id": "XFU8mWFflbzi",
        "colab_type": "code",
        "colab": {
          "base_uri": "https://localhost:8080/",
          "height": 35
        },
        "outputId": "261f42e4-bfb5-4a38-89e6-00f7fe69cafa"
      },
      "source": [
        "print(type(estimator))"
      ],
      "execution_count": 17,
      "outputs": [
        {
          "output_type": "stream",
          "text": [
            "<class 'sklearn.tree._classes.DecisionTreeClassifier'>\n"
          ],
          "name": "stdout"
        }
      ]
    }
  ]
}