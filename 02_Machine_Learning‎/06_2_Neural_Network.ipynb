{
  "nbformat": 4,
  "nbformat_minor": 0,
  "metadata": {
    "colab": {
      "name": "06_2_Neural Network.ipynb",
      "provenance": [],
      "collapsed_sections": [],
      "toc_visible": true,
      "authorship_tag": "ABX9TyMjXiBmHoisPhhwqM/Cbn8r",
      "include_colab_link": true
    },
    "kernelspec": {
      "name": "python3",
      "display_name": "Python 3"
    }
  },
  "cells": [
    {
      "cell_type": "markdown",
      "metadata": {
        "id": "view-in-github",
        "colab_type": "text"
      },
      "source": [
        "<a href=\"https://colab.research.google.com/github/seungbinahn/START_AI/blob/master/02_Machine_Learning%E2%80%8E/06_2_Neural_Network.ipynb\" target=\"_parent\"><img src=\"https://colab.research.google.com/assets/colab-badge.svg\" alt=\"Open In Colab\"/></a>"
      ]
    },
    {
      "cell_type": "markdown",
      "metadata": {
        "id": "uOrmjv7UQ-Yz",
        "colab_type": "text"
      },
      "source": [
        "# Neural Network"
      ]
    },
    {
      "cell_type": "markdown",
      "metadata": {
        "id": "eCiyqE-WRFmn",
        "colab_type": "text"
      },
      "source": [
        "다층 퍼셉트론의 한계\n",
        "* 원하는 결과를 위해 매개변수를 사람이 찾아야 함\n",
        "* Neural Network는 데이터를 통해 적절한 매개변수를 자동으로 학습"
      ]
    },
    {
      "cell_type": "markdown",
      "metadata": {
        "id": "h4iUaSy2R1Sr",
        "colab_type": "text"
      },
      "source": [
        "1. y = h(b + w1x1 + w2x2)\n",
        "\n",
        "2. h(x) = 0(x<=0) , 1(x>0)\n",
        "\n",
        "3. a = b + w1x1 + w2x2\n",
        "\n",
        "4. y = h(a)\n"
      ]
    },
    {
      "cell_type": "markdown",
      "metadata": {
        "id": "GcjTtqtmSPeZ",
        "colab_type": "text"
      },
      "source": [
        "## Activation Function(활성화 함수)\n",
        "\n",
        "* 활성화 함수 h(x) : 입력신호의 총합을 출력 신호로 변환하는 함수\n",
        "* a = b + w1x1 + w2x2 : 가중치가 달린 입력 신호와 편향의 총합을 계산\n",
        "\n",
        "* y = h(a) : 계산된 값의 결과(a)를 h()함수에 넣어 출력신호(y) 생성\n"
      ]
    },
    {
      "cell_type": "markdown",
      "metadata": {
        "id": "VqNxlEVRSjZX",
        "colab_type": "text"
      },
      "source": [
        "1. Threshold(임계 값)을 경계로 출력 값을 변경하는 함수\n",
        "2. 퍼셉트론은 활성화 함수로 Step Function 사용\n",
        "3. Neural Network에는 다른 활성화 함수 사용\n",
        "ex) Sigmoid, ReLu, Tanh, 등\n",
        "\n"
      ]
    },
    {
      "cell_type": "markdown",
      "metadata": {
        "id": "cjwY-NG5UDsA",
        "colab_type": "text"
      },
      "source": [
        "### Step "
      ]
    },
    {
      "cell_type": "code",
      "metadata": {
        "id": "yk1jgDD1OfGD",
        "colab_type": "code",
        "colab": {}
      },
      "source": [
        "import numpy as np\n",
        "import matplotlib.pylab as plt\n",
        "\n",
        "def step_function(x):\n",
        "  if x > 0: return 1\n",
        "  else : return 0"
      ],
      "execution_count": 1,
      "outputs": []
    },
    {
      "cell_type": "code",
      "metadata": {
        "id": "LimZf2KUTF--",
        "colab_type": "code",
        "colab": {}
      },
      "source": [
        "# step 구현 방법 1\n",
        "def step_function(x):\n",
        "  y = x > 0\n",
        "  return y.astype(np.int)"
      ],
      "execution_count": 2,
      "outputs": []
    },
    {
      "cell_type": "code",
      "metadata": {
        "id": "lri55Uo2TlgI",
        "colab_type": "code",
        "colab": {}
      },
      "source": [
        "# step 구현 방법 2\n",
        "def step_function(x):\n",
        "  return np.array(x > 0, dtype=np.int)"
      ],
      "execution_count": 3,
      "outputs": []
    },
    {
      "cell_type": "code",
      "metadata": {
        "id": "AAkeo6_2TUof",
        "colab_type": "code",
        "colab": {
          "base_uri": "https://localhost:8080/",
          "height": 265
        },
        "outputId": "91745ee8-7734-4366-e9b6-626fdafa00b5"
      },
      "source": [
        "X = np.arange(-5.0, 5.0, 0.1)\n",
        "Y = step_function(X)\n",
        "\n",
        "plt.plot(X,Y)\n",
        "plt.ylim(-0.1, 1.1)\n",
        "plt.show()"
      ],
      "execution_count": 4,
      "outputs": [
        {
          "output_type": "display_data",
          "data": {
            "image/png": "[encoded data removed]",
            "text/plain": [
              "<Figure size 432x288 with 1 Axes>"
            ]
          },
          "metadata": {
            "tags": [],
            "needs_background": "light"
          }
        }
      ]
    },
    {
      "cell_type": "markdown",
      "metadata": {
        "id": "eFsG0T6cU0Qg",
        "colab_type": "text"
      },
      "source": [
        "### Sigmoid "
      ]
    },
    {
      "cell_type": "code",
      "metadata": {
        "id": "2iWzzppYTdug",
        "colab_type": "code",
        "colab": {}
      },
      "source": [
        "import numpy as np\n",
        "import matplotlib.pylab as plt"
      ],
      "execution_count": 5,
      "outputs": []
    },
    {
      "cell_type": "code",
      "metadata": {
        "id": "EebZohA2VAEX",
        "colab_type": "code",
        "colab": {}
      },
      "source": [
        "def sigmoid(x):\n",
        "  return 1 / (1 + np.exp(-x))"
      ],
      "execution_count": 6,
      "outputs": []
    },
    {
      "cell_type": "code",
      "metadata": {
        "id": "iE3DDeJWVI01",
        "colab_type": "code",
        "colab": {
          "base_uri": "https://localhost:8080/",
          "height": 265
        },
        "outputId": "60540690-bcf1-4e24-ca85-466886f19d11"
      },
      "source": [
        "X = np.arange(-5.0, 5.0, 0.1)\n",
        "Y = sigmoid(X)\n",
        "\n",
        "plt.plot(X,Y)\n",
        "plt.ylim(-0.1, 1.1)\n",
        "plt.show()"
      ],
      "execution_count": 7,
      "outputs": [
        {
          "output_type": "display_data",
          "data": {
            "image/png": "[encoded data removed]",
            "text/plain": [
              "<Figure size 432x288 with 1 Axes>"
            ]
          },
          "metadata": {
            "tags": [],
            "needs_background": "light"
          }
        }
      ]
    },
    {
      "cell_type": "markdown",
      "metadata": {
        "id": "Gfi2DG-LVnKd",
        "colab_type": "text"
      },
      "source": [
        "### Step vs Sigmoid\n",
        "1. 공통점\n",
        "* 0 ~ 1 사이의 값을 반환\n",
        "* 입력이 중요하면 큰 값, 안중요하면 작은값\n",
        "* 비선형 함수     \n",
        "      \n",
        "2. 차이점\n",
        "* 0,1만 반환 vs 연속적인 실수 값 반환\n",
        "2. Sigmoid가 더 많은 정보를 유지"
      ]
    },
    {
      "cell_type": "markdown",
      "metadata": {
        "id": "i_LtfFsMWY66",
        "colab_type": "text"
      },
      "source": [
        "### ReLu\n",
        "* 최근에 가장 많이 사용되는 활성화 함수 중 하나\n",
        "* 입력이 0 초과이면 입력 그대로 반환, 0이하면 0 반환\n",
        "\n",
        "h(x) = {x (x>=0), 0(x<=0)}"
      ]
    },
    {
      "cell_type": "code",
      "metadata": {
        "id": "Gup0ac8TVLiZ",
        "colab_type": "code",
        "colab": {}
      },
      "source": [
        "def relu(x):\n",
        "  return np.maximum(0,x)"
      ],
      "execution_count": 8,
      "outputs": []
    },
    {
      "cell_type": "code",
      "metadata": {
        "id": "ylkWS0mDWfxz",
        "colab_type": "code",
        "colab": {
          "base_uri": "https://localhost:8080/",
          "height": 265
        },
        "outputId": "f3f85e74-1b0d-492e-bff8-1efba420907e"
      },
      "source": [
        "X = np.arange(-5.0, 5.0, 0.1)\n",
        "Y = relu(X)\n",
        "\n",
        "plt.plot(X,Y)\n",
        "plt.ylim(-0.1, 5.5)\n",
        "plt.show()"
      ],
      "execution_count": 9,
      "outputs": [
        {
          "output_type": "display_data",
          "data": {
            "image/png": "[encoded data removed]",
            "text/plain": [
              "<Figure size 432x288 with 1 Axes>"
            ]
          },
          "metadata": {
            "tags": [],
            "needs_background": "light"
          }
        }
      ]
    },
    {
      "cell_type": "markdown",
      "metadata": {
        "id": "oBQ-jjc_XyzS",
        "colab_type": "text"
      },
      "source": [
        "## Matrix Dot Product"
      ]
    },
    {
      "cell_type": "code",
      "metadata": {
        "id": "p9SILql0WjFp",
        "colab_type": "code",
        "colab": {
          "base_uri": "https://localhost:8080/",
          "height": 89
        },
        "outputId": "0f5462a5-0f18-49a9-e038-cec7b4c53b25"
      },
      "source": [
        "A = np.array([[1,2],[3,4]])\n",
        "print(A.shape)\n",
        "\n",
        "B = np.array([[5,6],[7,8]])\n",
        "print(B.shape)\n",
        "\n",
        "np.dot(A,B)"
      ],
      "execution_count": 10,
      "outputs": [
        {
          "output_type": "stream",
          "text": [
            "(2, 2)\n",
            "(2, 2)\n"
          ],
          "name": "stdout"
        },
        {
          "output_type": "execute_result",
          "data": {
            "text/plain": [
              "array([[19, 22],\n",
              "       [43, 50]])"
            ]
          },
          "metadata": {
            "tags": []
          },
          "execution_count": 10
        }
      ]
    },
    {
      "cell_type": "code",
      "metadata": {
        "id": "ORtsKwuqX9Ow",
        "colab_type": "code",
        "colab": {
          "base_uri": "https://localhost:8080/",
          "height": 89
        },
        "outputId": "d7788dd1-438e-46f9-ecb5-c64faf4a2a1d"
      },
      "source": [
        "A = np.array([[1,2,3],[4,5,6]])\n",
        "print(A.shape)\n",
        "\n",
        "B = np.arange(6)\n",
        "B.shape = (3,2)\n",
        "print(B.shape)\n",
        "\n",
        "np.dot(A,B)"
      ],
      "execution_count": 11,
      "outputs": [
        {
          "output_type": "stream",
          "text": [
            "(2, 3)\n",
            "(3, 2)\n"
          ],
          "name": "stdout"
        },
        {
          "output_type": "execute_result",
          "data": {
            "text/plain": [
              "array([[16, 22],\n",
              "       [34, 49]])"
            ]
          },
          "metadata": {
            "tags": []
          },
          "execution_count": 11
        }
      ]
    },
    {
      "cell_type": "code",
      "metadata": {
        "id": "0tvqzWnGYMGs",
        "colab_type": "code",
        "colab": {
          "base_uri": "https://localhost:8080/",
          "height": 280
        },
        "outputId": "9a87a728-9073-4b49-dd77-9bd8184a641e"
      },
      "source": [
        "# 행렬 크기에 따른 연산 실패\n",
        "A = np.array([[1,2,3],[4,5,6]])\n",
        "print(A.shape)\n",
        "\n",
        "C = np.arange(4)\n",
        "C.shape = (2,2)\n",
        "print(C.shape)\n",
        "\n",
        "np.dot(A,C)"
      ],
      "execution_count": 12,
      "outputs": [
        {
          "output_type": "stream",
          "text": [
            "(2, 3)\n",
            "(2, 2)\n"
          ],
          "name": "stdout"
        },
        {
          "output_type": "error",
          "ename": "ValueError",
          "evalue": "ignored",
          "traceback": [
            "\u001b[0;31m---------------------------------------------------------------------------\u001b[0m",
            "\u001b[0;31mValueError\u001b[0m                                Traceback (most recent call last)",
            "\u001b[0;32m<ipython-input-12-48cc66cdd9c4>\u001b[0m in \u001b[0;36m<module>\u001b[0;34m()\u001b[0m\n\u001b[1;32m      7\u001b[0m \u001b[0mprint\u001b[0m\u001b[0;34m(\u001b[0m\u001b[0mC\u001b[0m\u001b[0;34m.\u001b[0m\u001b[0mshape\u001b[0m\u001b[0;34m)\u001b[0m\u001b[0;34m\u001b[0m\u001b[0;34m\u001b[0m\u001b[0m\n\u001b[1;32m      8\u001b[0m \u001b[0;34m\u001b[0m\u001b[0m\n\u001b[0;32m----> 9\u001b[0;31m \u001b[0mnp\u001b[0m\u001b[0;34m.\u001b[0m\u001b[0mdot\u001b[0m\u001b[0;34m(\u001b[0m\u001b[0mA\u001b[0m\u001b[0;34m,\u001b[0m\u001b[0mC\u001b[0m\u001b[0;34m)\u001b[0m\u001b[0;34m\u001b[0m\u001b[0;34m\u001b[0m\u001b[0m\n\u001b[0m",
            "\u001b[0;32m<__array_function__ internals>\u001b[0m in \u001b[0;36mdot\u001b[0;34m(*args, **kwargs)\u001b[0m\n",
            "\u001b[0;31mValueError\u001b[0m: shapes (2,3) and (2,2) not aligned: 3 (dim 1) != 2 (dim 0)"
          ]
        }
      ]
    },
    {
      "cell_type": "markdown",
      "metadata": {
        "id": "zY0kPnQQ3Zg8",
        "colab_type": "text"
      },
      "source": [
        "## Neural Network 구현"
      ]
    },
    {
      "cell_type": "markdown",
      "metadata": {
        "id": "AYuzPGLD38PA",
        "colab_type": "text"
      },
      "source": [
        "### 1st Layer"
      ]
    },
    {
      "cell_type": "code",
      "metadata": {
        "id": "y-ouxN29YVeY",
        "colab_type": "code",
        "colab": {
          "base_uri": "https://localhost:8080/",
          "height": 107
        },
        "outputId": "38472c43-71c8-4682-cf2a-79377b8675b9"
      },
      "source": [
        "import numpy as np\n",
        "X = np.array([1.0,0.5])\n",
        "W1 = np.array([[0.1,0.3,0.5],[0.2,0.4,0.6]])\n",
        "B1 = np.array([0.1,0.2,0.3]) # 편향은 A가 (3,) 이므로 (3,) shape를 가진다\n",
        "\n",
        "print(X.shape) # (2,) = (1,2)\n",
        "print(W1.shape) # (2,3)\n",
        "print(B1.shape) # (3,) = (1,3)\n",
        "print()\n",
        "\n",
        "A1 = np.dot(X, W1) + B1\n",
        "A1"
      ],
      "execution_count": 13,
      "outputs": [
        {
          "output_type": "stream",
          "text": [
            "(2,)\n",
            "(2, 3)\n",
            "(3,)\n",
            "\n"
          ],
          "name": "stdout"
        },
        {
          "output_type": "execute_result",
          "data": {
            "text/plain": [
              "array([0.3, 0.7, 1.1])"
            ]
          },
          "metadata": {
            "tags": []
          },
          "execution_count": 13
        }
      ]
    },
    {
      "cell_type": "markdown",
      "metadata": {
        "id": "vM2IaUNV5bCQ",
        "colab_type": "text"
      },
      "source": [
        "### 활성화 함수 적용"
      ]
    },
    {
      "cell_type": "code",
      "metadata": {
        "id": "djc4Aw5Q3z1W",
        "colab_type": "code",
        "colab": {
          "base_uri": "https://localhost:8080/",
          "height": 35
        },
        "outputId": "efaef8eb-642c-4dae-84ed-c408504f1e48"
      },
      "source": [
        "# Activation Function\n",
        "Z1 = sigmoid(A1) # 시그모이드 적용\n",
        "Z1"
      ],
      "execution_count": 14,
      "outputs": [
        {
          "output_type": "execute_result",
          "data": {
            "text/plain": [
              "array([0.57444252, 0.66818777, 0.75026011])"
            ]
          },
          "metadata": {
            "tags": []
          },
          "execution_count": 14
        }
      ]
    },
    {
      "cell_type": "markdown",
      "metadata": {
        "id": "_fxaqRdw6Abx",
        "colab_type": "text"
      },
      "source": [
        "### 2nd Layer"
      ]
    },
    {
      "cell_type": "code",
      "metadata": {
        "id": "OBjtwpOC5ZqG",
        "colab_type": "code",
        "colab": {
          "base_uri": "https://localhost:8080/",
          "height": 107
        },
        "outputId": "14a87184-5a44-4a1e-96c4-b0efccdb910f"
      },
      "source": [
        "W2 = np.array([[0.1,0.4],[0.2,0.5],[0.3,0.6]]) # (3,2)\n",
        "B2 = np.array([0.1,0.2]) # (2,)\n",
        "\n",
        "print(Z1.shape) # (3,) = (1,3)\n",
        "print(W2.shape) # (3,2)\n",
        "print(B1.shape) # (2,) = (1,2)\n",
        "print()\n",
        "\n",
        "A2 = np.dot(Z1,W2) + B2 # (1,3) dot (3,2) = (1,2)\n",
        "A2"
      ],
      "execution_count": 15,
      "outputs": [
        {
          "output_type": "stream",
          "text": [
            "(3,)\n",
            "(3, 2)\n",
            "(3,)\n",
            "\n"
          ],
          "name": "stdout"
        },
        {
          "output_type": "execute_result",
          "data": {
            "text/plain": [
              "array([0.51615984, 1.21402696])"
            ]
          },
          "metadata": {
            "tags": []
          },
          "execution_count": 15
        }
      ]
    },
    {
      "cell_type": "markdown",
      "metadata": {
        "id": "zq94uKd59kOR",
        "colab_type": "text"
      },
      "source": [
        "### 활성화 함수 적용"
      ]
    },
    {
      "cell_type": "code",
      "metadata": {
        "id": "6_5bRJR69qY6",
        "colab_type": "code",
        "colab": {
          "base_uri": "https://localhost:8080/",
          "height": 35
        },
        "outputId": "654ec457-554e-4e94-ef41-5077a95bd972"
      },
      "source": [
        "Z2 = sigmoid(A2)\n",
        "Z2"
      ],
      "execution_count": 16,
      "outputs": [
        {
          "output_type": "execute_result",
          "data": {
            "text/plain": [
              "array([0.62624937, 0.7710107 ])"
            ]
          },
          "metadata": {
            "tags": []
          },
          "execution_count": 16
        }
      ]
    },
    {
      "cell_type": "markdown",
      "metadata": {
        "id": "TIFeEBfQ8P1R",
        "colab_type": "text"
      },
      "source": [
        "### Output Layer"
      ]
    },
    {
      "cell_type": "code",
      "metadata": {
        "id": "maH63zwz6ZtG",
        "colab_type": "code",
        "colab": {
          "base_uri": "https://localhost:8080/",
          "height": 35
        },
        "outputId": "00c9d813-f185-4047-a861-4715355911e1"
      },
      "source": [
        "def identity_function(x):\n",
        "  return x\n",
        "# A2 = (1,2) = (2,)\n",
        "\n",
        "W3 = np.array([[0.1,0.3],[0.2,0.4]]) # (2,2)\n",
        "B3 = np.array([0.1,0.2]) # (1,2) = (2,)\n",
        "\n",
        "A3 = np.dot(Z2, W3) + B3  # (1,2) dot (2,2) = (1,2) = (2,)\n",
        "Y = identity_function(A3) # 혹은 Y = A3\n",
        "Y"
      ],
      "execution_count": 17,
      "outputs": [
        {
          "output_type": "execute_result",
          "data": {
            "text/plain": [
              "array([0.31682708, 0.69627909])"
            ]
          },
          "metadata": {
            "tags": []
          },
          "execution_count": 17
        }
      ]
    },
    {
      "cell_type": "markdown",
      "metadata": {
        "id": "M3sYHw208TMA",
        "colab_type": "text"
      },
      "source": [
        "### 전체 한번에 구현"
      ]
    },
    {
      "cell_type": "code",
      "metadata": {
        "id": "S-pHpMJj71pH",
        "colab_type": "code",
        "colab": {}
      },
      "source": [
        "def init_network():\n",
        "  \"\"\"\n",
        "  weight와 bias 초기화 및 저장\n",
        "  return : weight and bias dictionary\n",
        "  \"\"\"\n",
        "  network = {}\n",
        "  network['W1'] = np.array([[0.1,0.3,0.5],[0.2,0.4,0.6]])\n",
        "  network['b1'] = np.array([0.1,0.2,0.3])\n",
        "  network['W2'] = np.array([[0.1,0.4],[0.2,0.5],[0.3,0.6]])\n",
        "  network['b2'] = np.array([0.1,0.2])\n",
        "  network['W3'] = np.array([[0.1,0.3],[0.2,0.4]])\n",
        "  network['b3'] = np.array([0.1,0.2])\n",
        "\n",
        "  return network\n",
        "\n",
        "def forward(network, x):\n",
        "  \"\"\"\n",
        "  input 신호를 Output으로 변환하는 처리 과정\n",
        "  return y\n",
        "  \"\"\"\n",
        "  W1, W2, W3 = network['W1'], network['W2'], network['W3']\n",
        "  b1, b2, b3 = network['b1'], network['b2'], network['b3']\n",
        "\n",
        "  a1 = np.dot(x, W1) + b1\n",
        "  z1 = sigmoid(a1)\n",
        "\n",
        "  a2 = np.dot(z1, W2) + b2\n",
        "  z2 = sigmoid(a2)\n",
        "\n",
        "  a3 = np.dot(z2, W3) + b3\n",
        "  y = identity_function(a3)\n",
        "\n",
        "  return y"
      ],
      "execution_count": 18,
      "outputs": []
    },
    {
      "cell_type": "code",
      "metadata": {
        "id": "9sQS6-159AnA",
        "colab_type": "code",
        "colab": {
          "base_uri": "https://localhost:8080/",
          "height": 35
        },
        "outputId": "ca56f9c0-4cfc-48ab-ef67-6ad9256e0ccc"
      },
      "source": [
        "network = init_network()\n",
        "x = np.array([1.0,0.5])\n",
        "y = forward(network, x)\n",
        "print(y)"
      ],
      "execution_count": 19,
      "outputs": [
        {
          "output_type": "stream",
          "text": [
            "[0.31682708 0.69627909]\n"
          ],
          "name": "stdout"
        }
      ]
    },
    {
      "cell_type": "markdown",
      "metadata": {
        "id": "4P7gravc_ueb",
        "colab_type": "text"
      },
      "source": [
        "### 출력층 설계\n",
        "* Output layer의 활성화 함수는 풀고자 하는 문제에 따라 다름\n",
        "* Regression : Identity Function\n",
        "* Binary Classification : Sigmoid Function\n",
        "* Multiple Classification : Softmax Function"
      ]
    },
    {
      "cell_type": "markdown",
      "metadata": {
        "id": "pj86Dux6AAEP",
        "colab_type": "text"
      },
      "source": [
        "## Softmax Function\n",
        "* 다중 분류를 위한 출력 층 함수\n",
        "* Softmax의 결과를 모두 합하면 1이 됨\n",
        "\n",
        "Yk = exp(ak) / sum(ai)    \n",
        "sum(yi) = 1"
      ]
    },
    {
      "cell_type": "code",
      "metadata": {
        "id": "holaRzad9_AR",
        "colab_type": "code",
        "colab": {}
      },
      "source": [
        "def softmax(a):\n",
        "  \"\"\"\n",
        "  값 리스트를 확률 분포로 변화하는 함수\n",
        "\n",
        "  a : 값 리스트\n",
        "  \"\"\"\n",
        "  exp_a = np.exp(a) # 지수 함수 적용\n",
        "  sum_exp_a = np.sum(exp_a) # 지수 함수의 합\n",
        "  y = exp_a / sum_exp_a # 이산 확률분포로 변환\n",
        "  \n",
        "  return y"
      ],
      "execution_count": 20,
      "outputs": []
    },
    {
      "cell_type": "code",
      "metadata": {
        "id": "R0afiYl9AdWo",
        "colab_type": "code",
        "colab": {
          "base_uri": "https://localhost:8080/",
          "height": 35
        },
        "outputId": "abecf2f9-ccd2-46a6-d745-2b5b123b3818"
      },
      "source": [
        "a = np.array([0.3,2.9,4.0])\n",
        "softmax(a)"
      ],
      "execution_count": 21,
      "outputs": [
        {
          "output_type": "execute_result",
          "data": {
            "text/plain": [
              "array([0.01821127, 0.24519181, 0.73659691])"
            ]
          },
          "metadata": {
            "tags": []
          },
          "execution_count": 21
        }
      ]
    },
    {
      "cell_type": "markdown",
      "metadata": {
        "id": "bMXVF9xFCEEy",
        "colab_type": "text"
      },
      "source": [
        "* Softmax는 지수함수를 사용하고 지수 함수는 아주 큰 값을 반환\n",
        "* 따라서 너무 큰 값이 반환되는 경우 Overflow 발생 가능"
      ]
    },
    {
      "cell_type": "code",
      "metadata": {
        "id": "EMTYz31DAgNC",
        "colab_type": "code",
        "colab": {
          "base_uri": "https://localhost:8080/",
          "height": 107
        },
        "outputId": "df425114-5c51-495d-ab3e-98a184e0950d"
      },
      "source": [
        "a = np.array([1000, 1000, 990])\n",
        "np.exp(a) / np.sum(np.exp(a))"
      ],
      "execution_count": 22,
      "outputs": [
        {
          "output_type": "stream",
          "text": [
            "/usr/local/lib/python3.6/dist-packages/ipykernel_launcher.py:2: RuntimeWarning: overflow encountered in exp\n",
            "  \n",
            "/usr/local/lib/python3.6/dist-packages/ipykernel_launcher.py:2: RuntimeWarning: invalid value encountered in true_divide\n",
            "  \n"
          ],
          "name": "stderr"
        },
        {
          "output_type": "execute_result",
          "data": {
            "text/plain": [
              "array([nan, nan, nan])"
            ]
          },
          "metadata": {
            "tags": []
          },
          "execution_count": 22
        }
      ]
    },
    {
      "cell_type": "markdown",
      "metadata": {
        "id": "MEvhdluJCLMb",
        "colab_type": "text"
      },
      "source": [
        "### overflow 방지"
      ]
    },
    {
      "cell_type": "code",
      "metadata": {
        "id": "XPXHYz4wCBot",
        "colab_type": "code",
        "colab": {
          "base_uri": "https://localhost:8080/",
          "height": 53
        },
        "outputId": "c1753c22-7400-4f32-b99a-a3b352442a15"
      },
      "source": [
        "c = np.max(a)\n",
        "print(a-c)\n",
        "print(np.exp(a-c) / np.sum(np.exp(a-c)))"
      ],
      "execution_count": 23,
      "outputs": [
        {
          "output_type": "stream",
          "text": [
            "[  0   0 -10]\n",
            "[4.99988650e-01 4.99988650e-01 2.26994496e-05]\n"
          ],
          "name": "stdout"
        }
      ]
    },
    {
      "cell_type": "code",
      "metadata": {
        "id": "nBL5m2xQCS2Z",
        "colab_type": "code",
        "colab": {}
      },
      "source": [
        "def softmax(a):\n",
        "  \"\"\"\n",
        "  값 리스트를 확률 분포로 변화하는 함수\n",
        "  최댓값을 각 원소에 빼서 overflow 방지\n",
        "  a : 값 리스트\n",
        "  \"\"\"\n",
        "  c = np.max(a)\n",
        "  exp_a = np.exp(a-c) # 지수 함수 적용\n",
        "  sum_exp_a = np.sum(exp_a) # 지수 함수의 합\n",
        "  y = exp_a / sum_exp_a # 이산 확률분포로 변환\n",
        "  \n",
        "  return y"
      ],
      "execution_count": 24,
      "outputs": []
    },
    {
      "cell_type": "code",
      "metadata": {
        "id": "9NURKkyDCd91",
        "colab_type": "code",
        "colab": {
          "base_uri": "https://localhost:8080/",
          "height": 35
        },
        "outputId": "7f92e1b8-cea1-4224-a965-2f6e3075d749"
      },
      "source": [
        "a = np.array([0.3,2.9,4.0])\n",
        "softmax(a)"
      ],
      "execution_count": 25,
      "outputs": [
        {
          "output_type": "execute_result",
          "data": {
            "text/plain": [
              "array([0.01821127, 0.24519181, 0.73659691])"
            ]
          },
          "metadata": {
            "tags": []
          },
          "execution_count": 25
        }
      ]
    },
    {
      "cell_type": "code",
      "metadata": {
        "id": "HYjxqYvhCjqB",
        "colab_type": "code",
        "colab": {
          "base_uri": "https://localhost:8080/",
          "height": 35
        },
        "outputId": "75058a67-11c9-4bdb-cf77-b32074010701"
      },
      "source": [
        "a = np.array([30,290,400])\n",
        "softmax(a)"
      ],
      "execution_count": 26,
      "outputs": [
        {
          "output_type": "execute_result",
          "data": {
            "text/plain": [
              "array([2.04664112e-161, 1.68891188e-048, 1.00000000e+000])"
            ]
          },
          "metadata": {
            "tags": []
          },
          "execution_count": 26
        }
      ]
    }
  ]
}