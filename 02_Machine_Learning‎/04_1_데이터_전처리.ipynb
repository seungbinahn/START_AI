{
  "nbformat": 4,
  "nbformat_minor": 0,
  "metadata": {
    "colab": {
      "name": "04_1_데이터 전처리.ipynb",
      "provenance": [],
      "collapsed_sections": [],
      "toc_visible": true,
      "include_colab_link": true
    },
    "kernelspec": {
      "name": "python3",
      "display_name": "Python 3"
    }
  },
  "cells": [
    {
      "cell_type": "markdown",
      "metadata": {
        "id": "view-in-github",
        "colab_type": "text"
      },
      "source": [
        "<a href=\"https://colab.research.google.com/github/seungbinahn/START_AI/blob/master/02_Machine_Learning%E2%80%8E/04_1_%EB%8D%B0%EC%9D%B4%ED%84%B0_%EC%A0%84%EC%B2%98%EB%A6%AC.ipynb\" target=\"_parent\"><img src=\"https://colab.research.google.com/assets/colab-badge.svg\" alt=\"Open In Colab\"/></a>"
      ]
    },
    {
      "cell_type": "markdown",
      "metadata": {
        "id": "hTXbqy1OFWJT",
        "colab_type": "text"
      },
      "source": [
        "# 데이터 전처리\n",
        "* ML 알고리즘은 데이터에 기반함\n",
        "* 데이터의 품질이 성능을 좌우 함\n",
        "* 데이터 전처리 과정은 알고리즘 만큼 중요함\n",
        "* 주요 데이터 전처리 과정 \n",
        "*결손값(NaN, NULL 처리), 데이터 인코딩(Encoding), Scaling 등"
      ]
    },
    {
      "cell_type": "markdown",
      "metadata": {
        "id": "x4CVNwifBMPB",
        "colab_type": "text"
      },
      "source": [
        "### Label Encoding\n",
        "* 회귀분석은 숫자의 대소관계가 결과에 영향을 미칠 수 있음\n",
        "* 레이블 인코딩을 수행하면 숫자로 인식하여 모델 성능에 영향을 미칠 수 있으므로 회귀 분석에서는 사용 지양\n",
        "* 트리 계열 알고리즘은 숫자의 특성이 영향이 없으므로 고민 없이 사용 가능"
      ]
    },
    {
      "cell_type": "code",
      "metadata": {
        "id": "ecJDoYC--grh",
        "colab_type": "code",
        "colab": {
          "base_uri": "https://localhost:8080/",
          "height": 35
        },
        "outputId": "7a035613-1c86-4305-b850-79325747fda5"
      },
      "source": [
        "from sklearn.preprocessing import LabelEncoder\n",
        "\n",
        "items = ['TV','냉장고','전자렌지','컴퓨터','선풍기','선풍기','믹서','믹서']\n",
        "\n",
        "encoder = LabelEncoder() # LabelEncoder 생성\n",
        "encoder.fit(items) # 규칙 생성\n",
        "\n",
        "labels = encoder.transform(items)\n",
        "labels"
      ],
      "execution_count": 1,
      "outputs": [
        {
          "output_type": "execute_result",
          "data": {
            "text/plain": [
              "array([0, 1, 4, 5, 3, 3, 2, 2])"
            ]
          },
          "metadata": {
            "tags": []
          },
          "execution_count": 1
        }
      ]
    },
    {
      "cell_type": "code",
      "metadata": {
        "id": "AqFUI4Va-505",
        "colab_type": "code",
        "colab": {
          "base_uri": "https://localhost:8080/",
          "height": 53
        },
        "outputId": "a6b8cbc4-ec55-4724-c038-a43084da6e2e"
      },
      "source": [
        "print('Encoding classes : ', encoder.classes_)\n",
        "print('Decoding values : ', encoder.inverse_transform([0, 1, 2, 3, 4, 5])) # decoding : 숫자를 다시 문자로 디코딩"
      ],
      "execution_count": 2,
      "outputs": [
        {
          "output_type": "stream",
          "text": [
            "Encoding classes :  ['TV' '냉장고' '믹서' '선풍기' '전자렌지' '컴퓨터']\n",
            "Decoding values :  ['TV' '냉장고' '믹서' '선풍기' '전자렌지' '컴퓨터']\n"
          ],
          "name": "stdout"
        }
      ]
    },
    {
      "cell_type": "markdown",
      "metadata": {
        "id": "heVdphg_BR2V",
        "colab_type": "text"
      },
      "source": [
        "### One Hot Encoding\n",
        "* 카테고리 값의 개수를 원소 개수로 하는 배열로 변환\n",
        "* 카테고리 값에 해당하는 위치는 1, 나머지는 0으로 설정 (One Hot Vector)"
      ]
    },
    {
      "cell_type": "code",
      "metadata": {
        "id": "mqU5Ngg4_AlJ",
        "colab_type": "code",
        "colab": {
          "base_uri": "https://localhost:8080/",
          "height": 161
        },
        "outputId": "18429108-58f0-4d2b-cfa7-22a1f680f9ed"
      },
      "source": [
        "from sklearn.preprocessing import LabelEncoder\n",
        "\n",
        "items=['TV','냉장고','전자렌지','컴퓨터','선풍기','선풍기','믹서','믹서']\n",
        "\n",
        "encoder = LabelEncoder() # 먼저 LabelEncoding 수행\n",
        "encoder.fit(items)\n",
        "labels = encoder.transform(items)\n",
        "# reshape 행렬 크기 변환\n",
        "labels = labels.reshape(-1,1) # -1 : 가변 인자, 이 경우 열은 1개로 고정, 행은 상황에 맞게 변환\n",
        "labels"
      ],
      "execution_count": 3,
      "outputs": [
        {
          "output_type": "execute_result",
          "data": {
            "text/plain": [
              "array([[0],\n",
              "       [1],\n",
              "       [4],\n",
              "       [5],\n",
              "       [3],\n",
              "       [3],\n",
              "       [2],\n",
              "       [2]])"
            ]
          },
          "metadata": {
            "tags": []
          },
          "execution_count": 3
        }
      ]
    },
    {
      "cell_type": "code",
      "metadata": {
        "id": "goM9hNj0_HKc",
        "colab_type": "code",
        "colab": {
          "base_uri": "https://localhost:8080/",
          "height": 323
        },
        "outputId": "285e753b-80f8-40d5-85e0-b482e56a6006"
      },
      "source": [
        "from sklearn.preprocessing import OneHotEncoder\n",
        "\n",
        "one_hot_encoder = OneHotEncoder()\n",
        "one_hot_encoder.fit(labels) # n행 1열의 ndarray를 입력으로 받아 수행\n",
        "one_hot_labels = one_hot_encoder.transform(labels) # 변환\n",
        "print(labels)\n",
        "print(type(one_hot_labels.toarray()))\n",
        "print(one_hot_labels.toarray())"
      ],
      "execution_count": 4,
      "outputs": [
        {
          "output_type": "stream",
          "text": [
            "[[0]\n",
            " [1]\n",
            " [4]\n",
            " [5]\n",
            " [3]\n",
            " [3]\n",
            " [2]\n",
            " [2]]\n",
            "<class 'numpy.ndarray'>\n",
            "[[1. 0. 0. 0. 0. 0.]\n",
            " [0. 1. 0. 0. 0. 0.]\n",
            " [0. 0. 0. 0. 1. 0.]\n",
            " [0. 0. 0. 0. 0. 1.]\n",
            " [0. 0. 0. 1. 0. 0.]\n",
            " [0. 0. 0. 1. 0. 0.]\n",
            " [0. 0. 1. 0. 0. 0.]\n",
            " [0. 0. 1. 0. 0. 0.]]\n"
          ],
          "name": "stdout"
        }
      ]
    },
    {
      "cell_type": "markdown",
      "metadata": {
        "id": "fJDk4MRzBVWo",
        "colab_type": "text"
      },
      "source": [
        "### Standard Scaling\n",
        "* 데이터 값의 범위를 일정 수준으로 변환하는 전처리 기법\n",
        "* 표준화(Standardization) : 평균이 0, 분산이 1\n",
        "* 정규화(Normalization) : 서로 다른 스케일의 데이터의 크기를 통일 ex) 0 ~ 1로 통일\n",
        "* MinMaxScaler : Normalization을 손쉽게 구현"
      ]
    },
    {
      "cell_type": "code",
      "metadata": {
        "id": "RZyc1i0l_Q1D",
        "colab_type": "code",
        "colab": {
          "base_uri": "https://localhost:8080/",
          "height": 251
        },
        "outputId": "f33f8acd-273d-4197-ded2-0aa3f64be936"
      },
      "source": [
        "from sklearn.datasets import load_iris\n",
        "import pandas as pd\n",
        "\n",
        "iris = load_iris()\n",
        "# df 생성\n",
        "df_iris = pd.DataFrame(data = iris.data, columns = iris.feature_names)\n",
        "\n",
        "# 원본 데이터의 통계량 확인\n",
        "print(\"Average:\\n\", df_iris.mean()) # 평균 default axis = 0이므로 칼럼별로 수행\n",
        "print(\"\\nVariance:\\n\", df_iris.var()) # 분산 default axis = 0이므로 칼럼별로 수행"
      ],
      "execution_count": 5,
      "outputs": [
        {
          "output_type": "stream",
          "text": [
            "Average:\n",
            " sepal length (cm)    5.843333\n",
            "sepal width (cm)     3.057333\n",
            "petal length (cm)    3.758000\n",
            "petal width (cm)     1.199333\n",
            "dtype: float64\n",
            "\n",
            "Variance:\n",
            " sepal length (cm)    0.685694\n",
            "sepal width (cm)     0.189979\n",
            "petal length (cm)    3.116278\n",
            "petal width (cm)     0.581006\n",
            "dtype: float64\n"
          ],
          "name": "stdout"
        }
      ]
    },
    {
      "cell_type": "code",
      "metadata": {
        "id": "zLCfzEv-BBu-",
        "colab_type": "code",
        "colab": {
          "base_uri": "https://localhost:8080/",
          "height": 251
        },
        "outputId": "5f7295fe-d0c9-4902-a1f0-e800e91ff3f2"
      },
      "source": [
        "from sklearn.preprocessing import StandardScaler\n",
        "\n",
        "scaler = StandardScaler() # Scaler 생성\n",
        "scaler.fit(df_iris)\n",
        "scaled_iris = scaler.transform(df_iris)\n",
        "\n",
        "df_scaled_iris = pd.DataFrame(data=scaled_iris, columns = iris.feature_names)\n",
        "\n",
        "# 표준화된 데이터 출력\n",
        "print(\"Average:\\n\", df_scaled_iris.mean()) # 평균 default axis = 0이므로 칼럼별로 수행\n",
        "print(\"\\nVariance:\\n\", df_scaled_iris.var()) # 분산 default axis = 0이므로 칼럼별로 수행"
      ],
      "execution_count": 6,
      "outputs": [
        {
          "output_type": "stream",
          "text": [
            "Average:\n",
            " sepal length (cm)   -1.690315e-15\n",
            "sepal width (cm)    -1.842970e-15\n",
            "petal length (cm)   -1.698641e-15\n",
            "petal width (cm)    -1.409243e-15\n",
            "dtype: float64\n",
            "\n",
            "Variance:\n",
            " sepal length (cm)    1.006711\n",
            "sepal width (cm)     1.006711\n",
            "petal length (cm)    1.006711\n",
            "petal width (cm)     1.006711\n",
            "dtype: float64\n"
          ],
          "name": "stdout"
        }
      ]
    },
    {
      "cell_type": "markdown",
      "metadata": {
        "id": "BKoctS2vBu3r",
        "colab_type": "text"
      },
      "source": [
        "### MinMax Scaling"
      ]
    },
    {
      "cell_type": "code",
      "metadata": {
        "id": "08SDF4FhBvsx",
        "colab_type": "code",
        "colab": {
          "base_uri": "https://localhost:8080/",
          "height": 251
        },
        "outputId": "53e938d5-faa2-4f2b-c224-e182197b7b59"
      },
      "source": [
        "from sklearn.preprocessing import MinMaxScaler\n",
        "\n",
        "scaler = MinMaxScaler()\n",
        "scaler.fit(df_iris)\n",
        "scaled_iris = scaler.transform(df_iris)\n",
        "\n",
        "df_scaled_iris = pd.DataFrame(data=scaled_iris, columns = iris.feature_names)\n",
        "\n",
        "# 정규화된 데이터 출력\n",
        "print(\"Min value:\\n\", df_scaled_iris.min()) # 최소값 default axis = 0이므로 칼럼별로 수행\n",
        "print(\"\\nMax value :\\n\", df_scaled_iris.max()) # 최대값 default axis = 0이므로 칼럼별로 수행"
      ],
      "execution_count": 7,
      "outputs": [
        {
          "output_type": "stream",
          "text": [
            "Min value:\n",
            " sepal length (cm)    0.0\n",
            "sepal width (cm)     0.0\n",
            "petal length (cm)    0.0\n",
            "petal width (cm)     0.0\n",
            "dtype: float64\n",
            "\n",
            "Max value :\n",
            " sepal length (cm)    1.0\n",
            "sepal width (cm)     1.0\n",
            "petal length (cm)    1.0\n",
            "petal width (cm)     1.0\n",
            "dtype: float64\n"
          ],
          "name": "stdout"
        }
      ]
    }
  ]
}