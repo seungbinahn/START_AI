{
  "nbformat": 4,
  "nbformat_minor": 0,
  "metadata": {
    "colab": {
      "name": "01_numpy 리뷰.ipynb",
      "provenance": [],
      "collapsed_sections": [],
      "toc_visible": true,
      "authorship_tag": "ABX9TyOpXvic9ztjT++s0+CLc/lM",
      "include_colab_link": true
    },
    "kernelspec": {
      "name": "python3",
      "display_name": "Python 3"
    }
  },
  "cells": [
    {
      "cell_type": "markdown",
      "metadata": {
        "id": "view-in-github",
        "colab_type": "text"
      },
      "source": [
        "<a href=\"https://colab.research.google.com/github/seungbinahn/START_AI/blob/master/02_Machine_Learning%E2%80%8E/01_numpy_%EB%A6%AC%EB%B7%B0.ipynb\" target=\"_parent\"><img src=\"https://colab.research.google.com/assets/colab-badge.svg\" alt=\"Open In Colab\"/></a>"
      ]
    },
    {
      "cell_type": "markdown",
      "metadata": {
        "id": "CsMoemRl0EFw",
        "colab_type": "text"
      },
      "source": [
        "# numpy"
      ]
    },
    {
      "cell_type": "code",
      "metadata": {
        "id": "x1fdidCoowAB",
        "colab_type": "code",
        "colab": {}
      },
      "source": [
        "import numpy as np"
      ],
      "execution_count": null,
      "outputs": []
    },
    {
      "cell_type": "markdown",
      "metadata": {
        "id": "JJ5h-TTC0RwN",
        "colab_type": "text"
      },
      "source": [
        "## ndarray\n"
      ]
    },
    {
      "cell_type": "code",
      "metadata": {
        "id": "Dq-M6oQ1pgiH",
        "colab_type": "code",
        "colab": {
          "base_uri": "https://localhost:8080/",
          "height": 53
        },
        "outputId": "26320db9-3f57-48da-fe00-251bc6bc64d4"
      },
      "source": [
        "data_ndarray = np.array([10,20,30])\n",
        "\n",
        "print(data_ndarray)\n",
        "print(type(data_ndarray))"
      ],
      "execution_count": null,
      "outputs": [
        {
          "output_type": "stream",
          "text": [
            "[10 20 30]\n",
            "<class 'numpy.ndarray'>\n"
          ],
          "name": "stdout"
        }
      ]
    },
    {
      "cell_type": "code",
      "metadata": {
        "id": "TYbrlapxsMZP",
        "colab_type": "code",
        "colab": {
          "base_uri": "https://localhost:8080/",
          "height": 35
        },
        "outputId": "4742720c-c8d0-4670-8f90-be6f1624b329"
      },
      "source": [
        "# ndarray 정보 출력 함수\n",
        "def printinfo(array):\n",
        "  print('shape = %s, dimension: %s, dtype: %s' % (array.shape, array.ndim, array.dtype))\n",
        "printinfo(data_ndarray)  "
      ],
      "execution_count": null,
      "outputs": [
        {
          "output_type": "stream",
          "text": [
            "shape = (3,), dimension: 1, dtype: int64\n"
          ],
          "name": "stdout"
        }
      ]
    },
    {
      "cell_type": "code",
      "metadata": {
        "id": "c5Viaz3LsuCx",
        "colab_type": "code",
        "colab": {
          "base_uri": "https://localhost:8080/",
          "height": 35
        },
        "outputId": "957eb62b-3459-42f3-98f0-6d7077a796de"
      },
      "source": [
        "array = np.array([1,2,3,4,5])\n",
        "printinfo(array)"
      ],
      "execution_count": null,
      "outputs": [
        {
          "output_type": "stream",
          "text": [
            "shape = (5,), dimension: 1, dtype: int64\n"
          ],
          "name": "stdout"
        }
      ]
    },
    {
      "cell_type": "code",
      "metadata": {
        "id": "ydpBo9Ieto87",
        "colab_type": "code",
        "colab": {
          "base_uri": "https://localhost:8080/",
          "height": 35
        },
        "outputId": "f9635eaf-974b-4f6e-81d0-1360d692e2b4"
      },
      "source": [
        "array = np.array([[1,2,3],[4,5,6]], dtype=float)\n",
        "printinfo(array)"
      ],
      "execution_count": null,
      "outputs": [
        {
          "output_type": "stream",
          "text": [
            "shape = (2, 3), dimension: 2, dtype: float64\n"
          ],
          "name": "stdout"
        }
      ]
    },
    {
      "cell_type": "code",
      "metadata": {
        "id": "xYJ1d98nuGyD",
        "colab_type": "code",
        "colab": {
          "base_uri": "https://localhost:8080/",
          "height": 35
        },
        "outputId": "79061215-42f8-4aab-dc34-48144575f66d"
      },
      "source": [
        "array = np.array([[[1,2,3],[4,5,6]],[[1,2,3],[4,5,6]]], dtype=float)\n",
        "printinfo(array)"
      ],
      "execution_count": null,
      "outputs": [
        {
          "output_type": "stream",
          "text": [
            "shape = (2, 2, 3), dimension: 3, dtype: float64\n"
          ],
          "name": "stdout"
        }
      ]
    },
    {
      "cell_type": "code",
      "metadata": {
        "id": "pm6B1-MDvvqT",
        "colab_type": "code",
        "colab": {
          "base_uri": "https://localhost:8080/",
          "height": 89
        },
        "outputId": "c02d0a11-5961-4d7f-8703-1abf72ae6a46"
      },
      "source": [
        "# 0으로 채워진 ndarray 생성\n",
        "array = np.zeros((3,4))\n",
        "print(array)\n",
        "printinfo(array)"
      ],
      "execution_count": null,
      "outputs": [
        {
          "output_type": "stream",
          "text": [
            "[[0. 0. 0. 0.]\n",
            " [0. 0. 0. 0.]\n",
            " [0. 0. 0. 0.]]\n",
            "shape = (3, 4), dimension: 2, dtype: float64\n"
          ],
          "name": "stdout"
        }
      ]
    },
    {
      "cell_type": "code",
      "metadata": {
        "id": "AhL831upvzv1",
        "colab_type": "code",
        "colab": {
          "base_uri": "https://localhost:8080/",
          "height": 89
        },
        "outputId": "5666737f-8bde-4196-c256-1bc785904642"
      },
      "source": [
        "# 원하는 값 채우기\n",
        "array = np.full((3,4),1234)\n",
        "print(array)\n",
        "printinfo(array)"
      ],
      "execution_count": null,
      "outputs": [
        {
          "output_type": "stream",
          "text": [
            "[[1234 1234 1234 1234]\n",
            " [1234 1234 1234 1234]\n",
            " [1234 1234 1234 1234]]\n",
            "shape = (3, 4), dimension: 2, dtype: int64\n"
          ],
          "name": "stdout"
        }
      ]
    },
    {
      "cell_type": "code",
      "metadata": {
        "id": "9Hoiz-ugwovD",
        "colab_type": "code",
        "colab": {
          "base_uri": "https://localhost:8080/",
          "height": 89
        },
        "outputId": "8f621f7d-90dd-4eb9-a2d5-ffb9ee15b79d"
      },
      "source": [
        "# 초기화 없이 생성\n",
        "array = np.empty((4,2))\n",
        "print(array)"
      ],
      "execution_count": null,
      "outputs": [
        {
          "output_type": "stream",
          "text": [
            "[[1.14193511e-316 8.48798317e-313]\n",
            " [2.46151512e-312 2.41907520e-312]\n",
            " [2.07955588e-312 2.14321575e-312]\n",
            " [5.35726157e+199 1.64338794e-312]]\n"
          ],
          "name": "stdout"
        }
      ]
    },
    {
      "cell_type": "code",
      "metadata": {
        "id": "6qqqPa_UxKnu",
        "colab_type": "code",
        "colab": {
          "base_uri": "https://localhost:8080/",
          "height": 107
        },
        "outputId": "07fc8a0f-8f37-4423-d329-c5f83381d4c5"
      },
      "source": [
        "# 단위 정사각 행렬 생성 (identity matrix 생성)\n",
        "array = np.eye(4)\n",
        "print(array)\n",
        "printinfo(array)"
      ],
      "execution_count": null,
      "outputs": [
        {
          "output_type": "stream",
          "text": [
            "[[1. 0. 0. 0.]\n",
            " [0. 1. 0. 0.]\n",
            " [0. 0. 1. 0.]\n",
            " [0. 0. 0. 1.]]\n",
            "shape = (4, 4), dimension: 2, dtype: float64\n"
          ],
          "name": "stdout"
        }
      ]
    },
    {
      "cell_type": "code",
      "metadata": {
        "id": "RUXzE3Jb0fNl",
        "colab_type": "code",
        "colab": {
          "base_uri": "https://localhost:8080/",
          "height": 125
        },
        "outputId": "dd46f756-93a6-48e9-830a-a7a0160da038"
      },
      "source": [
        "# ndarray를 이용하여 같은 shape로 생성\n",
        "array = np.array([[1,2,3],[4,5,6]])\n",
        "print(array)\n",
        "\n",
        "one_array = np.ones_like(array)\n",
        "print(one_array)\n",
        "\n",
        "one_array = np.zeros_like(array)\n",
        "print(one_array)"
      ],
      "execution_count": null,
      "outputs": [
        {
          "output_type": "stream",
          "text": [
            "[[1 2 3]\n",
            " [4 5 6]]\n",
            "[[1 1 1]\n",
            " [1 1 1]]\n",
            "[[0 0 0]\n",
            " [0 0 0]]\n"
          ],
          "name": "stdout"
        }
      ]
    },
    {
      "cell_type": "code",
      "metadata": {
        "id": "1T7sD3Or1SjD",
        "colab_type": "code",
        "colab": {
          "base_uri": "https://localhost:8080/",
          "height": 71
        },
        "outputId": "08cf5700-4f6f-48e8-b816-bd478f0a7ed5"
      },
      "source": [
        "# 랜덤값을 가지는 ndarray 생성\n",
        "array = np.random.randint(0,100,20)\n",
        "print(array)\n",
        "print((type(array)))\n",
        "array.shape"
      ],
      "execution_count": null,
      "outputs": [
        {
          "output_type": "stream",
          "text": [
            "[57 74 48 84  0 59 58 57 32 46 60 14  7 60 88 44 54 20 46 37]\n",
            "<class 'numpy.ndarray'>\n"
          ],
          "name": "stdout"
        },
        {
          "output_type": "execute_result",
          "data": {
            "text/plain": [
              "(20,)"
            ]
          },
          "metadata": {
            "tags": []
          },
          "execution_count": 33
        }
      ]
    },
    {
      "cell_type": "markdown",
      "metadata": {
        "id": "nTzElfk05aew",
        "colab_type": "text"
      },
      "source": [
        "## ndaaray의 속성"
      ]
    },
    {
      "cell_type": "code",
      "metadata": {
        "id": "SeCH44HC1jV6",
        "colab_type": "code",
        "colab": {
          "base_uri": "https://localhost:8080/",
          "height": 35
        },
        "outputId": "2e99a7ed-0684-4832-b815-491066ba55c8"
      },
      "source": [
        "len(array)"
      ],
      "execution_count": null,
      "outputs": [
        {
          "output_type": "execute_result",
          "data": {
            "text/plain": [
              "20"
            ]
          },
          "metadata": {
            "tags": []
          },
          "execution_count": 34
        }
      ]
    },
    {
      "cell_type": "code",
      "metadata": {
        "id": "pDEKbDHz1k0O",
        "colab_type": "code",
        "colab": {
          "base_uri": "https://localhost:8080/",
          "height": 35
        },
        "outputId": "080529c2-7ea1-47b7-a529-bb1039787e70"
      },
      "source": [
        "array.ndim"
      ],
      "execution_count": null,
      "outputs": [
        {
          "output_type": "execute_result",
          "data": {
            "text/plain": [
              "1"
            ]
          },
          "metadata": {
            "tags": []
          },
          "execution_count": 35
        }
      ]
    },
    {
      "cell_type": "code",
      "metadata": {
        "id": "3sXdBAcm1l-p",
        "colab_type": "code",
        "colab": {
          "base_uri": "https://localhost:8080/",
          "height": 35
        },
        "outputId": "df6937b9-69a9-45da-8ea9-23a35910a372"
      },
      "source": [
        "# 배열의 모든 원소의 개수\n",
        "array.size"
      ],
      "execution_count": null,
      "outputs": [
        {
          "output_type": "execute_result",
          "data": {
            "text/plain": [
              "20"
            ]
          },
          "metadata": {
            "tags": []
          },
          "execution_count": 37
        }
      ]
    },
    {
      "cell_type": "code",
      "metadata": {
        "id": "lYIWCxEP1muR",
        "colab_type": "code",
        "colab": {
          "base_uri": "https://localhost:8080/",
          "height": 125
        },
        "outputId": "0df3591a-6c71-4daf-9407-7988783c145e"
      },
      "source": [
        "arr = np.arange(1,5)\n",
        "print(arr.dtype)\n",
        "print(arr)\n",
        "\n",
        "arr = np.random.random((3,4))\n",
        "print(arr.dtype)\n",
        "print(arr)"
      ],
      "execution_count": null,
      "outputs": [
        {
          "output_type": "stream",
          "text": [
            "int64\n",
            "[1 2 3 4]\n",
            "float64\n",
            "[[0.03061383 0.92446656 0.896679   0.49415559]\n",
            " [0.49972071 0.91180601 0.86441192 0.18524392]\n",
            " [0.94994246 0.49864834 0.3173126  0.70530024]]\n"
          ],
          "name": "stdout"
        }
      ]
    },
    {
      "cell_type": "code",
      "metadata": {
        "id": "z0UiMiAr3d2_",
        "colab_type": "code",
        "colab": {
          "base_uri": "https://localhost:8080/",
          "height": 53
        },
        "outputId": "7c47a1ab-ac51-45af-ad11-fc077f81eef3"
      },
      "source": [
        "arrlist = [[1,2,3],[4,5,6]]\n",
        "nparr = np.array(arrlist, dtype=np.float)\n",
        "print(nparr)"
      ],
      "execution_count": null,
      "outputs": [
        {
          "output_type": "stream",
          "text": [
            "[[1. 2. 3.]\n",
            " [4. 5. 6.]]\n"
          ],
          "name": "stdout"
        }
      ]
    },
    {
      "cell_type": "code",
      "metadata": {
        "id": "nJXphs0l3uFy",
        "colab_type": "code",
        "colab": {
          "base_uri": "https://localhost:8080/",
          "height": 125
        },
        "outputId": "ef96db43-0013-4530-fc44-3b9a4c1eeabe"
      },
      "source": [
        "# ndarray의 타입 변환\n",
        "array = np.random.random((3,4))\n",
        "print(array)\n",
        "print(array.astype(np.int))"
      ],
      "execution_count": null,
      "outputs": [
        {
          "output_type": "stream",
          "text": [
            "[[0.59987529 0.91667181 0.51865544 0.29527799]\n",
            " [0.80262971 0.43653657 0.71907732 0.59034595]\n",
            " [0.76584142 0.68847749 0.44972417 0.04889821]]\n",
            "[[0 0 0 0]\n",
            " [0 0 0 0]\n",
            " [0 0 0 0]]\n"
          ],
          "name": "stdout"
        }
      ]
    },
    {
      "cell_type": "code",
      "metadata": {
        "id": "NhvPQUjz31Y2",
        "colab_type": "code",
        "colab": {
          "base_uri": "https://localhost:8080/",
          "height": 53
        },
        "outputId": "fcd326cc-214d-4f05-8412-f6515bed1827"
      },
      "source": [
        "# ndarray의 모양\n",
        "array = np.arange(24)\n",
        "print(array)\n",
        "print(array.shape)"
      ],
      "execution_count": null,
      "outputs": [
        {
          "output_type": "stream",
          "text": [
            "[ 0  1  2  3  4  5  6  7  8  9 10 11 12 13 14 15 16 17 18 19 20 21 22 23]\n",
            "(24,)\n"
          ],
          "name": "stdout"
        }
      ]
    },
    {
      "cell_type": "code",
      "metadata": {
        "id": "n7brO6q65k6D",
        "colab_type": "code",
        "colab": {
          "base_uri": "https://localhost:8080/",
          "height": 125
        },
        "outputId": "02e02e09-20af-43e1-9f07-762ed31ae475"
      },
      "source": [
        "# ndarray의 차원 변형 1\n",
        "array.shape = (6,4)\n",
        "print(array)"
      ],
      "execution_count": null,
      "outputs": [
        {
          "output_type": "stream",
          "text": [
            "[[ 0  1  2  3]\n",
            " [ 4  5  6  7]\n",
            " [ 8  9 10 11]\n",
            " [12 13 14 15]\n",
            " [16 17 18 19]\n",
            " [20 21 22 23]]\n"
          ],
          "name": "stdout"
        }
      ]
    },
    {
      "cell_type": "code",
      "metadata": {
        "id": "p_FOIFx25ouo",
        "colab_type": "code",
        "colab": {
          "base_uri": "https://localhost:8080/",
          "height": 161
        },
        "outputId": "01ffc664-6a09-4033-9d51-11b68b93e7c3"
      },
      "source": [
        "# ndarray의 차원 변형 2\n",
        "array.shape = (3,2,4)\n",
        "print(array)"
      ],
      "execution_count": null,
      "outputs": [
        {
          "output_type": "stream",
          "text": [
            "[[[ 0  1  2  3]\n",
            "  [ 4  5  6  7]]\n",
            "\n",
            " [[ 8  9 10 11]\n",
            "  [12 13 14 15]]\n",
            "\n",
            " [[16 17 18 19]\n",
            "  [20 21 22 23]]]\n"
          ],
          "name": "stdout"
        }
      ]
    },
    {
      "cell_type": "code",
      "metadata": {
        "id": "B5cEwId75yZM",
        "colab_type": "code",
        "colab": {
          "base_uri": "https://localhost:8080/",
          "height": 233
        },
        "outputId": "3bb32557-07d2-4ed3-be15-c53d7a4dd40b"
      },
      "source": [
        "# ndarray의 차원 변형 3\n",
        "array.shape = (12,2)\n",
        "print(array)"
      ],
      "execution_count": null,
      "outputs": [
        {
          "output_type": "stream",
          "text": [
            "[[ 0  1]\n",
            " [ 2  3]\n",
            " [ 4  5]\n",
            " [ 6  7]\n",
            " [ 8  9]\n",
            " [10 11]\n",
            " [12 13]\n",
            " [14 15]\n",
            " [16 17]\n",
            " [18 19]\n",
            " [20 21]\n",
            " [22 23]]\n"
          ],
          "name": "stdout"
        }
      ]
    },
    {
      "cell_type": "code",
      "metadata": {
        "id": "9-W2b45W7Kl3",
        "colab_type": "code",
        "colab": {
          "base_uri": "https://localhost:8080/",
          "height": 89
        },
        "outputId": "a2b61b42-1de3-45e8-df65-98b64cc83950"
      },
      "source": [
        "# 원본 데이터를 유지한 채 차원을 변경한 ndarray 리턴\n",
        "reshape_array = np.reshape(array, (4,6))\n",
        "print(reshape_array)"
      ],
      "execution_count": null,
      "outputs": [
        {
          "output_type": "stream",
          "text": [
            "[[ 0  1  2  3  4  5]\n",
            " [ 6  7  8  9 10 11]\n",
            " [12 13 14 15 16 17]\n",
            " [18 19 20 21 22 23]]\n"
          ],
          "name": "stdout"
        }
      ]
    },
    {
      "cell_type": "markdown",
      "metadata": {
        "id": "W_SGV5s28Y7Z",
        "colab_type": "text"
      },
      "source": [
        "## 연산"
      ]
    },
    {
      "cell_type": "code",
      "metadata": {
        "id": "ik19MEGX8aYN",
        "colab_type": "code",
        "colab": {
          "base_uri": "https://localhost:8080/",
          "height": 125
        },
        "outputId": "98089671-7ecf-4ddd-c794-48b29b6dc86b"
      },
      "source": [
        "a = np.arange(1,10).reshape(3,3)\n",
        "print(a)\n",
        "\n",
        "b = np.arange(9,0,-1).reshape(3,3)\n",
        "print(b)"
      ],
      "execution_count": null,
      "outputs": [
        {
          "output_type": "stream",
          "text": [
            "[[1 2 3]\n",
            " [4 5 6]\n",
            " [7 8 9]]\n",
            "[[9 8 7]\n",
            " [6 5 4]\n",
            " [3 2 1]]\n"
          ],
          "name": "stdout"
        }
      ]
    },
    {
      "cell_type": "code",
      "metadata": {
        "id": "qtM8ySyi8rhN",
        "colab_type": "code",
        "colab": {
          "base_uri": "https://localhost:8080/",
          "height": 125
        },
        "outputId": "c99bf083-0527-4670-f1c6-ca16121a4c26"
      },
      "source": [
        "# a + b, np.add(a,b)\n",
        "print(a+b)\n",
        "print(np.add(a,b))"
      ],
      "execution_count": null,
      "outputs": [
        {
          "output_type": "stream",
          "text": [
            "[[10 10 10]\n",
            " [10 10 10]\n",
            " [10 10 10]]\n",
            "[[10 10 10]\n",
            " [10 10 10]\n",
            " [10 10 10]]\n"
          ],
          "name": "stdout"
        }
      ]
    },
    {
      "cell_type": "code",
      "metadata": {
        "id": "h6FfWsyK9S8O",
        "colab_type": "code",
        "colab": {
          "base_uri": "https://localhost:8080/",
          "height": 125
        },
        "outputId": "b3269e1e-3520-4212-e24f-a744d35a4031"
      },
      "source": [
        "# a-b np.subtract\n",
        "print(a-b)\n",
        "print(np.subtract(a,b))"
      ],
      "execution_count": null,
      "outputs": [
        {
          "output_type": "stream",
          "text": [
            "[[-8 -6 -4]\n",
            " [-2  0  2]\n",
            " [ 4  6  8]]\n",
            "[[-8 -6 -4]\n",
            " [-2  0  2]\n",
            " [ 4  6  8]]\n"
          ],
          "name": "stdout"
        }
      ]
    },
    {
      "cell_type": "code",
      "metadata": {
        "id": "e685fiC2-BtE",
        "colab_type": "code",
        "colab": {
          "base_uri": "https://localhost:8080/",
          "height": 233
        },
        "outputId": "051b01d1-16bc-4ee9-9fc1-297daba66163"
      },
      "source": [
        "print(a)\n",
        "print(b)\n",
        "\n",
        "print(a>b)\n",
        "print(a<b)"
      ],
      "execution_count": null,
      "outputs": [
        {
          "output_type": "stream",
          "text": [
            "[[1 2 3]\n",
            " [4 5 6]\n",
            " [7 8 9]]\n",
            "[[9 8 7]\n",
            " [6 5 4]\n",
            " [3 2 1]]\n",
            "[[False False False]\n",
            " [False False  True]\n",
            " [ True  True  True]]\n",
            "[[ True  True  True]\n",
            " [ True False False]\n",
            " [False False False]]\n"
          ],
          "name": "stdout"
        }
      ]
    },
    {
      "cell_type": "code",
      "metadata": {
        "id": "5a_z_FAn-q9b",
        "colab_type": "code",
        "colab": {
          "base_uri": "https://localhost:8080/",
          "height": 71
        },
        "outputId": "dae27b02-1120-46d7-ffe6-dfb717f62ef9"
      },
      "source": [
        "a = np.arange(1,10).reshape(3,3)\n",
        "b = np.arange(1,10).reshape(3,3)\n",
        "\n",
        "a == b"
      ],
      "execution_count": null,
      "outputs": [
        {
          "output_type": "execute_result",
          "data": {
            "text/plain": [
              "array([[ True,  True,  True],\n",
              "       [ True,  True,  True],\n",
              "       [ True,  True,  True]])"
            ]
          },
          "metadata": {
            "tags": []
          },
          "execution_count": 70
        }
      ]
    },
    {
      "cell_type": "code",
      "metadata": {
        "id": "vtFF045r-9an",
        "colab_type": "code",
        "colab": {
          "base_uri": "https://localhost:8080/",
          "height": 125
        },
        "outputId": "8145ef94-33e1-427e-ead0-16c5fd6a9bbe"
      },
      "source": [
        "# 제곱근 연산\n",
        "a = np.arange(1,10).reshape(3,3)\n",
        "print(a)\n",
        "print(np.sqrt(a))"
      ],
      "execution_count": null,
      "outputs": [
        {
          "output_type": "stream",
          "text": [
            "[[1 2 3]\n",
            " [4 5 6]\n",
            " [7 8 9]]\n",
            "[[1.         1.41421356 1.73205081]\n",
            " [2.         2.23606798 2.44948974]\n",
            " [2.64575131 2.82842712 3.        ]]\n"
          ],
          "name": "stdout"
        }
      ]
    },
    {
      "cell_type": "code",
      "metadata": {
        "id": "voZZlbgR_D1a",
        "colab_type": "code",
        "colab": {
          "base_uri": "https://localhost:8080/",
          "height": 125
        },
        "outputId": "eac8190e-6a8c-4377-9f48-79d3f69d2a7d"
      },
      "source": [
        "print(a)\n",
        "print(np.exp(a))"
      ],
      "execution_count": null,
      "outputs": [
        {
          "output_type": "stream",
          "text": [
            "[[1 2 3]\n",
            " [4 5 6]\n",
            " [7 8 9]]\n",
            "[[2.71828183e+00 7.38905610e+00 2.00855369e+01]\n",
            " [5.45981500e+01 1.48413159e+02 4.03428793e+02]\n",
            " [1.09663316e+03 2.98095799e+03 8.10308393e+03]]\n"
          ],
          "name": "stdout"
        }
      ]
    },
    {
      "cell_type": "markdown",
      "metadata": {
        "id": "8cBmE25G_0ZD",
        "colab_type": "text"
      },
      "source": [
        "## 집계 함수\n",
        "* 축에 따라 결과가 달리짐\n",
        "* 축(axis)"
      ]
    },
    {
      "cell_type": "code",
      "metadata": {
        "id": "iWPT99trC5Oy",
        "colab_type": "code",
        "colab": {
          "base_uri": "https://localhost:8080/",
          "height": 71
        },
        "outputId": "2acb8e8f-e21b-48e3-f255-52e59b62b00b"
      },
      "source": [
        "array = np.arange(1,10).reshape(3,3)\n",
        "print(array)"
      ],
      "execution_count": null,
      "outputs": [
        {
          "output_type": "stream",
          "text": [
            "[[1 2 3]\n",
            " [4 5 6]\n",
            " [7 8 9]]\n"
          ],
          "name": "stdout"
        }
      ]
    },
    {
      "cell_type": "code",
      "metadata": {
        "id": "nVu5YH7x_-43",
        "colab_type": "code",
        "colab": {
          "base_uri": "https://localhost:8080/",
          "height": 107
        },
        "outputId": "709177c2-ddeb-4eb9-ed6e-3d2296dfd9e7"
      },
      "source": [
        "# axis = None(dfault)\n",
        "\n",
        "print(array.sum()) # 합\n",
        "print(array.mean()) # 평균\n",
        "print(array.max()) # 최대값\n",
        "print(array.min()) # 최소값\n",
        "print(np.median(array)) # 중앙값"
      ],
      "execution_count": null,
      "outputs": [
        {
          "output_type": "stream",
          "text": [
            "45\n",
            "5.0\n",
            "9\n",
            "1\n",
            "5.0\n"
          ],
          "name": "stdout"
        }
      ]
    },
    {
      "cell_type": "code",
      "metadata": {
        "id": "Xixp14DPCunS",
        "colab_type": "code",
        "colab": {
          "base_uri": "https://localhost:8080/",
          "height": 107
        },
        "outputId": "56c15aa8-cced-4316-e4d8-0efc4fd0fabf"
      },
      "source": [
        "# axis = 0 각 열에 대해 계산\n",
        "print(array.sum(axis=0)) # 합\n",
        "print(array.mean(axis=0)) # 평균\n",
        "print(array.max(axis=0)) # 최대값\n",
        "print(array.min(axis=0)) # 최소값\n",
        "print(np.median(array, axis=0)) # 중앙값"
      ],
      "execution_count": null,
      "outputs": [
        {
          "output_type": "stream",
          "text": [
            "[12 15 18]\n",
            "[4. 5. 6.]\n",
            "[7 8 9]\n",
            "[1 2 3]\n",
            "[4. 5. 6.]\n"
          ],
          "name": "stdout"
        }
      ]
    },
    {
      "cell_type": "code",
      "metadata": {
        "id": "3wzTGHnKC0z9",
        "colab_type": "code",
        "colab": {
          "base_uri": "https://localhost:8080/",
          "height": 107
        },
        "outputId": "db172ef0-608a-4ec6-e816-4e510e343ca4"
      },
      "source": [
        "# axis = 1 각 행에 대해 계산\n",
        "print(array.sum(axis=1)) # 합\n",
        "print(array.mean(axis=1)) # 평균\n",
        "print(array.max(axis=1)) # 최대값\n",
        "print(array.min(axis=1)) # 최소값\n",
        "print(np.median(array, axis=1)) # 중앙값"
      ],
      "execution_count": null,
      "outputs": [
        {
          "output_type": "stream",
          "text": [
            "[ 6 15 24]\n",
            "[2. 5. 8.]\n",
            "[3 6 9]\n",
            "[1 4 7]\n",
            "[2. 5. 8.]\n"
          ],
          "name": "stdout"
        }
      ]
    },
    {
      "cell_type": "markdown",
      "metadata": {
        "id": "qZdWA4nhDkGt",
        "colab_type": "text"
      },
      "source": [
        "## 인덱싱"
      ]
    },
    {
      "cell_type": "code",
      "metadata": {
        "id": "309MqxjJDfQd",
        "colab_type": "code",
        "colab": {
          "base_uri": "https://localhost:8080/",
          "height": 35
        },
        "outputId": "8720a267-7337-489f-dda9-43d4c15dcd74"
      },
      "source": [
        "array = np.arange(16)\n",
        "print(array)"
      ],
      "execution_count": null,
      "outputs": [
        {
          "output_type": "stream",
          "text": [
            "[ 0  1  2  3  4  5  6  7  8  9 10 11 12 13 14 15]\n"
          ],
          "name": "stdout"
        }
      ]
    },
    {
      "cell_type": "code",
      "metadata": {
        "id": "IUin--pgDi4K",
        "colab_type": "code",
        "colab": {
          "base_uri": "https://localhost:8080/",
          "height": 179
        },
        "outputId": "0c736ddb-87b8-4e25-da98-5703e286d535"
      },
      "source": [
        "array = np.arange(16).reshape((4,4))\n",
        "print(array)\n",
        "print(array[2,3])\n",
        "\n",
        "array[2,3] = 777\n",
        "print(array)"
      ],
      "execution_count": null,
      "outputs": [
        {
          "output_type": "stream",
          "text": [
            "[[ 0  1  2  3]\n",
            " [ 4  5  6  7]\n",
            " [ 8  9 10 11]\n",
            " [12 13 14 15]]\n",
            "11\n",
            "[[  0   1   2   3]\n",
            " [  4   5   6   7]\n",
            " [  8   9  10 777]\n",
            " [ 12  13  14  15]]\n"
          ],
          "name": "stdout"
        }
      ]
    },
    {
      "cell_type": "code",
      "metadata": {
        "id": "Xcb8fNiKD19S",
        "colab_type": "code",
        "colab": {
          "base_uri": "https://localhost:8080/",
          "height": 215
        },
        "outputId": "ddac5330-a722-4636-abc7-644b714ed1a5"
      },
      "source": [
        "array = np.arange(16).reshape((2,2,4))\n",
        "print(array)\n",
        "\n",
        "print(array[1,1,2])\n",
        "\n",
        "array[1,1,2] = 777\n",
        "print(array)"
      ],
      "execution_count": null,
      "outputs": [
        {
          "output_type": "stream",
          "text": [
            "[[[ 0  1  2  3]\n",
            "  [ 4  5  6  7]]\n",
            "\n",
            " [[ 8  9 10 11]\n",
            "  [12 13 14 15]]]\n",
            "14\n",
            "[[[  0   1   2   3]\n",
            "  [  4   5   6   7]]\n",
            "\n",
            " [[  8   9  10  11]\n",
            "  [ 12  13 777  15]]]\n"
          ],
          "name": "stdout"
        }
      ]
    },
    {
      "cell_type": "code",
      "metadata": {
        "id": "B1VwGk7bGEJq",
        "colab_type": "code",
        "colab": {
          "base_uri": "https://localhost:8080/",
          "height": 143
        },
        "outputId": "a2a469a8-685d-4d05-9fef-e1b4265e1dc9"
      },
      "source": [
        "array = np.arange(1,11)\n",
        "print(array)\n",
        "\n",
        "print(array[2:5]) # 2에서 4 까지\n",
        "print(array[:5]) # 4까지\n",
        "print(array[7:]) # 7 뒤로 전체\n",
        "print(array[2:-1]) # 2 에서 마지막 하나 앞까지\n",
        "print(array[:]) # 전체 리스트\n",
        "array[2:5] = 77\n",
        "print(array)"
      ],
      "execution_count": null,
      "outputs": [
        {
          "output_type": "stream",
          "text": [
            "[ 1  2  3  4  5  6  7  8  9 10]\n",
            "[3 4 5]\n",
            "[1 2 3 4 5]\n",
            "[ 8  9 10]\n",
            "[3 4 5 6 7 8 9]\n",
            "[ 1  2  3  4  5  6  7  8  9 10]\n",
            "[ 1  2 77 77 77  6  7  8  9 10]\n"
          ],
          "name": "stdout"
        }
      ]
    },
    {
      "cell_type": "code",
      "metadata": {
        "id": "sdAyY_aTIFTi",
        "colab_type": "code",
        "colab": {
          "base_uri": "https://localhost:8080/",
          "height": 53
        },
        "outputId": "45017b40-c6d4-415c-a726-85a879649875"
      },
      "source": [
        "array = np.arange(1,17).reshape(4,4)\n",
        "array[1:3,1:3]"
      ],
      "execution_count": null,
      "outputs": [
        {
          "output_type": "execute_result",
          "data": {
            "text/plain": [
              "array([[ 6,  7],\n",
              "       [10, 11]])"
            ]
          },
          "metadata": {
            "tags": []
          },
          "execution_count": 101
        }
      ]
    },
    {
      "cell_type": "code",
      "metadata": {
        "id": "6XYYCgc1IwLo",
        "colab_type": "code",
        "colab": {
          "base_uri": "https://localhost:8080/",
          "height": 35
        },
        "outputId": "55690ddb-f863-440a-ce5f-05cca89cf366"
      },
      "source": [
        "array[0,2:]"
      ],
      "execution_count": null,
      "outputs": [
        {
          "output_type": "execute_result",
          "data": {
            "text/plain": [
              "array([3, 4])"
            ]
          },
          "metadata": {
            "tags": []
          },
          "execution_count": 103
        }
      ]
    },
    {
      "cell_type": "code",
      "metadata": {
        "id": "7AgbdUvHJVNj",
        "colab_type": "code",
        "colab": {
          "base_uri": "https://localhost:8080/",
          "height": 35
        },
        "outputId": "fddfc2c7-1794-4648-9c4c-8bfbe174c5fd"
      },
      "source": [
        "array[:,2]"
      ],
      "execution_count": null,
      "outputs": [
        {
          "output_type": "execute_result",
          "data": {
            "text/plain": [
              "array([ 3,  7, 11, 15])"
            ]
          },
          "metadata": {
            "tags": []
          },
          "execution_count": 105
        }
      ]
    },
    {
      "cell_type": "markdown",
      "metadata": {
        "id": "eir2tWQVKnpL",
        "colab_type": "text"
      },
      "source": [
        "## 데이터 생성"
      ]
    },
    {
      "cell_type": "code",
      "metadata": {
        "id": "c89Mzj1aKmhz",
        "colab_type": "code",
        "colab": {
          "base_uri": "https://localhost:8080/",
          "height": 89
        },
        "outputId": "21766460-0ac0-4d4c-d679-4563a8a982ee"
      },
      "source": [
        "np.linspace(0,10,5)\n",
        "print(array)"
      ],
      "execution_count": null,
      "outputs": [
        {
          "output_type": "stream",
          "text": [
            "[[ 1  2  3  4]\n",
            " [ 5  6  7  8]\n",
            " [ 9 10 11 12]\n",
            " [13 14 15 16]]\n"
          ],
          "name": "stdout"
        }
      ]
    },
    {
      "cell_type": "code",
      "metadata": {
        "id": "gs-6qcNaK8jR",
        "colab_type": "code",
        "colab": {
          "base_uri": "https://localhost:8080/",
          "height": 89
        },
        "outputId": "779d1a39-29f3-453b-b1df-f7568677d71a"
      },
      "source": [
        "array = np.arange(1,5,0.1)\n",
        "array"
      ],
      "execution_count": null,
      "outputs": [
        {
          "output_type": "execute_result",
          "data": {
            "text/plain": [
              "array([1. , 1.1, 1.2, 1.3, 1.4, 1.5, 1.6, 1.7, 1.8, 1.9, 2. , 2.1, 2.2,\n",
              "       2.3, 2.4, 2.5, 2.6, 2.7, 2.8, 2.9, 3. , 3.1, 3.2, 3.3, 3.4, 3.5,\n",
              "       3.6, 3.7, 3.8, 3.9, 4. , 4.1, 4.2, 4.3, 4.4, 4.5, 4.6, 4.7, 4.8,\n",
              "       4.9])"
            ]
          },
          "metadata": {
            "tags": []
          },
          "execution_count": 110
        }
      ]
    },
    {
      "cell_type": "code",
      "metadata": {
        "id": "-kR6YGknL_nu",
        "colab_type": "code",
        "colab": {
          "base_uri": "https://localhost:8080/",
          "height": 71
        },
        "outputId": "91baf580-125e-466e-d714-c235ebf6f1b2"
      },
      "source": [
        "array = np.random.rand(3,4)\n",
        "print(array)"
      ],
      "execution_count": null,
      "outputs": [
        {
          "output_type": "stream",
          "text": [
            "[[0.79173697 0.26793577 0.94520921 0.73104216]\n",
            " [0.8795981  0.66910293 0.06786602 0.35097537]\n",
            " [0.53151408 0.25363828 0.54910335 0.31267417]]\n"
          ],
          "name": "stdout"
        }
      ]
    },
    {
      "cell_type": "code",
      "metadata": {
        "id": "I193ow8RMSIq",
        "colab_type": "code",
        "colab": {
          "base_uri": "https://localhost:8080/",
          "height": 35
        },
        "outputId": "024bd4f8-c491-4260-b6f9-fe646c367d82"
      },
      "source": [
        "# 표준편차 1, 평균 0에 가까운 정규분포를 갖는 랜덤 값 생성\n",
        "array = np.random.randn(1000)\n",
        "print(array.mean())"
      ],
      "execution_count": null,
      "outputs": [
        {
          "output_type": "stream",
          "text": [
            "-0.019033330635077093\n"
          ],
          "name": "stdout"
        }
      ]
    },
    {
      "cell_type": "code",
      "metadata": {
        "id": "LZwU7tf9M4Uh",
        "colab_type": "code",
        "colab": {
          "base_uri": "https://localhost:8080/",
          "height": 107
        },
        "outputId": "5409bd3f-3eeb-481d-f478-f51cd0c94a76"
      },
      "source": [
        "# np.random.randint(low,high,shape)\n",
        "array = np.random.randint(0,2,10)\n",
        "print(array)\n",
        "\n",
        "array = np.random.randint(1,5,(4,4))\n",
        "print(array)"
      ],
      "execution_count": null,
      "outputs": [
        {
          "output_type": "stream",
          "text": [
            "[0 0 1 1 1 1 1 1 1 1]\n",
            "[[2 3 1 4]\n",
            " [1 1 3 2]\n",
            " [3 2 3 3]\n",
            " [3 4 1 1]]\n"
          ],
          "name": "stdout"
        }
      ]
    }
  ]
}