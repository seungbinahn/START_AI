{
  "nbformat": 4,
  "nbformat_minor": 0,
  "metadata": {
    "colab": {
      "name": "06_1_딥러닝 개요.ipynb",
      "provenance": [],
      "collapsed_sections": [],
      "toc_visible": true,
      "authorship_tag": "ABX9TyPoxWMV1qjml4WJ9xSRiTs9",
      "include_colab_link": true
    },
    "kernelspec": {
      "name": "python3",
      "display_name": "Python 3"
    }
  },
  "cells": [
    {
      "cell_type": "markdown",
      "metadata": {
        "id": "view-in-github",
        "colab_type": "text"
      },
      "source": [
        "<a href=\"https://colab.research.google.com/github/seungbinahn/START_AI/blob/master/02_Machine_Learning%E2%80%8E/06_1_%EB%94%A5%EB%9F%AC%EB%8B%9D_%EA%B0%9C%EC%9A%94.ipynb\" target=\"_parent\"><img src=\"https://colab.research.google.com/assets/colab-badge.svg\" alt=\"Open In Colab\"/></a>"
      ]
    },
    {
      "cell_type": "markdown",
      "metadata": {
        "id": "7rUJYR_X0MeU",
        "colab_type": "text"
      },
      "source": [
        "# 딥러닝 개요"
      ]
    },
    {
      "cell_type": "markdown",
      "metadata": {
        "id": "IbmHDEGN0Oyh",
        "colab_type": "text"
      },
      "source": [
        "## 기울기 소실\n",
        "* 0~1사이의 실수를 계속 곱하면 결국 0에 수렴함\n",
        "* 딥러닝의 깊이기 갚이지면 이러한 현상이 발생\n",
        "* 해결책 Relu Function, Batch Normalization"
      ]
    },
    {
      "cell_type": "markdown",
      "metadata": {
        "id": "bc7CYEQ_3l40",
        "colab_type": "text"
      },
      "source": [
        "## 딥러닝 vs 머신러닝\n",
        "* 머신러닝 : 데이터 -> Feature Engineering(엄청난 시간 소요) -> 머신러닝 알고리즘 -> 결과\n",
        "* 딥러닝 : 데이터 -> 딥러닝 알고리즘 -> 결과"
      ]
    },
    {
      "cell_type": "markdown",
      "metadata": {
        "id": "DQQJkAWf7_rL",
        "colab_type": "text"
      },
      "source": [
        "## 인공신경망(Artificial Neural Network)\n",
        "1. 문제 -> 문제 구성 -> 모델 학습 -> 문제 해결\n",
        "2. 뉴런(Perceptron)\n",
        "- 인공 신경망의 기본 구성 요소\n",
        "- 다수의 입력신호(input)를 받아서 하나의 신호(output)를 출력\n",
        "\n",
        "* 가중치[W] : 입력 신호가 결과에 주는 영향력(중요도)을 조절하는 인수\n",
        "* 편향[b] : 퍼셉트론이 얼마나 쉽게 활성화 하느냐를 조정하는 변수\n",
        "* 활성화 함수[f(x)] : 입력 신호의 총합을 확인해 출력 신호를 결정하는 함수"
      ]
    },
    {
      "cell_type": "markdown",
      "metadata": {
        "id": "Mce2A6Tp-_m7",
        "colab_type": "text"
      },
      "source": [
        "편향 : 하나의 퍼셉트론 마다 존재"
      ]
    },
    {
      "cell_type": "markdown",
      "metadata": {
        "id": "-YI0KAcxBUEb",
        "colab_type": "text"
      },
      "source": [
        "## 출력층\n",
        "1. 회귀 분석 : 활성화 함수로 항등함수 사용\n",
        "2. 분류 분석 \n",
        "* 활성화 함수로 소프트맥스 함수(확률 분포로 변경-연산 多) 사용\n",
        "* 분류하고자 하는 카테고리 개수 만큼 Output layer에 퍼셉트론 배치"
      ]
    },
    {
      "cell_type": "markdown",
      "metadata": {
        "id": "h9xgsJXnDsyV",
        "colab_type": "text"
      },
      "source": [
        "## 깊은 층(Deep Layer)\n",
        "* 층을 깊게 할 수록 더 복잡한 문제에 대해서 대응 가능\n",
        "* 이전층에서 학습한 특징을 조합하여 더 높은 차원의 문제에 대응"
      ]
    },
    {
      "cell_type": "markdown",
      "metadata": {
        "id": "V1wZhzrsEo7a",
        "colab_type": "text"
      },
      "source": [
        "## 비선형성(Non-Linearity)\n",
        "* 선형 함수(y = ax+b)는 여러변 연산(결합) 해도 선형성을 갖음\n",
        "* 비선형성을 추가하면 여러번(결합)시 더 복잡한 문제를 해결\n",
        "* 활성함수(Activation function)\n",
        "선형함수의 결과에 활성홤수를 이용하여 비선형성을 확보\n",
        "ex ) Step function, Sigmoid, Relu, Than, 등"
      ]
    },
    {
      "cell_type": "markdown",
      "metadata": {
        "id": "YwqN0AoaE9nR",
        "colab_type": "text"
      },
      "source": [
        "## 최적화(Optimization)\n",
        "* 문제를 풀기 위한 최적의 가중치를 찾아가는 과정\n",
        "* 사람이 지식을 습득하는 과정과 유사해 학습(Learning)이라고 함"
      ]
    },
    {
      "cell_type": "markdown",
      "metadata": {
        "id": "fYYk0H6gFha9",
        "colab_type": "text"
      },
      "source": [
        "### 손실 함수(Loss Function)\n",
        "* 딥러닝 모델 학습 시 학습의 지표가 되는 함수\n",
        "* 모델의 추론 결과와 실제 정답간의 차이를 의미\n",
        "* 목적함수(Objective Function), 비용함수(Cost Function)이라고 부름"
      ]
    },
    {
      "cell_type": "markdown",
      "metadata": {
        "id": "cZOueUFqFvnb",
        "colab_type": "text"
      },
      "source": [
        "### 오차역전파법(Backpropagation)\n",
        "* 가중치 값의 변화에 따른 오차(Error, 손실함수의 값) 변화량 간의 관계를 기울기 형태로 계산"
      ]
    },
    {
      "cell_type": "markdown",
      "metadata": {
        "id": "U0b4X1jMG52Z",
        "colab_type": "text"
      },
      "source": [
        "# 퍼셉트론"
      ]
    },
    {
      "cell_type": "markdown",
      "metadata": {
        "id": "m97KGcuVKwYM",
        "colab_type": "text"
      },
      "source": [
        "## AND 게이트"
      ]
    },
    {
      "cell_type": "code",
      "metadata": {
        "id": "8LIz_whNG4nr",
        "colab_type": "code",
        "colab": {}
      },
      "source": [
        "import numpy as np\n",
        "\n",
        "# AND 게이트 구현\n",
        "def AND(x1, x2):\n",
        "  x = np.array([x1,x2]) # 입력 신호\n",
        "  w = np.array([0.5,0.5]) # 가중치\n",
        "  b = -0.7 # 임계 값\n",
        "  tmp = np.sum(w*x) + b \n",
        "  if tmp <=0: return 0\n",
        "  else: return 1"
      ],
      "execution_count": 1,
      "outputs": []
    },
    {
      "cell_type": "code",
      "metadata": {
        "id": "vYUvaC5wJIoV",
        "colab_type": "code",
        "colab": {
          "base_uri": "https://localhost:8080/",
          "height": 89
        },
        "outputId": "235030f6-569d-4ee8-f473-2dab15eb9028"
      },
      "source": [
        "print(AND(0,0))\n",
        "print(AND(1,0))\n",
        "print(AND(0,1))\n",
        "print(AND(1,1))"
      ],
      "execution_count": 2,
      "outputs": [
        {
          "output_type": "stream",
          "text": [
            "0\n",
            "0\n",
            "0\n",
            "1\n"
          ],
          "name": "stdout"
        }
      ]
    },
    {
      "cell_type": "markdown",
      "metadata": {
        "id": "y73-SAP4LOCQ",
        "colab_type": "text"
      },
      "source": [
        "## OR 게이트"
      ]
    },
    {
      "cell_type": "code",
      "metadata": {
        "id": "PvNw3gXkJwUK",
        "colab_type": "code",
        "colab": {}
      },
      "source": [
        "import numpy as np\n",
        "\n",
        "# OR 게이트 구현\n",
        "def OR(x1, x2):\n",
        "  x = np.array([x1,x2]) # 입력 신호\n",
        "  w = np.array([0.5,0.5]) # 가중치\n",
        "  b = -0.4 # 임계 값\n",
        "  tmp = np.sum(w*x) + b \n",
        "  if tmp <=0: return 0\n",
        "  else: return 1"
      ],
      "execution_count": 3,
      "outputs": []
    },
    {
      "cell_type": "code",
      "metadata": {
        "id": "z47L33BwLSmi",
        "colab_type": "code",
        "colab": {
          "base_uri": "https://localhost:8080/",
          "height": 89
        },
        "outputId": "8f30eb81-6387-4785-c64f-3f982ace201a"
      },
      "source": [
        "print(OR(0,0))\n",
        "print(OR(1,0))\n",
        "print(OR(0,1))\n",
        "print(OR(1,1))"
      ],
      "execution_count": 4,
      "outputs": [
        {
          "output_type": "stream",
          "text": [
            "0\n",
            "1\n",
            "1\n",
            "1\n"
          ],
          "name": "stdout"
        }
      ]
    },
    {
      "cell_type": "markdown",
      "metadata": {
        "id": "iZR3rRvpMEXE",
        "colab_type": "text"
      },
      "source": [
        "## NAND 게이트"
      ]
    },
    {
      "cell_type": "code",
      "metadata": {
        "id": "gPyTbDzGLZPG",
        "colab_type": "code",
        "colab": {}
      },
      "source": [
        "import numpy as np\n",
        "\n",
        "# NAND 게이트 구현\n",
        "def NAND(x1, x2):\n",
        "  x = np.array([x1,x2]) # 입력 신호\n",
        "  w = np.array([-0.5,-0.5]) # 가중치\n",
        "  b = 0.7 # 임계 값\n",
        "  tmp = np.sum(w*x) + b \n",
        "  if tmp <=0: return 0\n",
        "  else: return 1"
      ],
      "execution_count": 5,
      "outputs": []
    },
    {
      "cell_type": "code",
      "metadata": {
        "id": "jyaf0d3HMIjp",
        "colab_type": "code",
        "colab": {
          "base_uri": "https://localhost:8080/",
          "height": 89
        },
        "outputId": "f98e19f4-01ea-43e6-c3da-319092a3a2a5"
      },
      "source": [
        "print(NAND(0,0))\n",
        "print(NAND(1,0))\n",
        "print(NAND(0,1))\n",
        "print(NAND(1,1))"
      ],
      "execution_count": 6,
      "outputs": [
        {
          "output_type": "stream",
          "text": [
            "1\n",
            "1\n",
            "1\n",
            "0\n"
          ],
          "name": "stdout"
        }
      ]
    },
    {
      "cell_type": "markdown",
      "metadata": {
        "id": "fbX9OyFLNSzo",
        "colab_type": "text"
      },
      "source": [
        "## XOR 게이트\n",
        "* 단일 퍼셉트론으로는 XOR 게이트 문제를 해결할 수 없음\n",
        "* 따라서 층을 누적한 다층 퍼셉트론 적용\n",
        "* (x nand y) and (x or y)"
      ]
    },
    {
      "cell_type": "code",
      "metadata": {
        "id": "uImVBBkyMP9n",
        "colab_type": "code",
        "colab": {}
      },
      "source": [
        "import numpy as np\n",
        "\n",
        "# XOR 게이트 구현\n",
        "def XOR(x1, x2):\n",
        "  s1 = NAND(x1,x2)\n",
        "  s2 = OR(x1,x2)\n",
        "  y = AND(s1,s2)\n",
        "  \n",
        "  return y"
      ],
      "execution_count": 7,
      "outputs": []
    },
    {
      "cell_type": "code",
      "metadata": {
        "id": "4SjIBi74OblE",
        "colab_type": "code",
        "colab": {
          "base_uri": "https://localhost:8080/",
          "height": 89
        },
        "outputId": "f8a8b6ed-9f54-4a78-8a57-afad08201f47"
      },
      "source": [
        "print(XOR(0,0))\n",
        "print(XOR(1,0))\n",
        "print(XOR(0,1))\n",
        "print(XOR(1,1))"
      ],
      "execution_count": 8,
      "outputs": [
        {
          "output_type": "stream",
          "text": [
            "0\n",
            "1\n",
            "1\n",
            "0\n"
          ],
          "name": "stdout"
        }
      ]
    },
    {
      "cell_type": "markdown",
      "metadata": {
        "id": "h04cNrumQh7K",
        "colab_type": "text"
      },
      "source": [
        "* 퍼셉트론은 입력(x), 출력(y)를 가진 알고리즘\n",
        "* 가중치(w), 편향(y)을 매개변수로 설정 \n",
        "* 퍼셉트론을 통해 기본적인 논리 Gate 표현 가능\n",
        "* XOR 게이트는 단일 퍼셉트론으로 표현 불가\n",
        "* 2층 퍼셉트론으로 XOR GATE 표현 가능\n",
        "* Single Perceptron은 직선 영역만 표현 가능\n",
        "* Multi-Layer Perceptron은 비선형 영역도 표현 가능\n",
        "* Multi-Layer Perceptron은 이론상 CPU도 표현 가능"
      ]
    }
  ]
}