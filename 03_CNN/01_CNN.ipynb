{
  "nbformat": 4,
  "nbformat_minor": 0,
  "metadata": {
    "colab": {
      "name": "01_CNN",
      "provenance": [],
      "collapsed_sections": [],
      "toc_visible": true,
      "authorship_tag": "ABX9TyNfzgnjku77xvBgRaBHEwaH",
      "include_colab_link": true
    },
    "kernelspec": {
      "name": "python3",
      "display_name": "Python 3"
    },
    "accelerator": "GPU"
  },
  "cells": [
    {
      "cell_type": "markdown",
      "metadata": {
        "id": "view-in-github",
        "colab_type": "text"
      },
      "source": [
        "<a href=\"https://colab.research.google.com/github/seungbinahn/START_AI/blob/master/03_CNN/01_CNN.ipynb\" target=\"_parent\"><img src=\"https://colab.research.google.com/assets/colab-badge.svg\" alt=\"Open In Colab\"/></a>"
      ]
    },
    {
      "cell_type": "markdown",
      "metadata": {
        "id": "C4KSZuvy-eIz",
        "colab_type": "text"
      },
      "source": [
        "# CNN\n",
        "* 이미지 처리에 적합한 딥러닝 기술\n",
        "* DNN에 Convolution 기능을 추가하여 영상을 처리함\n",
        "\n"
      ]
    },
    {
      "cell_type": "markdown",
      "metadata": {
        "id": "DIRQV24c4Emp",
        "colab_type": "text"
      },
      "source": [
        "## DNN과 영상처리\n",
        "* 딥러닝에서 영상을 처리하려면 Flatten을 통해 1차원으로 영상을 1차원을 변환\n",
        "* 이에 따라 영상의 특성이 사라짐\n",
        "* 이로인해 훈련 데이터에서만 잘 동작하게 되는 overfiting 발생\n"
      ]
    },
    {
      "cell_type": "markdown",
      "metadata": {
        "id": "H4rkU9lw4Ppn",
        "colab_type": "text"
      },
      "source": [
        "## CNN\n",
        "* 반면 CNN은 수직선, 대각선, 수평선의 성질을 컨볼루션을 통해 특성을 식별\n",
        "* 이는 필터(커널)을 사용하여 특성을 탐색함\n",
        "* 활성함수는 RELU 사용\n",
        "* RELU = wx+b "
      ]
    },
    {
      "cell_type": "markdown",
      "metadata": {
        "id": "A_7xrfZN6bBw",
        "colab_type": "text"
      },
      "source": [
        "## CNN 과정\n",
        "1. Conv2D : 특성 추출\n",
        "2. Max pooling : 압축\n",
        "3. 1~2 n번 수행\n",
        "4. Flatten\n",
        "5. DNN"
      ]
    },
    {
      "cell_type": "markdown",
      "metadata": {
        "id": "yO85VOYz1IVE",
        "colab_type": "text"
      },
      "source": [
        "## Zero padding\n",
        "* 필터링 연산을 수행하면 행렬의 크기가 작아짐\n",
        "* 이를 방지하기 위해 주변에 0으로 패딩을 채워놓고 연산을 수행하여 행렬의 크기를 유지함"
      ]
    },
    {
      "cell_type": "markdown",
      "metadata": {
        "id": "s11KrvgY7G27",
        "colab_type": "text"
      },
      "source": [
        "## Pooling\n",
        "* Feature Map에서 차원을 축소\n",
        "* 고해상도 이미지를 저해상도로 바꾸는 작업과 유사\n",
        "* Max, Average Pooling이 일반적으로 사용 됨\n"
      ]
    },
    {
      "cell_type": "markdown",
      "metadata": {
        "id": "Jk1X22TO-awq",
        "colab_type": "text"
      },
      "source": [
        "# MNIST 데이터셋 분류"
      ]
    },
    {
      "cell_type": "markdown",
      "metadata": {
        "id": "qjhef0TS_MMT",
        "colab_type": "text"
      },
      "source": [
        "## 1. GPU 설정 확인"
      ]
    },
    {
      "cell_type": "code",
      "metadata": {
        "id": "CJhW6Zuf07cj",
        "colab_type": "code",
        "colab": {
          "base_uri": "https://localhost:8080/",
          "height": 377
        },
        "outputId": "fbde0fc3-244c-42cc-8fdc-01052b7658db"
      },
      "source": [
        "!nvidia-smi"
      ],
      "execution_count": null,
      "outputs": [
        {
          "output_type": "stream",
          "text": [
            "Mon Aug  3 07:32:35 2020       \n",
            "+-----------------------------------------------------------------------------+\n",
            "| NVIDIA-SMI 450.57       Driver Version: 418.67       CUDA Version: 10.1     |\n",
            "|-------------------------------+----------------------+----------------------+\n",
            "| GPU  Name        Persistence-M| Bus-Id        Disp.A | Volatile Uncorr. ECC |\n",
            "| Fan  Temp  Perf  Pwr:Usage/Cap|         Memory-Usage | GPU-Util  Compute M. |\n",
            "|                               |                      |               MIG M. |\n",
            "|===============================+======================+======================|\n",
            "|   0  Tesla K80           Off  | 00000000:00:04.0 Off |                    0 |\n",
            "| N/A   47C    P0    59W / 149W |   1157MiB / 11441MiB |      0%      Default |\n",
            "|                               |                      |                 ERR! |\n",
            "+-------------------------------+----------------------+----------------------+\n",
            "                                                                               \n",
            "+-----------------------------------------------------------------------------+\n",
            "| Processes:                                                                  |\n",
            "|  GPU   GI   CI        PID   Type   Process name                  GPU Memory |\n",
            "|        ID   ID                                                   Usage      |\n",
            "|=============================================================================|\n",
            "|  No running processes found                                                 |\n",
            "+-----------------------------------------------------------------------------+\n"
          ],
          "name": "stdout"
        }
      ]
    },
    {
      "cell_type": "code",
      "metadata": {
        "id": "cp4ChJqg_KeA",
        "colab_type": "code",
        "colab": {
          "base_uri": "https://localhost:8080/",
          "height": 197
        },
        "outputId": "08bfa11f-ad59-405d-98a5-97fe2214bbc2"
      },
      "source": [
        "!df -h"
      ],
      "execution_count": null,
      "outputs": [
        {
          "output_type": "stream",
          "text": [
            "Filesystem      Size  Used Avail Use% Mounted on\n",
            "overlay          69G   32G   34G  49% /\n",
            "tmpfs            64M     0   64M   0% /dev\n",
            "tmpfs           6.4G     0  6.4G   0% /sys/fs/cgroup\n",
            "shm             5.8G     0  5.8G   0% /dev/shm\n",
            "/dev/sda1        75G   33G   43G  44% /opt/bin\n",
            "tmpfs           6.4G   16K  6.4G   1% /var/colab\n",
            "tmpfs           6.4G     0  6.4G   0% /proc/acpi\n",
            "tmpfs           6.4G     0  6.4G   0% /proc/scsi\n",
            "tmpfs           6.4G     0  6.4G   0% /sys/firmware\n"
          ],
          "name": "stdout"
        }
      ]
    },
    {
      "cell_type": "code",
      "metadata": {
        "id": "EmYdt2d__gHE",
        "colab_type": "code",
        "colab": {
          "base_uri": "https://localhost:8080/",
          "height": 863
        },
        "outputId": "76f647de-5240-4c3e-e8d3-7deeffff5fd8"
      },
      "source": [
        "!cat /proc/meminfo"
      ],
      "execution_count": null,
      "outputs": [
        {
          "output_type": "stream",
          "text": [
            "MemTotal:       13333556 kB\n",
            "MemFree:         8928944 kB\n",
            "MemAvailable:   11874200 kB\n",
            "Buffers:           79696 kB\n",
            "Cached:          2685228 kB\n",
            "SwapCached:            0 kB\n",
            "Active:          1281284 kB\n",
            "Inactive:        2760972 kB\n",
            "Active(anon):     919248 kB\n",
            "Inactive(anon):     2388 kB\n",
            "Active(file):     362036 kB\n",
            "Inactive(file):  2758584 kB\n",
            "Unevictable:           0 kB\n",
            "Mlocked:               0 kB\n",
            "SwapTotal:             0 kB\n",
            "SwapFree:              0 kB\n",
            "Dirty:                84 kB\n",
            "Writeback:             0 kB\n",
            "AnonPages:       1277348 kB\n",
            "Mapped:           589360 kB\n",
            "Shmem:              3012 kB\n",
            "Slab:             176556 kB\n",
            "SReclaimable:     131056 kB\n",
            "SUnreclaim:        45500 kB\n",
            "KernelStack:        3876 kB\n",
            "PageTables:         9320 kB\n",
            "NFS_Unstable:          0 kB\n",
            "Bounce:                0 kB\n",
            "WritebackTmp:          0 kB\n",
            "CommitLimit:     6666776 kB\n",
            "Committed_AS:    3549896 kB\n",
            "VmallocTotal:   34359738367 kB\n",
            "VmallocUsed:           0 kB\n",
            "VmallocChunk:          0 kB\n",
            "Percpu:              944 kB\n",
            "AnonHugePages:    323584 kB\n",
            "ShmemHugePages:        0 kB\n",
            "ShmemPmdMapped:        0 kB\n",
            "HugePages_Total:       0\n",
            "HugePages_Free:        0\n",
            "HugePages_Rsvd:        0\n",
            "HugePages_Surp:        0\n",
            "Hugepagesize:       2048 kB\n",
            "Hugetlb:               0 kB\n",
            "DirectMap4k:      158908 kB\n",
            "DirectMap2M:     7180288 kB\n",
            "DirectMap1G:     8388608 kB\n"
          ],
          "name": "stdout"
        }
      ]
    },
    {
      "cell_type": "markdown",
      "metadata": {
        "id": "UND4A3TOAjs6",
        "colab_type": "text"
      },
      "source": [
        "## 2. MNIST 데이터 다운로드"
      ]
    },
    {
      "cell_type": "code",
      "metadata": {
        "id": "oU3bA1c3_omd",
        "colab_type": "code",
        "colab": {}
      },
      "source": [
        "import matplotlib.pyplot as plt\n",
        "from tensorflow.keras.datasets import mnist"
      ],
      "execution_count": null,
      "outputs": []
    },
    {
      "cell_type": "code",
      "metadata": {
        "id": "tiA2auDGAACD",
        "colab_type": "code",
        "colab": {}
      },
      "source": [
        "(train_images, train_labels), (test_images, test_labels) = mnist.load_data()"
      ],
      "execution_count": null,
      "outputs": []
    },
    {
      "cell_type": "code",
      "metadata": {
        "id": "MujPgC9YAFsf",
        "colab_type": "code",
        "colab": {
          "base_uri": "https://localhost:8080/",
          "height": 53
        },
        "outputId": "8d71c680-6323-461b-dd10-c127920dc379"
      },
      "source": [
        "print(train_images.shape)\n",
        "print(train_labels.shape)"
      ],
      "execution_count": null,
      "outputs": [
        {
          "output_type": "stream",
          "text": [
            "(60000, 28, 28)\n",
            "(60000,)\n"
          ],
          "name": "stdout"
        }
      ]
    },
    {
      "cell_type": "code",
      "metadata": {
        "id": "0YIy6BhvAOkt",
        "colab_type": "code",
        "colab": {
          "base_uri": "https://localhost:8080/",
          "height": 53
        },
        "outputId": "480bbf8f-a9d9-4885-8201-f539cab9fee1"
      },
      "source": [
        "print(test_images.shape)\n",
        "print(test_labels.shape)"
      ],
      "execution_count": null,
      "outputs": [
        {
          "output_type": "stream",
          "text": [
            "(10000, 28, 28)\n",
            "(10000,)\n"
          ],
          "name": "stdout"
        }
      ]
    },
    {
      "cell_type": "code",
      "metadata": {
        "id": "f4ErkLOtBEt1",
        "colab_type": "code",
        "colab": {
          "base_uri": "https://localhost:8080/",
          "height": 35
        },
        "outputId": "e67a246c-5909-463f-cedb-4fa033059ac9"
      },
      "source": [
        "train_labels[0] # 첫번째 트레인 데이터의 레이블"
      ],
      "execution_count": null,
      "outputs": [
        {
          "output_type": "execute_result",
          "data": {
            "text/plain": [
              "5"
            ]
          },
          "metadata": {
            "tags": []
          },
          "execution_count": 68
        }
      ]
    },
    {
      "cell_type": "code",
      "metadata": {
        "id": "SruusOIwBUKf",
        "colab_type": "code",
        "colab": {
          "base_uri": "https://localhost:8080/",
          "height": 265
        },
        "outputId": "33d17758-4518-46fe-bc2f-de34bb5d2e49"
      },
      "source": [
        "plt.figure()\n",
        "plt.imshow(train_images[0])\n",
        "plt.grid(False)\n",
        "plt.show()"
      ],
      "execution_count": null,
      "outputs": [
        {
          "output_type": "display_data",
          "data": {
            "image/png": "[encoded data removed]",
            "text/plain": [
              "<Figure size 432x288 with 1 Axes>"
            ]
          },
          "metadata": {
            "tags": [],
            "needs_background": "light"
          }
        }
      ]
    },
    {
      "cell_type": "code",
      "metadata": {
        "id": "-p2vH9CmBfLF",
        "colab_type": "code",
        "colab": {
          "base_uri": "https://localhost:8080/",
          "height": 35
        },
        "outputId": "23a9561f-9dc6-45ca-c2a2-3df0747510d2"
      },
      "source": [
        "train_images.shape"
      ],
      "execution_count": null,
      "outputs": [
        {
          "output_type": "execute_result",
          "data": {
            "text/plain": [
              "(60000, 28, 28)"
            ]
          },
          "metadata": {
            "tags": []
          },
          "execution_count": 70
        }
      ]
    },
    {
      "cell_type": "code",
      "metadata": {
        "id": "PbdF7vP-CTfS",
        "colab_type": "code",
        "colab": {
          "base_uri": "https://localhost:8080/",
          "height": 35
        },
        "outputId": "342b8a56-9122-4a23-9568-e80e5d2e12a0"
      },
      "source": [
        "train_images[0].shape"
      ],
      "execution_count": null,
      "outputs": [
        {
          "output_type": "execute_result",
          "data": {
            "text/plain": [
              "(28, 28)"
            ]
          },
          "metadata": {
            "tags": []
          },
          "execution_count": 71
        }
      ]
    },
    {
      "cell_type": "code",
      "metadata": {
        "id": "johfOX7cCVVS",
        "colab_type": "code",
        "colab": {
          "base_uri": "https://localhost:8080/",
          "height": 35
        },
        "outputId": "055d908a-fae3-4436-8411-1db8490f572c"
      },
      "source": [
        "train_images[0,7,10] # 숫자 부분"
      ],
      "execution_count": null,
      "outputs": [
        {
          "output_type": "execute_result",
          "data": {
            "text/plain": [
              "253"
            ]
          },
          "metadata": {
            "tags": []
          },
          "execution_count": 72
        }
      ]
    },
    {
      "cell_type": "markdown",
      "metadata": {
        "id": "TB8Rxm08CiD1",
        "colab_type": "text"
      },
      "source": [
        "## 3. 이미지 데이터 전처리\n",
        "* 딥러닝 모델에서 학습하기 쉬운 형태로 입력데이터 전처리(정규화, 필터 차원 일치)\n",
        "* 이미지 데이터이므로 차원 추가\n",
        "* 이미지는 전형적으로 높이, 너비, 컬러 채널의 3차원으로 이루어짐\n",
        "* 흑백 이미지는 하나의 컬러 채널만 가지고 있어 2D 텐서로 저장 가능\n",
        "* 하지만 관례상 이미지 텐서는 항상 3D로 저장\n"
      ]
    },
    {
      "cell_type": "markdown",
      "metadata": {
        "id": "cN-V8dcNGmfv",
        "colab_type": "text"
      },
      "source": [
        "* 정규화 : 값을 0과 1 사이로 스케일을 조정\n",
        "* 정규화 하지 않은 데이터의 값이 지나치게 크기가 크다면, 이는 편향 된 결과를 야기할 수 있음\n",
        "* 흑백 이미지 : 2D->3D 바꾸고, 값 정규화"
      ]
    },
    {
      "cell_type": "code",
      "metadata": {
        "id": "GX4vWP9LCZ2V",
        "colab_type": "code",
        "colab": {
          "base_uri": "https://localhost:8080/",
          "height": 35
        },
        "outputId": "e76ac969-d9dc-4ef9-f25a-a1f70ebe7c59"
      },
      "source": [
        "train_images.dtype"
      ],
      "execution_count": null,
      "outputs": [
        {
          "output_type": "execute_result",
          "data": {
            "text/plain": [
              "dtype('uint8')"
            ]
          },
          "metadata": {
            "tags": []
          },
          "execution_count": 73
        }
      ]
    },
    {
      "cell_type": "code",
      "metadata": {
        "id": "GqzRx5QOCnih",
        "colab_type": "code",
        "colab": {}
      },
      "source": [
        "(train_images, train_labels), (test_images, test_labels) = mnist.load_data()\n",
        "\n",
        "train_images = train_images.reshape((60000,28,28,1))\n",
        "train_images = train_images.astype('float32') / 255 # float로 바꾸고 255로 나누면 0~1사이로 표준화됨\n",
        "\n",
        "test_images = test_images.reshape((10000,28,28,1))\n",
        "test_images = test_images.astype('float32') / 255 # float로 바꾸고 255로 나누면 0~1사이로 표준화됨"
      ],
      "execution_count": null,
      "outputs": []
    },
    {
      "cell_type": "code",
      "metadata": {
        "id": "PdA-ueq6DuXz",
        "colab_type": "code",
        "colab": {
          "base_uri": "https://localhost:8080/",
          "height": 35
        },
        "outputId": "48bbe356-f197-40bb-8fd8-73bf822694e2"
      },
      "source": [
        "train_images.shape"
      ],
      "execution_count": null,
      "outputs": [
        {
          "output_type": "execute_result",
          "data": {
            "text/plain": [
              "(60000, 28, 28, 1)"
            ]
          },
          "metadata": {
            "tags": []
          },
          "execution_count": 75
        }
      ]
    },
    {
      "cell_type": "code",
      "metadata": {
        "id": "_fB65m7qDaN-",
        "colab_type": "code",
        "colab": {
          "base_uri": "https://localhost:8080/",
          "height": 35
        },
        "outputId": "8f644a93-4f62-4024-f3d3-a4f7f0e4ed04"
      },
      "source": [
        "# 값 확인\n",
        "train_images[0,7,10,0]"
      ],
      "execution_count": null,
      "outputs": [
        {
          "output_type": "execute_result",
          "data": {
            "text/plain": [
              "0.99215686"
            ]
          },
          "metadata": {
            "tags": []
          },
          "execution_count": 76
        }
      ]
    },
    {
      "cell_type": "markdown",
      "metadata": {
        "id": "Sle2522kGMg0",
        "colab_type": "text"
      },
      "source": [
        "## 4. label one-hot encoding"
      ]
    },
    {
      "cell_type": "code",
      "metadata": {
        "id": "t8HPwE9yDc6E",
        "colab_type": "code",
        "colab": {}
      },
      "source": [
        "from tensorflow.keras.utils import to_categorical\n",
        "\n",
        "train_labels = to_categorical(train_labels)\n",
        "test_labels = to_categorical(test_labels)"
      ],
      "execution_count": null,
      "outputs": []
    },
    {
      "cell_type": "code",
      "metadata": {
        "id": "Hfg3aTC4FzhC",
        "colab_type": "code",
        "colab": {}
      },
      "source": [
        ""
      ],
      "execution_count": null,
      "outputs": []
    },
    {
      "cell_type": "code",
      "metadata": {
        "id": "1uPAsvf_GAxk",
        "colab_type": "code",
        "colab": {}
      },
      "source": [
        ""
      ],
      "execution_count": null,
      "outputs": []
    },
    {
      "cell_type": "code",
      "metadata": {
        "id": "lWjkIKlAFl1k",
        "colab_type": "code",
        "colab": {
          "base_uri": "https://localhost:8080/",
          "height": 179
        },
        "outputId": "1ba43292-e254-420b-c3b1-f0cf22a9bd8b"
      },
      "source": [
        "print(train_labels.shape)\n",
        "print(train_labels)\n",
        "print(train_labels[0])"
      ],
      "execution_count": null,
      "outputs": [
        {
          "output_type": "stream",
          "text": [
            "(60000, 10)\n",
            "[[0. 0. 0. ... 0. 0. 0.]\n",
            " [1. 0. 0. ... 0. 0. 0.]\n",
            " [0. 0. 0. ... 0. 0. 0.]\n",
            " ...\n",
            " [0. 0. 0. ... 0. 0. 0.]\n",
            " [0. 0. 0. ... 0. 0. 0.]\n",
            " [0. 0. 0. ... 0. 1. 0.]]\n",
            "[0. 0. 0. 0. 0. 1. 0. 0. 0. 0.]\n"
          ],
          "name": "stdout"
        }
      ]
    },
    {
      "cell_type": "markdown",
      "metadata": {
        "id": "4enVKtYPHnPp",
        "colab_type": "text"
      },
      "source": [
        "## 5. 모델 만들기"
      ]
    },
    {
      "cell_type": "markdown",
      "metadata": {
        "id": "mRShKWHdH_1k",
        "colab_type": "text"
      },
      "source": [
        "### Conv2D\n",
        "* padding : 패딩 (default는 사용안함)\n",
        "* kernel : 커널 크기\n",
        "* stride : 간격\n",
        "* filter : 사용할 필터 갯수\n",
        "* activation : 활성화 함수(relu)"
      ]
    },
    {
      "cell_type": "markdown",
      "metadata": {
        "id": "N0tqblbBIWG0",
        "colab_type": "text"
      },
      "source": [
        "### MaxPooling\n",
        "\n",
        "* kernel : 커널 크기\n",
        "* stride : 간격"
      ]
    },
    {
      "cell_type": "code",
      "metadata": {
        "id": "Z3n5CmjCFrHD",
        "colab_type": "code",
        "colab": {}
      },
      "source": [
        "from tensorflow.keras import models, layers"
      ],
      "execution_count": null,
      "outputs": []
    },
    {
      "cell_type": "markdown",
      "metadata": {
        "id": "l9LaUTJnKv-W",
        "colab_type": "text"
      },
      "source": [
        "* 컨볼루션 레이어"
      ]
    },
    {
      "cell_type": "code",
      "metadata": {
        "id": "tpgDdSCFHtgo",
        "colab_type": "code",
        "colab": {}
      },
      "source": [
        "# Sequential 모델 객체 생성\n",
        "model = models.Sequential()\n",
        "\n",
        "# 첫번째 층\n",
        "model.add(layers.Conv2D(filters=32, kernel_size=(3,3), activation='relu', input_shape=(28,28,1))) # (26,26,32)\n",
        "model.add(layers.MaxPool2D(pool_size=(2,2))) #(13,13,32)\n",
        "\n",
        "# 두번째 층\n",
        "model.add(layers.Conv2D(filters=64, kernel_size=(3,3), activation='relu')) # (11,11,64)\n",
        "model.add(layers.MaxPool2D(pool_size=(2,2))) # (5,5,64)\n",
        "\n",
        "# 세번째 층\n",
        "model.add(layers.Conv2D(filters=64, kernel_size=(3,3), activation='relu')) # (3,3,64)"
      ],
      "execution_count": null,
      "outputs": []
    },
    {
      "cell_type": "markdown",
      "metadata": {
        "id": "QMPE9AW4Ky8v",
        "colab_type": "text"
      },
      "source": [
        "* 분류 레이어"
      ]
    },
    {
      "cell_type": "code",
      "metadata": {
        "id": "BHyWMlA5InSt",
        "colab_type": "code",
        "colab": {}
      },
      "source": [
        "model.add(layers.Flatten())\n",
        "model.add(layers.Dense(units=64, activation='relu'))\n",
        "model.add(layers.Dense(units=10, activation='softmax'))"
      ],
      "execution_count": null,
      "outputs": []
    },
    {
      "cell_type": "code",
      "metadata": {
        "id": "NdLvNekgK9Z0",
        "colab_type": "code",
        "colab": {
          "base_uri": "https://localhost:8080/",
          "height": 449
        },
        "outputId": "1068fae0-3ea4-4092-8969-a039fe44e669"
      },
      "source": [
        "model.summary()"
      ],
      "execution_count": null,
      "outputs": [
        {
          "output_type": "stream",
          "text": [
            "Model: \"sequential_3\"\n",
            "_________________________________________________________________\n",
            "Layer (type)                 Output Shape              Param #   \n",
            "=================================================================\n",
            "conv2d_7 (Conv2D)            (None, 26, 26, 32)        320       \n",
            "_________________________________________________________________\n",
            "max_pooling2d_4 (MaxPooling2 (None, 13, 13, 32)        0         \n",
            "_________________________________________________________________\n",
            "conv2d_8 (Conv2D)            (None, 11, 11, 64)        18496     \n",
            "_________________________________________________________________\n",
            "max_pooling2d_5 (MaxPooling2 (None, 5, 5, 64)          0         \n",
            "_________________________________________________________________\n",
            "conv2d_9 (Conv2D)            (None, 3, 3, 64)          36928     \n",
            "_________________________________________________________________\n",
            "flatten_3 (Flatten)          (None, 576)               0         \n",
            "_________________________________________________________________\n",
            "dense_3 (Dense)              (None, 64)                36928     \n",
            "_________________________________________________________________\n",
            "dense_4 (Dense)              (None, 10)                650       \n",
            "=================================================================\n",
            "Total params: 93,322\n",
            "Trainable params: 93,322\n",
            "Non-trainable params: 0\n",
            "_________________________________________________________________\n"
          ],
          "name": "stdout"
        }
      ]
    },
    {
      "cell_type": "markdown",
      "metadata": {
        "id": "lf57xpjMMd6c",
        "colab_type": "text"
      },
      "source": [
        "* param : 학습 파라미터 : w와 b 값을 나타냄\n",
        "* Param이 몇개있는가\n",
        "\n",
        "* Conv2D : 필터갯수 * 입력 크기 * 커널넓이 + 필터갯수\n",
        "  \n",
        "\n"
      ]
    },
    {
      "cell_type": "code",
      "metadata": {
        "id": "x3hoOhQ2LC3v",
        "colab_type": "code",
        "colab": {
          "base_uri": "https://localhost:8080/",
          "height": 35
        },
        "outputId": "549764c0-0d79-4dae-a2aa-1cbe728df760"
      },
      "source": [
        "# Conv 1\n",
        "32 * (3 * 3) + 32 "
      ],
      "execution_count": null,
      "outputs": [
        {
          "output_type": "execute_result",
          "data": {
            "text/plain": [
              "320"
            ]
          },
          "metadata": {
            "tags": []
          },
          "execution_count": 83
        }
      ]
    },
    {
      "cell_type": "code",
      "metadata": {
        "id": "5MLWzm-JM_2g",
        "colab_type": "code",
        "colab": {
          "base_uri": "https://localhost:8080/",
          "height": 35
        },
        "outputId": "b7b43dfd-715b-4492-b7ca-b1100b39239b"
      },
      "source": [
        "# Conv 2 \n",
        "64 * (32 * 3 * 3) + 64"
      ],
      "execution_count": null,
      "outputs": [
        {
          "output_type": "execute_result",
          "data": {
            "text/plain": [
              "18496"
            ]
          },
          "metadata": {
            "tags": []
          },
          "execution_count": 84
        }
      ]
    },
    {
      "cell_type": "code",
      "metadata": {
        "id": "SA54Kz5YNM60",
        "colab_type": "code",
        "colab": {
          "base_uri": "https://localhost:8080/",
          "height": 35
        },
        "outputId": "f355abf8-9c37-47a8-e669-73d2ddfba262"
      },
      "source": [
        "# Conv3\n",
        "64 * (64 * 3 * 3) + 64"
      ],
      "execution_count": null,
      "outputs": [
        {
          "output_type": "execute_result",
          "data": {
            "text/plain": [
              "36928"
            ]
          },
          "metadata": {
            "tags": []
          },
          "execution_count": 85
        }
      ]
    },
    {
      "cell_type": "code",
      "metadata": {
        "id": "07qxl9pINVCn",
        "colab_type": "code",
        "colab": {
          "base_uri": "https://localhost:8080/",
          "height": 35
        },
        "outputId": "b23890c8-1f82-4e03-8dc2-bfbc06a7d91b"
      },
      "source": [
        "# Dense 1\n",
        "64 * 576 + 64"
      ],
      "execution_count": null,
      "outputs": [
        {
          "output_type": "execute_result",
          "data": {
            "text/plain": [
              "36928"
            ]
          },
          "metadata": {
            "tags": []
          },
          "execution_count": 86
        }
      ]
    },
    {
      "cell_type": "code",
      "metadata": {
        "id": "yXn_-ltONglF",
        "colab_type": "code",
        "colab": {
          "base_uri": "https://localhost:8080/",
          "height": 35
        },
        "outputId": "04850b6a-54d1-40d7-8b8d-5f943ecf1190"
      },
      "source": [
        "# Dense 2\n",
        "10 * 64 + 10"
      ],
      "execution_count": null,
      "outputs": [
        {
          "output_type": "execute_result",
          "data": {
            "text/plain": [
              "650"
            ]
          },
          "metadata": {
            "tags": []
          },
          "execution_count": 87
        }
      ]
    },
    {
      "cell_type": "markdown",
      "metadata": {
        "id": "fJNkGH4FOAA1",
        "colab_type": "text"
      },
      "source": [
        "## 6. 컴파일\n",
        "* loss(손실함수) : 훈련 데이터에서 신경망의 성능을 측정하는 방법\n",
        "* optimizer : 입력된 데이터와 손실함수를 기반으로 네트워크를 업데이트 하는 매커니즘\n",
        "* metrics : 훈련과 테스트 과정을 모니터링할 지표"
      ]
    },
    {
      "cell_type": "code",
      "metadata": {
        "id": "czVZszmDNu3Z",
        "colab_type": "code",
        "colab": {}
      },
      "source": [
        "model.compile(optimizer='rmsprop', loss='categorical_crossentropy', metrics=['accuracy'])"
      ],
      "execution_count": null,
      "outputs": []
    },
    {
      "cell_type": "markdown",
      "metadata": {
        "id": "PRoLcWfOOV3d",
        "colab_type": "text"
      },
      "source": [
        "## 7. 훈련\n",
        "* x : 입력 데이터\n",
        "* y : 라벨 값\n",
        "* batch_size : 몇 개의 샘플로 가중치를 갱신할 것인지 지정\n",
        "* epochs : 학습 반복 횟수\n",
        "* 1 epochs = batch_size * step 수\n",
        "* validation_split: 0과 1 사이의 부동소수점 값, 유효성 검사 데이터로 사용할 훈련 데이터의 비율\n",
        "\n",
        "* 60000 * 0.8 = 48000\n"
      ]
    },
    {
      "cell_type": "code",
      "metadata": {
        "id": "i6OdhYoEOUBK",
        "colab_type": "code",
        "colab": {
          "base_uri": "https://localhost:8080/",
          "height": 1000
        },
        "outputId": "b944d30e-d6b6-444b-faf5-f6a7702e6ffd"
      },
      "source": [
        "history = model.fit(x=train_images, y=train_labels, epochs=30, batch_size=64, validation_split=0.2)"
      ],
      "execution_count": null,
      "outputs": [
        {
          "output_type": "stream",
          "text": [
            "Epoch 1/30\n",
            "750/750 [==============================] - 8s 10ms/step - loss: 0.1971 - accuracy: 0.9378 - val_loss: 0.0946 - val_accuracy: 0.9693\n",
            "Epoch 2/30\n",
            "750/750 [==============================] - 7s 10ms/step - loss: 0.0537 - accuracy: 0.9834 - val_loss: 0.0433 - val_accuracy: 0.9873\n",
            "Epoch 3/30\n",
            "750/750 [==============================] - 7s 10ms/step - loss: 0.0371 - accuracy: 0.9892 - val_loss: 0.0402 - val_accuracy: 0.9882\n",
            "Epoch 4/30\n",
            "750/750 [==============================] - 7s 10ms/step - loss: 0.0270 - accuracy: 0.9916 - val_loss: 0.0450 - val_accuracy: 0.9862\n",
            "Epoch 5/30\n",
            "750/750 [==============================] - 7s 10ms/step - loss: 0.0215 - accuracy: 0.9934 - val_loss: 0.0387 - val_accuracy: 0.9896\n",
            "Epoch 6/30\n",
            "750/750 [==============================] - 7s 10ms/step - loss: 0.0171 - accuracy: 0.9947 - val_loss: 0.0402 - val_accuracy: 0.9907\n",
            "Epoch 7/30\n",
            "750/750 [==============================] - 7s 10ms/step - loss: 0.0132 - accuracy: 0.9955 - val_loss: 0.0515 - val_accuracy: 0.9893\n",
            "Epoch 8/30\n",
            "750/750 [==============================] - 7s 10ms/step - loss: 0.0115 - accuracy: 0.9966 - val_loss: 0.0444 - val_accuracy: 0.9908\n",
            "Epoch 9/30\n",
            "750/750 [==============================] - 7s 10ms/step - loss: 0.0098 - accuracy: 0.9969 - val_loss: 0.0469 - val_accuracy: 0.9905\n",
            "Epoch 10/30\n",
            "750/750 [==============================] - 7s 10ms/step - loss: 0.0074 - accuracy: 0.9974 - val_loss: 0.0584 - val_accuracy: 0.9911\n",
            "Epoch 11/30\n",
            "750/750 [==============================] - 7s 10ms/step - loss: 0.0060 - accuracy: 0.9981 - val_loss: 0.0643 - val_accuracy: 0.9908\n",
            "Epoch 12/30\n",
            "750/750 [==============================] - 7s 10ms/step - loss: 0.0064 - accuracy: 0.9978 - val_loss: 0.0504 - val_accuracy: 0.9902\n",
            "Epoch 13/30\n",
            "750/750 [==============================] - 7s 10ms/step - loss: 0.0054 - accuracy: 0.9983 - val_loss: 0.0521 - val_accuracy: 0.9912\n",
            "Epoch 14/30\n",
            "750/750 [==============================] - 7s 10ms/step - loss: 0.0041 - accuracy: 0.9987 - val_loss: 0.0718 - val_accuracy: 0.9894\n",
            "Epoch 15/30\n",
            "750/750 [==============================] - 7s 10ms/step - loss: 0.0037 - accuracy: 0.9987 - val_loss: 0.0802 - val_accuracy: 0.9909\n",
            "Epoch 16/30\n",
            "750/750 [==============================] - 7s 10ms/step - loss: 0.0044 - accuracy: 0.9988 - val_loss: 0.0785 - val_accuracy: 0.9908\n",
            "Epoch 17/30\n",
            "750/750 [==============================] - 7s 10ms/step - loss: 0.0036 - accuracy: 0.9989 - val_loss: 0.0718 - val_accuracy: 0.9912\n",
            "Epoch 18/30\n",
            "750/750 [==============================] - 7s 10ms/step - loss: 0.0032 - accuracy: 0.9990 - val_loss: 0.0830 - val_accuracy: 0.9900\n",
            "Epoch 19/30\n",
            "750/750 [==============================] - 7s 10ms/step - loss: 0.0025 - accuracy: 0.9994 - val_loss: 0.0810 - val_accuracy: 0.9918\n",
            "Epoch 20/30\n",
            "750/750 [==============================] - 7s 10ms/step - loss: 0.0023 - accuracy: 0.9993 - val_loss: 0.1172 - val_accuracy: 0.9896\n",
            "Epoch 21/30\n",
            "750/750 [==============================] - 7s 10ms/step - loss: 0.0021 - accuracy: 0.9994 - val_loss: 0.0932 - val_accuracy: 0.9914\n",
            "Epoch 22/30\n",
            "750/750 [==============================] - 7s 10ms/step - loss: 0.0031 - accuracy: 0.9992 - val_loss: 0.0908 - val_accuracy: 0.9916\n",
            "Epoch 23/30\n",
            "750/750 [==============================] - 7s 10ms/step - loss: 0.0027 - accuracy: 0.9994 - val_loss: 0.0927 - val_accuracy: 0.9917\n",
            "Epoch 24/30\n",
            "750/750 [==============================] - 7s 10ms/step - loss: 0.0025 - accuracy: 0.9993 - val_loss: 0.1006 - val_accuracy: 0.9908\n",
            "Epoch 25/30\n",
            "750/750 [==============================] - 7s 10ms/step - loss: 0.0025 - accuracy: 0.9993 - val_loss: 0.1133 - val_accuracy: 0.9906\n",
            "Epoch 26/30\n",
            "750/750 [==============================] - 7s 10ms/step - loss: 0.0030 - accuracy: 0.9992 - val_loss: 0.1043 - val_accuracy: 0.9909\n",
            "Epoch 27/30\n",
            "750/750 [==============================] - 7s 10ms/step - loss: 0.0019 - accuracy: 0.9995 - val_loss: 0.1229 - val_accuracy: 0.9899\n",
            "Epoch 28/30\n",
            "750/750 [==============================] - 7s 10ms/step - loss: 0.0023 - accuracy: 0.9995 - val_loss: 0.1227 - val_accuracy: 0.9909\n",
            "Epoch 29/30\n",
            "750/750 [==============================] - 7s 10ms/step - loss: 0.0017 - accuracy: 0.9996 - val_loss: 0.1429 - val_accuracy: 0.9894\n",
            "Epoch 30/30\n",
            "750/750 [==============================] - 7s 10ms/step - loss: 0.0018 - accuracy: 0.9996 - val_loss: 0.1218 - val_accuracy: 0.9906\n"
          ],
          "name": "stdout"
        }
      ]
    },
    {
      "cell_type": "markdown",
      "metadata": {
        "id": "7Qe3HwBZRYQv",
        "colab_type": "text"
      },
      "source": [
        "## 8. 모델 평가하기"
      ]
    },
    {
      "cell_type": "code",
      "metadata": {
        "id": "O5CKXWJSRP6R",
        "colab_type": "code",
        "colab": {
          "base_uri": "https://localhost:8080/",
          "height": 35
        },
        "outputId": "a8b1626f-2369-40ac-e22a-1e6751089148"
      },
      "source": [
        "test_loss, test_acc = model.evaluate(test_images, test_labels)"
      ],
      "execution_count": null,
      "outputs": [
        {
          "output_type": "stream",
          "text": [
            "313/313 [==============================] - 1s 4ms/step - loss: 0.0978 - accuracy: 0.9907\n"
          ],
          "name": "stdout"
        }
      ]
    },
    {
      "cell_type": "markdown",
      "metadata": {
        "id": "9WfmJs4aR7eD",
        "colab_type": "text"
      },
      "source": [
        "* DNN은 97.8 %\n",
        "* DNN에 비하여 더 좋은 성능을 보여줌"
      ]
    },
    {
      "cell_type": "markdown",
      "metadata": {
        "id": "RC-ynrfJSjGv",
        "colab_type": "text"
      },
      "source": [
        "## 9. 성능 시각화"
      ]
    },
    {
      "cell_type": "code",
      "metadata": {
        "id": "5zxuUJDsReI-",
        "colab_type": "code",
        "colab": {}
      },
      "source": [
        "import matplotlib.pyplot as plt\n",
        "\n",
        "acc = history.history['accuracy']\n",
        "val_acc = history.history['val_accuracy']\n",
        "\n",
        "loss = history.history['loss']\n",
        "val_loss = history.history['val_loss']\n",
        "\n",
        "epochs = range(1, len(acc) + 1)"
      ],
      "execution_count": null,
      "outputs": []
    },
    {
      "cell_type": "code",
      "metadata": {
        "id": "omlhG1JwSwvq",
        "colab_type": "code",
        "colab": {
          "base_uri": "https://localhost:8080/",
          "height": 281
        },
        "outputId": "0aeb7aa1-4bd6-45ec-b73e-dfcbf7898f1c"
      },
      "source": [
        "plt.plot(epochs, acc, 'bo', label='Training acc')\n",
        "plt.plot(epochs, val_acc, 'b', label='Validation acc')\n",
        "plt.title('Training and validation accuracy')\n",
        "plt.legend()\n",
        "\n",
        "plt.show()"
      ],
      "execution_count": null,
      "outputs": [
        {
          "output_type": "display_data",
          "data": {
            "image/png": "[encoded data removed]",
            "text/plain": [
              "<Figure size 432x288 with 1 Axes>"
            ]
          },
          "metadata": {
            "tags": [],
            "needs_background": "light"
          }
        }
      ]
    },
    {
      "cell_type": "markdown",
      "metadata": {
        "id": "hyXGU6uOTQim",
        "colab_type": "text"
      },
      "source": [
        "* validation acc는 더이상 증가하지 않음 -> overfiting"
      ]
    },
    {
      "cell_type": "code",
      "metadata": {
        "id": "szZXooakTCBA",
        "colab_type": "code",
        "colab": {
          "base_uri": "https://localhost:8080/",
          "height": 281
        },
        "outputId": "1121d53c-794f-4b47-af0d-049714ce352f"
      },
      "source": [
        "plt.plot(epochs, loss, 'bo', label='Training loss')\n",
        "plt.plot(epochs, val_loss, 'b', label='Validation loss')\n",
        "plt.title('Training and validation loss')\n",
        "plt.legend()\n",
        "\n",
        "plt.show()"
      ],
      "execution_count": null,
      "outputs": [
        {
          "output_type": "display_data",
          "data": {
            "image/png": "[encoded data removed]",
            "text/plain": [
              "<Figure size 432x288 with 1 Axes>"
            ]
          },
          "metadata": {
            "tags": [],
            "needs_background": "light"
          }
        }
      ]
    },
    {
      "cell_type": "markdown",
      "metadata": {
        "id": "kRzbrSDWVoMA",
        "colab_type": "text"
      },
      "source": [
        "10. 모델 사용하기"
      ]
    },
    {
      "cell_type": "code",
      "metadata": {
        "id": "jMOpE9NYTcGJ",
        "colab_type": "code",
        "colab": {
          "base_uri": "https://localhost:8080/",
          "height": 71
        },
        "outputId": "1182c3ee-7fec-4adc-f77e-a8d1d5552886"
      },
      "source": [
        "import numpy as np\n",
        "print(test_images[0].shape)\n",
        "predict = model.predict(test_images[8].reshape(1,28,28,1))\n",
        "print(np.argmax(test_labels[8]))\n",
        "print(np.argmax(predict))"
      ],
      "execution_count": null,
      "outputs": [
        {
          "output_type": "stream",
          "text": [
            "(28, 28, 1)\n",
            "5\n",
            "5\n"
          ],
          "name": "stdout"
        }
      ]
    },
    {
      "cell_type": "code",
      "metadata": {
        "id": "guboQH4sVy-u",
        "colab_type": "code",
        "colab": {
          "base_uri": "https://localhost:8080/",
          "height": 265
        },
        "outputId": "b8b9066e-b923-4861-d65b-a799d4d2af2a"
      },
      "source": [
        "plt.figure()\n",
        "plt.imshow(test_images[8].reshape(28,28)*255)\n",
        "plt.colorbar()\n",
        "plt.grid(False)\n",
        "plt.show()"
      ],
      "execution_count": null,
      "outputs": [
        {
          "output_type": "display_data",
          "data": {
            "image/png": "[encoded data removed]",
            "text/plain": [
              "<Figure size 432x288 with 2 Axes>"
            ]
          },
          "metadata": {
            "tags": [],
            "needs_background": "light"
          }
        }
      ]
    }
  ]
}